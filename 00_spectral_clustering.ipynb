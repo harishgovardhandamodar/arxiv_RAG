{
  "cells": [
    {
      "cell_type": "code",
      "execution_count": 1,
      "metadata": {
        "_cell_guid": "b1076dfc-b9ad-4769-8c92-a6c4dae69d19",
        "_uuid": "8f2839f25d086af736a60e9eeb907d3b93b6e0e5",
        "execution": {
          "iopub.execute_input": "2023-11-12T19:03:22.68653Z",
          "iopub.status.busy": "2023-11-12T19:03:22.686162Z",
          "iopub.status.idle": "2023-11-12T19:03:23.111595Z",
          "shell.execute_reply": "2023-11-12T19:03:23.110827Z",
          "shell.execute_reply.started": "2023-11-12T19:03:22.6865Z"
        },
        "id": "o7Lrfl1_dFet",
        "trusted": true
      },
      "outputs": [],
      "source": [
        "# This Python 3 environment comes with many helpful analytics libraries installed\n",
        "# It is defined by the kaggle/python Docker image: https://github.com/kaggle/docker-python\n",
        "# For example, here's several helpful packages to load\n",
        "\n",
        "import numpy as np # linear algebra\n",
        "import pandas as pd # data processing, CSV file I/O (e.g. pd.read_csv)\n",
        "\n",
        "# Input data files are available in the read-only \"../input/\" directory\n",
        "# For example, running this (by clicking run or pressing Shift+Enter) will list all files under the input directory\n",
        "\n",
        "import os\n",
        "for dirname, _, filenames in os.walk('/kaggle/input'):\n",
        "    for filename in filenames:\n",
        "        print(os.path.join(dirname, filename))\n",
        "\n",
        "# You can write up to 20GB to the current directory (/kaggle/working/) that gets preserved as output when you create a version using \"Save & Run All\"\n",
        "# You can also write temporary files to /kaggle/temp/, but they won't be saved outside of the current session"
      ]
    },
    {
      "cell_type": "code",
      "execution_count": 2,
      "metadata": {
        "execution": {
          "iopub.execute_input": "2023-11-12T19:03:23.113817Z",
          "iopub.status.busy": "2023-11-12T19:03:23.113174Z",
          "iopub.status.idle": "2023-11-12T19:03:42.205267Z",
          "shell.execute_reply": "2023-11-12T19:03:42.203869Z",
          "shell.execute_reply.started": "2023-11-12T19:03:23.113788Z"
        },
        "id": "u3BBmVhvdFet",
        "trusted": true
      },
      "outputs": [
        {
          "name": "stdout",
          "output_type": "stream",
          "text": [
            "Requirement already satisfied: scikit-learn in /Users/fox/anaconda3/envs/dl/lib/python3.10/site-packages (1.4.1.post1)\n",
            "Requirement already satisfied: numpy<2.0,>=1.19.5 in /Users/fox/anaconda3/envs/dl/lib/python3.10/site-packages (from scikit-learn) (1.26.3)\n",
            "Requirement already satisfied: scipy>=1.6.0 in /Users/fox/anaconda3/envs/dl/lib/python3.10/site-packages (from scikit-learn) (1.12.0)\n",
            "Requirement already satisfied: joblib>=1.2.0 in /Users/fox/anaconda3/envs/dl/lib/python3.10/site-packages (from scikit-learn) (1.3.2)\n",
            "Requirement already satisfied: threadpoolctl>=2.0.0 in /Users/fox/anaconda3/envs/dl/lib/python3.10/site-packages (from scikit-learn) (3.3.0)\n"
          ]
        }
      ],
      "source": [
        "!pip install scikit-learn --upgrade"
      ]
    },
    {
      "cell_type": "code",
      "execution_count": 3,
      "metadata": {
        "execution": {
          "iopub.execute_input": "2023-11-12T19:03:42.207602Z",
          "iopub.status.busy": "2023-11-12T19:03:42.207121Z",
          "iopub.status.idle": "2023-11-12T19:03:42.803446Z",
          "shell.execute_reply": "2023-11-12T19:03:42.802317Z",
          "shell.execute_reply.started": "2023-11-12T19:03:42.207556Z"
        },
        "id": "SNvFtybfdFeu",
        "trusted": true
      },
      "outputs": [
        {
          "data": {
            "text/plain": [
              "'1.4.1.post1'"
            ]
          },
          "execution_count": 3,
          "metadata": {},
          "output_type": "execute_result"
        }
      ],
      "source": [
        "import sklearn\n",
        "sklearn.__version__"
      ]
    },
    {
      "cell_type": "markdown",
      "metadata": {
        "id": "FFaJYp_FdFeu"
      },
      "source": [
        "# Loading and cleaning the graph"
      ]
    },
    {
      "cell_type": "code",
      "execution_count": 4,
      "metadata": {
        "execution": {
          "iopub.execute_input": "2023-11-12T19:03:42.806631Z",
          "iopub.status.busy": "2023-11-12T19:03:42.806085Z",
          "iopub.status.idle": "2023-11-12T19:03:42.906241Z",
          "shell.execute_reply": "2023-11-12T19:03:42.905295Z",
          "shell.execute_reply.started": "2023-11-12T19:03:42.806598Z"
        },
        "id": "qmu6FaIvdFeu",
        "trusted": true
      },
      "outputs": [],
      "source": [
        "import networkx as nx\n",
        "import json"
      ]
    },
    {
      "cell_type": "code",
      "execution_count": 6,
      "metadata": {
        "execution": {
          "iopub.execute_input": "2023-11-12T19:03:42.908326Z",
          "iopub.status.busy": "2023-11-12T19:03:42.907876Z",
          "iopub.status.idle": "2023-11-12T19:03:51.038643Z",
          "shell.execute_reply": "2023-11-12T19:03:51.037674Z",
          "shell.execute_reply.started": "2023-11-12T19:03:42.908256Z"
        },
        "id": "K0-FiliOdFev",
        "trusted": true
      },
      "outputs": [
        {
          "ename": "JSONDecodeError",
          "evalue": "Extra data: line 2 column 1 (char 1689)",
          "output_type": "error",
          "traceback": [
            "\u001b[0;31m---------------------------------------------------------------------------\u001b[0m",
            "\u001b[0;31mJSONDecodeError\u001b[0m                           Traceback (most recent call last)",
            "Cell \u001b[0;32mIn[6], line 2\u001b[0m\n\u001b[1;32m      1\u001b[0m \u001b[38;5;28;01mwith\u001b[39;00m \u001b[38;5;28mopen\u001b[39m(\u001b[38;5;124m\"\u001b[39m\u001b[38;5;124m./arxiv-metadata-oai-snapshot.json\u001b[39m\u001b[38;5;124m\"\u001b[39m) \u001b[38;5;28;01mas\u001b[39;00m file:\n\u001b[0;32m----> 2\u001b[0m     graph_dict \u001b[38;5;241m=\u001b[39m \u001b[43mjson\u001b[49m\u001b[38;5;241;43m.\u001b[39;49m\u001b[43mload\u001b[49m\u001b[43m(\u001b[49m\u001b[43mfile\u001b[49m\u001b[43m)\u001b[49m\n",
            "File \u001b[0;32m~/anaconda3/envs/dl/lib/python3.10/json/__init__.py:293\u001b[0m, in \u001b[0;36mload\u001b[0;34m(fp, cls, object_hook, parse_float, parse_int, parse_constant, object_pairs_hook, **kw)\u001b[0m\n\u001b[1;32m    274\u001b[0m \u001b[38;5;28;01mdef\u001b[39;00m \u001b[38;5;21mload\u001b[39m(fp, \u001b[38;5;241m*\u001b[39m, \u001b[38;5;28mcls\u001b[39m\u001b[38;5;241m=\u001b[39m\u001b[38;5;28;01mNone\u001b[39;00m, object_hook\u001b[38;5;241m=\u001b[39m\u001b[38;5;28;01mNone\u001b[39;00m, parse_float\u001b[38;5;241m=\u001b[39m\u001b[38;5;28;01mNone\u001b[39;00m,\n\u001b[1;32m    275\u001b[0m         parse_int\u001b[38;5;241m=\u001b[39m\u001b[38;5;28;01mNone\u001b[39;00m, parse_constant\u001b[38;5;241m=\u001b[39m\u001b[38;5;28;01mNone\u001b[39;00m, object_pairs_hook\u001b[38;5;241m=\u001b[39m\u001b[38;5;28;01mNone\u001b[39;00m, \u001b[38;5;241m*\u001b[39m\u001b[38;5;241m*\u001b[39mkw):\n\u001b[1;32m    276\u001b[0m \u001b[38;5;250m    \u001b[39m\u001b[38;5;124;03m\"\"\"Deserialize ``fp`` (a ``.read()``-supporting file-like object containing\u001b[39;00m\n\u001b[1;32m    277\u001b[0m \u001b[38;5;124;03m    a JSON document) to a Python object.\u001b[39;00m\n\u001b[1;32m    278\u001b[0m \n\u001b[0;32m   (...)\u001b[0m\n\u001b[1;32m    291\u001b[0m \u001b[38;5;124;03m    kwarg; otherwise ``JSONDecoder`` is used.\u001b[39;00m\n\u001b[1;32m    292\u001b[0m \u001b[38;5;124;03m    \"\"\"\u001b[39;00m\n\u001b[0;32m--> 293\u001b[0m     \u001b[38;5;28;01mreturn\u001b[39;00m \u001b[43mloads\u001b[49m\u001b[43m(\u001b[49m\u001b[43mfp\u001b[49m\u001b[38;5;241;43m.\u001b[39;49m\u001b[43mread\u001b[49m\u001b[43m(\u001b[49m\u001b[43m)\u001b[49m\u001b[43m,\u001b[49m\n\u001b[1;32m    294\u001b[0m \u001b[43m        \u001b[49m\u001b[38;5;28;43mcls\u001b[39;49m\u001b[38;5;241;43m=\u001b[39;49m\u001b[38;5;28;43mcls\u001b[39;49m\u001b[43m,\u001b[49m\u001b[43m \u001b[49m\u001b[43mobject_hook\u001b[49m\u001b[38;5;241;43m=\u001b[39;49m\u001b[43mobject_hook\u001b[49m\u001b[43m,\u001b[49m\n\u001b[1;32m    295\u001b[0m \u001b[43m        \u001b[49m\u001b[43mparse_float\u001b[49m\u001b[38;5;241;43m=\u001b[39;49m\u001b[43mparse_float\u001b[49m\u001b[43m,\u001b[49m\u001b[43m \u001b[49m\u001b[43mparse_int\u001b[49m\u001b[38;5;241;43m=\u001b[39;49m\u001b[43mparse_int\u001b[49m\u001b[43m,\u001b[49m\n\u001b[1;32m    296\u001b[0m \u001b[43m        \u001b[49m\u001b[43mparse_constant\u001b[49m\u001b[38;5;241;43m=\u001b[39;49m\u001b[43mparse_constant\u001b[49m\u001b[43m,\u001b[49m\u001b[43m \u001b[49m\u001b[43mobject_pairs_hook\u001b[49m\u001b[38;5;241;43m=\u001b[39;49m\u001b[43mobject_pairs_hook\u001b[49m\u001b[43m,\u001b[49m\u001b[43m \u001b[49m\u001b[38;5;241;43m*\u001b[39;49m\u001b[38;5;241;43m*\u001b[39;49m\u001b[43mkw\u001b[49m\u001b[43m)\u001b[49m\n",
            "File \u001b[0;32m~/anaconda3/envs/dl/lib/python3.10/json/__init__.py:346\u001b[0m, in \u001b[0;36mloads\u001b[0;34m(s, cls, object_hook, parse_float, parse_int, parse_constant, object_pairs_hook, **kw)\u001b[0m\n\u001b[1;32m    341\u001b[0m     s \u001b[38;5;241m=\u001b[39m s\u001b[38;5;241m.\u001b[39mdecode(detect_encoding(s), \u001b[38;5;124m'\u001b[39m\u001b[38;5;124msurrogatepass\u001b[39m\u001b[38;5;124m'\u001b[39m)\n\u001b[1;32m    343\u001b[0m \u001b[38;5;28;01mif\u001b[39;00m (\u001b[38;5;28mcls\u001b[39m \u001b[38;5;129;01mis\u001b[39;00m \u001b[38;5;28;01mNone\u001b[39;00m \u001b[38;5;129;01mand\u001b[39;00m object_hook \u001b[38;5;129;01mis\u001b[39;00m \u001b[38;5;28;01mNone\u001b[39;00m \u001b[38;5;129;01mand\u001b[39;00m\n\u001b[1;32m    344\u001b[0m         parse_int \u001b[38;5;129;01mis\u001b[39;00m \u001b[38;5;28;01mNone\u001b[39;00m \u001b[38;5;129;01mand\u001b[39;00m parse_float \u001b[38;5;129;01mis\u001b[39;00m \u001b[38;5;28;01mNone\u001b[39;00m \u001b[38;5;129;01mand\u001b[39;00m\n\u001b[1;32m    345\u001b[0m         parse_constant \u001b[38;5;129;01mis\u001b[39;00m \u001b[38;5;28;01mNone\u001b[39;00m \u001b[38;5;129;01mand\u001b[39;00m object_pairs_hook \u001b[38;5;129;01mis\u001b[39;00m \u001b[38;5;28;01mNone\u001b[39;00m \u001b[38;5;129;01mand\u001b[39;00m \u001b[38;5;129;01mnot\u001b[39;00m kw):\n\u001b[0;32m--> 346\u001b[0m     \u001b[38;5;28;01mreturn\u001b[39;00m \u001b[43m_default_decoder\u001b[49m\u001b[38;5;241;43m.\u001b[39;49m\u001b[43mdecode\u001b[49m\u001b[43m(\u001b[49m\u001b[43ms\u001b[49m\u001b[43m)\u001b[49m\n\u001b[1;32m    347\u001b[0m \u001b[38;5;28;01mif\u001b[39;00m \u001b[38;5;28mcls\u001b[39m \u001b[38;5;129;01mis\u001b[39;00m \u001b[38;5;28;01mNone\u001b[39;00m:\n\u001b[1;32m    348\u001b[0m     \u001b[38;5;28mcls\u001b[39m \u001b[38;5;241m=\u001b[39m JSONDecoder\n",
            "File \u001b[0;32m~/anaconda3/envs/dl/lib/python3.10/json/decoder.py:340\u001b[0m, in \u001b[0;36mJSONDecoder.decode\u001b[0;34m(self, s, _w)\u001b[0m\n\u001b[1;32m    338\u001b[0m end \u001b[38;5;241m=\u001b[39m _w(s, end)\u001b[38;5;241m.\u001b[39mend()\n\u001b[1;32m    339\u001b[0m \u001b[38;5;28;01mif\u001b[39;00m end \u001b[38;5;241m!=\u001b[39m \u001b[38;5;28mlen\u001b[39m(s):\n\u001b[0;32m--> 340\u001b[0m     \u001b[38;5;28;01mraise\u001b[39;00m JSONDecodeError(\u001b[38;5;124m\"\u001b[39m\u001b[38;5;124mExtra data\u001b[39m\u001b[38;5;124m\"\u001b[39m, s, end)\n\u001b[1;32m    341\u001b[0m \u001b[38;5;28;01mreturn\u001b[39;00m obj\n",
            "\u001b[0;31mJSONDecodeError\u001b[0m: Extra data: line 2 column 1 (char 1689)"
          ]
        }
      ],
      "source": [
        "with open(\"./arxiv-metadata-oai-snapshot.json\") as file:\n",
        "    graph_dict = json.load(file)"
      ]
    },
    {
      "cell_type": "code",
      "execution_count": null,
      "metadata": {
        "execution": {
          "iopub.execute_input": "2023-11-12T19:03:51.040295Z",
          "iopub.status.busy": "2023-11-12T19:03:51.039931Z",
          "iopub.status.idle": "2023-11-12T19:03:57.391617Z",
          "shell.execute_reply": "2023-11-12T19:03:57.39047Z",
          "shell.execute_reply.started": "2023-11-12T19:03:51.040264Z"
        },
        "id": "NTtpGSSodFev",
        "trusted": true
      },
      "outputs": [],
      "source": [
        "with open(\"/kaggle/input/arxiv-pda/papers.json\") as file:\n",
        "    papers = json.load(file)"
      ]
    },
    {
      "cell_type": "code",
      "execution_count": null,
      "metadata": {
        "execution": {
          "iopub.execute_input": "2023-11-12T19:03:57.393074Z",
          "iopub.status.busy": "2023-11-12T19:03:57.39276Z",
          "iopub.status.idle": "2023-11-12T19:04:17.278643Z",
          "shell.execute_reply": "2023-11-12T19:04:17.277692Z",
          "shell.execute_reply.started": "2023-11-12T19:03:57.393047Z"
        },
        "id": "H7TrycDWdFev",
        "trusted": true
      },
      "outputs": [],
      "source": [
        "import pandas as pd\n",
        "\n",
        "df_papers = pd.DataFrame(papers).T\n",
        "df_papers.head()"
      ]
    },
    {
      "cell_type": "code",
      "execution_count": null,
      "metadata": {
        "execution": {
          "iopub.execute_input": "2023-11-12T19:04:17.280657Z",
          "iopub.status.busy": "2023-11-12T19:04:17.280296Z",
          "iopub.status.idle": "2023-11-12T19:04:17.311698Z",
          "shell.execute_reply": "2023-11-12T19:04:17.310367Z",
          "shell.execute_reply.started": "2023-11-12T19:04:17.280629Z"
        },
        "id": "mrprDXMMdFev",
        "trusted": true
      },
      "outputs": [],
      "source": [
        "with open(\"/kaggle/input/arxiv-pda/unique_original_ids.json\") as file:\n",
        "    unique_original_ids = json.load(file)"
      ]
    },
    {
      "cell_type": "code",
      "execution_count": null,
      "metadata": {
        "execution": {
          "iopub.execute_input": "2023-11-12T19:04:17.317286Z",
          "iopub.status.busy": "2023-11-12T19:04:17.316549Z",
          "iopub.status.idle": "2023-11-12T19:04:17.493905Z",
          "shell.execute_reply": "2023-11-12T19:04:17.492636Z",
          "shell.execute_reply.started": "2023-11-12T19:04:17.317243Z"
        },
        "id": "PUYeSKJ4dFew",
        "trusted": true
      },
      "outputs": [],
      "source": [
        "missing_ids = set([k for k in graph_dict.keys() if k not in papers])\n",
        "len(missing_ids)"
      ]
    },
    {
      "cell_type": "code",
      "execution_count": null,
      "metadata": {
        "execution": {
          "iopub.execute_input": "2023-11-12T19:04:17.495911Z",
          "iopub.status.busy": "2023-11-12T19:04:17.495464Z",
          "iopub.status.idle": "2023-11-12T19:04:19.303249Z",
          "shell.execute_reply": "2023-11-12T19:04:19.302104Z",
          "shell.execute_reply.started": "2023-11-12T19:04:17.495868Z"
        },
        "id": "msPjMjc4dFew",
        "trusted": true
      },
      "outputs": [],
      "source": [
        "for k, refs in graph_dict.items():\n",
        "    if k in missing_ids:\n",
        "        print(\"k\", k)\n",
        "    for r in refs:\n",
        "        if r in missing_ids:\n",
        "            print(\"r\", r)"
      ]
    },
    {
      "cell_type": "code",
      "execution_count": null,
      "metadata": {
        "execution": {
          "iopub.execute_input": "2023-11-12T19:04:19.305229Z",
          "iopub.status.busy": "2023-11-12T19:04:19.304784Z",
          "iopub.status.idle": "2023-11-12T19:04:19.311157Z",
          "shell.execute_reply": "2023-11-12T19:04:19.310234Z",
          "shell.execute_reply.started": "2023-11-12T19:04:19.305191Z"
        },
        "id": "UKCdhgOndFew",
        "trusted": true
      },
      "outputs": [],
      "source": [
        "for id in missing_ids:\n",
        "    del graph_dict[id]"
      ]
    },
    {
      "cell_type": "code",
      "execution_count": null,
      "metadata": {
        "execution": {
          "iopub.execute_input": "2023-11-12T19:04:19.313004Z",
          "iopub.status.busy": "2023-11-12T19:04:19.312377Z",
          "iopub.status.idle": "2023-11-12T19:04:53.693623Z",
          "shell.execute_reply": "2023-11-12T19:04:53.692354Z",
          "shell.execute_reply.started": "2023-11-12T19:04:19.312972Z"
        },
        "id": "7TuZeMcrdFew",
        "trusted": true
      },
      "outputs": [],
      "source": [
        "graph = nx.Graph(graph_dict)"
      ]
    },
    {
      "cell_type": "markdown",
      "metadata": {
        "id": "pxr1Zvp6dFew"
      },
      "source": [
        "# Minimal graph analysis"
      ]
    },
    {
      "cell_type": "code",
      "execution_count": null,
      "metadata": {
        "execution": {
          "iopub.execute_input": "2023-11-12T19:04:53.695398Z",
          "iopub.status.busy": "2023-11-12T19:04:53.695021Z",
          "iopub.status.idle": "2023-11-12T19:04:58.628032Z",
          "shell.execute_reply": "2023-11-12T19:04:58.626905Z",
          "shell.execute_reply.started": "2023-11-12T19:04:53.695368Z"
        },
        "id": "jxqYt2UUdFew",
        "trusted": true
      },
      "outputs": [],
      "source": [
        "graph.number_of_nodes(), nx.number_connected_components(graph)"
      ]
    },
    {
      "cell_type": "code",
      "execution_count": null,
      "metadata": {
        "execution": {
          "iopub.execute_input": "2023-11-12T19:05:54.289894Z",
          "iopub.status.busy": "2023-11-12T19:05:54.289436Z",
          "iopub.status.idle": "2023-11-12T19:05:59.08802Z",
          "shell.execute_reply": "2023-11-12T19:05:59.08678Z",
          "shell.execute_reply.started": "2023-11-12T19:05:54.289859Z"
        },
        "id": "Fdzm_cm1dFew",
        "trusted": true
      },
      "outputs": [],
      "source": [
        "len(next(nx.connected_components(graph)))"
      ]
    },
    {
      "cell_type": "code",
      "execution_count": null,
      "metadata": {
        "execution": {
          "iopub.execute_input": "2023-11-12T19:06:09.248546Z",
          "iopub.status.busy": "2023-11-12T19:06:09.248154Z",
          "iopub.status.idle": "2023-11-12T19:06:14.223285Z",
          "shell.execute_reply": "2023-11-12T19:06:14.222108Z",
          "shell.execute_reply.started": "2023-11-12T19:06:09.248516Z"
        },
        "id": "PGzTbU-ddFew",
        "trusted": true
      },
      "outputs": [],
      "source": [
        "sum([len(x) for x in nx.connected_components(graph)][1:]), len(graph_dict.keys())"
      ]
    },
    {
      "cell_type": "code",
      "execution_count": null,
      "metadata": {
        "execution": {
          "iopub.execute_input": "2023-11-12T19:12:45.985785Z",
          "iopub.status.busy": "2023-11-12T19:12:45.985399Z",
          "iopub.status.idle": "2023-11-12T19:12:51.36904Z",
          "shell.execute_reply": "2023-11-12T19:12:51.367655Z",
          "shell.execute_reply.started": "2023-11-12T19:12:45.985756Z"
        },
        "id": "xXDXO1J0dFew",
        "trusted": true
      },
      "outputs": [],
      "source": [
        "componenets = sorted(nx.connected_components(graph), key=len, reverse=True)\n",
        "big_component = graph.subgraph(componenets[0])\n",
        "len(big_component)"
      ]
    },
    {
      "cell_type": "code",
      "execution_count": null,
      "metadata": {
        "execution": {
          "iopub.execute_input": "2023-11-12T19:13:31.841692Z",
          "iopub.status.busy": "2023-11-12T19:13:31.841278Z",
          "iopub.status.idle": "2023-11-12T19:14:01.729704Z",
          "shell.execute_reply": "2023-11-12T19:14:01.728589Z",
          "shell.execute_reply.started": "2023-11-12T19:13:31.841663Z"
        },
        "id": "LZtOu1wpdFew",
        "trusted": true
      },
      "outputs": [],
      "source": [
        "nx.density(big_component)  # sparse graph"
      ]
    },
    {
      "cell_type": "markdown",
      "metadata": {
        "id": "S_z480yddFew"
      },
      "source": [
        "# Clustering and plotting"
      ]
    },
    {
      "cell_type": "code",
      "execution_count": null,
      "metadata": {
        "execution": {
          "iopub.execute_input": "2023-11-12T19:16:07.063903Z",
          "iopub.status.busy": "2023-11-12T19:16:07.063457Z",
          "iopub.status.idle": "2023-11-12T19:18:12.470459Z",
          "shell.execute_reply": "2023-11-12T19:18:12.469367Z",
          "shell.execute_reply.started": "2023-11-12T19:16:07.063868Z"
        },
        "id": "6cqZWy_8dFew",
        "trusted": true
      },
      "outputs": [],
      "source": [
        "nodes = list(big_component)\n",
        "L = nx.laplacian_matrix(big_component, nodelist=nodes)\n",
        "L.shape"
      ]
    },
    {
      "cell_type": "code",
      "execution_count": null,
      "metadata": {
        "execution": {
          "iopub.execute_input": "2023-11-12T19:18:12.472939Z",
          "iopub.status.busy": "2023-11-12T19:18:12.472607Z",
          "iopub.status.idle": "2023-11-12T19:18:12.481882Z",
          "shell.execute_reply": "2023-11-12T19:18:12.480972Z",
          "shell.execute_reply.started": "2023-11-12T19:18:12.47291Z"
        },
        "id": "gZCZAd3MdFex",
        "trusted": true
      },
      "outputs": [],
      "source": [
        "unique_original_ids = set(unique_original_ids)"
      ]
    },
    {
      "cell_type": "code",
      "execution_count": null,
      "metadata": {
        "execution": {
          "iopub.execute_input": "2023-11-12T19:18:12.48407Z",
          "iopub.status.busy": "2023-11-12T19:18:12.483113Z",
          "iopub.status.idle": "2023-11-12T19:18:12.498999Z",
          "shell.execute_reply": "2023-11-12T19:18:12.497845Z",
          "shell.execute_reply.started": "2023-11-12T19:18:12.484038Z"
        },
        "id": "Bs8yaG1MdFex",
        "trusted": true
      },
      "outputs": [],
      "source": [
        "#unique_original_ids = set(df_papers[df_papers[\"year\"] == 2023][\"paperId\"].tolist())\n",
        "len(unique_original_ids)"
      ]
    },
    {
      "cell_type": "code",
      "execution_count": null,
      "metadata": {
        "execution": {
          "iopub.execute_input": "2023-11-12T19:18:12.5019Z",
          "iopub.status.busy": "2023-11-12T19:18:12.501454Z",
          "iopub.status.idle": "2023-11-12T19:18:12.656923Z",
          "shell.execute_reply": "2023-11-12T19:18:12.65588Z",
          "shell.execute_reply.started": "2023-11-12T19:18:12.501868Z"
        },
        "id": "j5MtJ1zEdFex",
        "trusted": true
      },
      "outputs": [],
      "source": [
        "indices = [i for i, x in enumerate(nodes) if x in unique_original_ids]\n",
        "len(indices)"
      ]
    },
    {
      "cell_type": "code",
      "execution_count": null,
      "metadata": {
        "execution": {
          "iopub.execute_input": "2023-11-12T19:18:12.658866Z",
          "iopub.status.busy": "2023-11-12T19:18:12.658336Z",
          "iopub.status.idle": "2023-11-12T19:18:37.071259Z",
          "shell.execute_reply": "2023-11-12T19:18:37.069829Z",
          "shell.execute_reply.started": "2023-11-12T19:18:12.658837Z"
        },
        "id": "nyepZHSadFex",
        "trusted": true
      },
      "outputs": [],
      "source": [
        "from scipy.sparse.linalg import eigsh\n",
        "eigenvals, eigenvecs = eigsh(L.astype(float), k=30)\n",
        "eigenvecs = eigenvecs.real\n",
        "eigenvecs.shape"
      ]
    },
    {
      "cell_type": "code",
      "execution_count": null,
      "metadata": {
        "execution": {
          "iopub.execute_input": "2023-11-12T19:18:37.075411Z",
          "iopub.status.busy": "2023-11-12T19:18:37.074595Z",
          "iopub.status.idle": "2023-11-12T19:18:37.454058Z",
          "shell.execute_reply": "2023-11-12T19:18:37.452972Z",
          "shell.execute_reply.started": "2023-11-12T19:18:37.075355Z"
        },
        "id": "DT34ErH0dFex",
        "trusted": true
      },
      "outputs": [],
      "source": [
        "from sklearn.cluster import KMeans, HDBSCAN\n",
        "\n",
        "kmeans = KMeans(n_clusters=8, random_state=42, n_init=\"auto\").fit(eigenvecs[indices, :])\n",
        "#hdbscan = HDBSCAN(n_jobs=-1).fit(eigenvecs[indices, :])"
      ]
    },
    {
      "cell_type": "code",
      "execution_count": null,
      "metadata": {
        "execution": {
          "iopub.execute_input": "2023-11-12T19:19:08.233909Z",
          "iopub.status.busy": "2023-11-12T19:19:08.233489Z",
          "iopub.status.idle": "2023-11-12T19:19:08.24432Z",
          "shell.execute_reply": "2023-11-12T19:19:08.243162Z",
          "shell.execute_reply.started": "2023-11-12T19:19:08.233874Z"
        },
        "id": "Egn9dxiedFex",
        "trusted": true
      },
      "outputs": [],
      "source": [
        "import numpy as np\n",
        "np.unique(kmeans.labels_, return_counts=True)"
      ]
    },
    {
      "cell_type": "code",
      "execution_count": null,
      "metadata": {
        "execution": {
          "iopub.execute_input": "2023-11-12T19:20:44.411744Z",
          "iopub.status.busy": "2023-11-12T19:20:44.411271Z",
          "iopub.status.idle": "2023-11-12T19:22:16.029676Z",
          "shell.execute_reply": "2023-11-12T19:22:16.028451Z",
          "shell.execute_reply.started": "2023-11-12T19:20:44.41171Z"
        },
        "id": "QZJcj-0KdFex",
        "trusted": true
      },
      "outputs": [],
      "source": [
        "import umap\n",
        "\n",
        "transformed = umap.UMAP(\n",
        "    verbose=True,\n",
        "    #metric=\"cosine\"\n",
        ").fit_transform(eigenvecs[indices, :]).T"
      ]
    },
    {
      "cell_type": "code",
      "execution_count": null,
      "metadata": {
        "execution": {
          "iopub.execute_input": "2023-11-12T19:22:39.761783Z",
          "iopub.status.busy": "2023-11-12T19:22:39.761355Z",
          "iopub.status.idle": "2023-11-12T19:22:40.479379Z",
          "shell.execute_reply": "2023-11-12T19:22:40.47819Z",
          "shell.execute_reply.started": "2023-11-12T19:22:39.761753Z"
        },
        "id": "VlWqOVrddFex",
        "trusted": true
      },
      "outputs": [],
      "source": [
        "import matplotlib.pyplot as plt\n",
        "\n",
        "plt.scatter(transformed[0], transformed[1], c=kmeans.labels_, s=0.1)\n",
        "plt.show()"
      ]
    },
    {
      "cell_type": "code",
      "execution_count": null,
      "metadata": {
        "execution": {
          "iopub.execute_input": "2023-11-12T19:22:40.481803Z",
          "iopub.status.busy": "2023-11-12T19:22:40.481453Z",
          "iopub.status.idle": "2023-11-12T19:22:43.466662Z",
          "shell.execute_reply": "2023-11-12T19:22:43.465418Z",
          "shell.execute_reply.started": "2023-11-12T19:22:40.481773Z"
        },
        "id": "Ru8cikk5dFex",
        "trusted": true
      },
      "outputs": [],
      "source": [
        "import seaborn as sns\n",
        "\n",
        "sns.scatterplot(\n",
        "    x=transformed[0],\n",
        "    y=transformed[1],\n",
        "    hue=kmeans.labels_,\n",
        ")\n",
        "plt.show()"
      ]
    },
    {
      "cell_type": "markdown",
      "metadata": {
        "id": "hk_Jbbb1dFex"
      },
      "source": [
        "## Cluster content analysis"
      ]
    },
    {
      "cell_type": "code",
      "execution_count": null,
      "metadata": {
        "execution": {
          "iopub.execute_input": "2023-11-12T19:29:30.661024Z",
          "iopub.status.busy": "2023-11-12T19:29:30.660319Z",
          "iopub.status.idle": "2023-11-12T19:29:31.55851Z",
          "shell.execute_reply": "2023-11-12T19:29:31.557468Z",
          "shell.execute_reply.started": "2023-11-12T19:29:30.66099Z"
        },
        "id": "OybqU8l9dFex",
        "trusted": true
      },
      "outputs": [],
      "source": [
        "df_orig = df_papers.loc[nodes].iloc[indices].copy()\n",
        "df_orig"
      ]
    },
    {
      "cell_type": "code",
      "execution_count": null,
      "metadata": {
        "execution": {
          "iopub.execute_input": "2023-11-12T19:29:31.561Z",
          "iopub.status.busy": "2023-11-12T19:29:31.560654Z",
          "iopub.status.idle": "2023-11-12T19:29:31.581679Z",
          "shell.execute_reply": "2023-11-12T19:29:31.580835Z",
          "shell.execute_reply.started": "2023-11-12T19:29:31.56097Z"
        },
        "id": "ysZXYP9HdFex",
        "trusted": true
      },
      "outputs": [],
      "source": [
        "df_orig[\"cluster\"] = kmeans.labels_\n",
        "df_orig"
      ]
    },
    {
      "cell_type": "code",
      "execution_count": null,
      "metadata": {
        "execution": {
          "iopub.execute_input": "2023-11-12T19:29:31.583844Z",
          "iopub.status.busy": "2023-11-12T19:29:31.582969Z",
          "iopub.status.idle": "2023-11-12T19:29:31.597346Z",
          "shell.execute_reply": "2023-11-12T19:29:31.596288Z",
          "shell.execute_reply.started": "2023-11-12T19:29:31.583813Z"
        },
        "id": "phyS9slGdFex",
        "trusted": true
      },
      "outputs": [],
      "source": [
        "df_orig[\"cluster\"].value_counts()"
      ]
    },
    {
      "cell_type": "code",
      "execution_count": null,
      "metadata": {
        "execution": {
          "iopub.execute_input": "2023-11-12T19:29:31.599666Z",
          "iopub.status.busy": "2023-11-12T19:29:31.599238Z",
          "iopub.status.idle": "2023-11-12T19:29:31.699215Z",
          "shell.execute_reply": "2023-11-12T19:29:31.698074Z",
          "shell.execute_reply.started": "2023-11-12T19:29:31.599637Z"
        },
        "id": "LGc2TsaadFex",
        "trusted": true
      },
      "outputs": [],
      "source": [
        "df_orig[df_orig[\"cluster\"] == 0][[\"title\", \"abstract\"]].reset_index(drop=True).iloc[10:15].style"
      ]
    },
    {
      "cell_type": "code",
      "execution_count": null,
      "metadata": {
        "execution": {
          "iopub.execute_input": "2023-11-12T19:29:51.788406Z",
          "iopub.status.busy": "2023-11-12T19:29:51.787582Z",
          "iopub.status.idle": "2023-11-12T19:29:53.6945Z",
          "shell.execute_reply": "2023-11-12T19:29:53.69369Z",
          "shell.execute_reply.started": "2023-11-12T19:29:51.788368Z"
        },
        "id": "Gk-g9LEQdFex",
        "trusted": true
      },
      "outputs": [],
      "source": [
        "# https://stackoverflow.com/questions/73849624/getting-error-while-submitting-notebook-on-kaggle-even-after-importing-nltk-libr\n",
        "\n",
        "import nltk\n",
        "from nltk.corpus import stopwords\n",
        "from nltk.tokenize import word_tokenize\n",
        "from nltk.stem import WordNetLemmatizer\n",
        "import subprocess\n",
        "\n",
        "# Download and unzip wordnet\n",
        "try:\n",
        "    nltk.data.find('wordnet.zip')\n",
        "except:\n",
        "    nltk.download('wordnet', download_dir='/kaggle/working/')\n",
        "    command = \"unzip /kaggle/working/corpora/wordnet.zip -d /kaggle/working/corpora\"\n",
        "    subprocess.run(command.split())\n",
        "    nltk.data.path.append('/kaggle/working/')\n",
        "\n",
        "nltk.download('punkt')\n",
        "nltk.download('wordnet')\n",
        "nltk.download('stopwords')\n",
        "\n",
        "stop_words = set(stopwords.words('english'))# + ['ha', 'wa', 'say', 'said'])\n",
        "lemmatizer = WordNetLemmatizer()"
      ]
    },
    {
      "cell_type": "code",
      "execution_count": null,
      "metadata": {
        "execution": {
          "iopub.execute_input": "2023-11-12T19:29:56.003702Z",
          "iopub.status.busy": "2023-11-12T19:29:56.003267Z",
          "iopub.status.idle": "2023-11-12T19:32:30.188098Z",
          "shell.execute_reply": "2023-11-12T19:32:30.186863Z",
          "shell.execute_reply.started": "2023-11-12T19:29:56.003669Z"
        },
        "id": "dLoVozWodFex",
        "trusted": true
      },
      "outputs": [],
      "source": [
        "def preprocess(text):\n",
        "    text = list(filter(str.isalpha, word_tokenize(text.lower())))\n",
        "    text = list(lemmatizer.lemmatize(word) for word in text)\n",
        "    text = list(word for word in text if word not in stop_words)\n",
        "    return ' '.join(text)\n",
        "\n",
        "df_orig[\"title\"].fillna(\"\", inplace=True)\n",
        "df_orig[\"abstract\"].fillna(\"\", inplace=True)\n",
        "\n",
        "df_orig['raw_text'] = df_orig.apply(lambda row: row[\"title\"] + row[\"abstract\"], axis=1)\n",
        "df_orig['text'] = df_orig.apply(lambda row: preprocess(row[\"raw_text\"]), axis=1)\n",
        "df_orig"
      ]
    },
    {
      "cell_type": "code",
      "execution_count": null,
      "metadata": {
        "execution": {
          "iopub.execute_input": "2023-11-12T19:32:30.191255Z",
          "iopub.status.busy": "2023-11-12T19:32:30.190344Z",
          "iopub.status.idle": "2023-11-12T19:32:44.312227Z",
          "shell.execute_reply": "2023-11-12T19:32:44.31069Z",
          "shell.execute_reply.started": "2023-11-12T19:32:30.191215Z"
        },
        "id": "HV2KqapEdFex",
        "trusted": true
      },
      "outputs": [],
      "source": [
        "pip install wordcloud"
      ]
    },
    {
      "cell_type": "code",
      "execution_count": null,
      "metadata": {
        "execution": {
          "iopub.execute_input": "2023-11-12T19:32:44.314433Z",
          "iopub.status.busy": "2023-11-12T19:32:44.313982Z",
          "iopub.status.idle": "2023-11-12T19:32:44.383524Z",
          "shell.execute_reply": "2023-11-12T19:32:44.38266Z",
          "shell.execute_reply.started": "2023-11-12T19:32:44.314391Z"
        },
        "id": "Q42HWWandFe2",
        "trusted": true
      },
      "outputs": [],
      "source": [
        "from wordcloud import WordCloud\n",
        "\n",
        "def draw_wordcloud(texts, max_words=1000, width=1000, height=500):\n",
        "    wordcloud = WordCloud(background_color='white', max_words=max_words,\n",
        "                          width=width, height=height)\n",
        "\n",
        "    joint_texts = ' '.join(list(texts))\n",
        "    wordcloud.generate(joint_texts)\n",
        "    return wordcloud.to_image()"
      ]
    },
    {
      "cell_type": "code",
      "execution_count": null,
      "metadata": {
        "execution": {
          "iopub.execute_input": "2023-11-12T19:33:19.957281Z",
          "iopub.status.busy": "2023-11-12T19:33:19.956421Z",
          "iopub.status.idle": "2023-11-12T19:33:23.954672Z",
          "shell.execute_reply": "2023-11-12T19:33:23.953523Z",
          "shell.execute_reply.started": "2023-11-12T19:33:19.957248Z"
        },
        "id": "Ga-aTvtqdFe2",
        "trusted": true
      },
      "outputs": [],
      "source": [
        "draw_wordcloud(df_orig[df_orig[\"cluster\"] == 0][\"text\"])"
      ]
    },
    {
      "cell_type": "code",
      "execution_count": null,
      "metadata": {
        "execution": {
          "iopub.execute_input": "2023-11-12T19:33:23.956915Z",
          "iopub.status.busy": "2023-11-12T19:33:23.956055Z",
          "iopub.status.idle": "2023-11-12T19:33:24.614828Z",
          "shell.execute_reply": "2023-11-12T19:33:24.613723Z",
          "shell.execute_reply.started": "2023-11-12T19:33:23.956882Z"
        },
        "id": "SPzjdyXZdFe2",
        "trusted": true
      },
      "outputs": [],
      "source": [
        "draw_wordcloud(df_orig[df_orig[\"cluster\"] == 1][\"text\"])"
      ]
    },
    {
      "cell_type": "code",
      "execution_count": null,
      "metadata": {
        "execution": {
          "iopub.execute_input": "2023-11-12T19:33:24.618638Z",
          "iopub.status.busy": "2023-11-12T19:33:24.617452Z",
          "iopub.status.idle": "2023-11-12T19:33:30.627289Z",
          "shell.execute_reply": "2023-11-12T19:33:30.626366Z",
          "shell.execute_reply.started": "2023-11-12T19:33:24.618596Z"
        },
        "id": "rwIMiBOEdFe2",
        "trusted": true
      },
      "outputs": [],
      "source": [
        "draw_wordcloud(df_orig[df_orig[\"cluster\"] == 2][\"text\"])"
      ]
    },
    {
      "cell_type": "code",
      "execution_count": null,
      "metadata": {
        "execution": {
          "iopub.execute_input": "2023-11-12T19:33:12.36611Z",
          "iopub.status.busy": "2023-11-12T19:33:12.365661Z",
          "iopub.status.idle": "2023-11-12T19:33:19.954266Z",
          "shell.execute_reply": "2023-11-12T19:33:19.953331Z",
          "shell.execute_reply.started": "2023-11-12T19:33:12.366059Z"
        },
        "id": "SQWFhPrsdFe2",
        "trusted": true
      },
      "outputs": [],
      "source": [
        "draw_wordcloud(df_orig[df_orig[\"cluster\"] == 3][\"text\"])"
      ]
    },
    {
      "cell_type": "code",
      "execution_count": null,
      "metadata": {
        "execution": {
          "iopub.execute_input": "2023-11-12T19:33:45.389239Z",
          "iopub.status.busy": "2023-11-12T19:33:45.388789Z",
          "iopub.status.idle": "2023-11-12T19:33:49.74648Z",
          "shell.execute_reply": "2023-11-12T19:33:49.745646Z",
          "shell.execute_reply.started": "2023-11-12T19:33:45.389206Z"
        },
        "id": "ByzQwq0LdFe2",
        "trusted": true
      },
      "outputs": [],
      "source": [
        "draw_wordcloud(df_orig[df_orig[\"cluster\"] == 4][\"text\"])"
      ]
    },
    {
      "cell_type": "code",
      "execution_count": null,
      "metadata": {
        "execution": {
          "iopub.execute_input": "2023-11-12T19:33:50.755976Z",
          "iopub.status.busy": "2023-11-12T19:33:50.755278Z",
          "iopub.status.idle": "2023-11-12T19:33:58.338217Z",
          "shell.execute_reply": "2023-11-12T19:33:58.337009Z",
          "shell.execute_reply.started": "2023-11-12T19:33:50.755942Z"
        },
        "id": "4zygtdDldFe2",
        "trusted": true
      },
      "outputs": [],
      "source": [
        "draw_wordcloud(df_orig[df_orig[\"cluster\"] == 5][\"text\"])"
      ]
    },
    {
      "cell_type": "code",
      "execution_count": null,
      "metadata": {
        "execution": {
          "iopub.execute_input": "2023-11-12T19:33:58.340742Z",
          "iopub.status.busy": "2023-11-12T19:33:58.3404Z",
          "iopub.status.idle": "2023-11-12T19:34:03.449327Z",
          "shell.execute_reply": "2023-11-12T19:34:03.448026Z",
          "shell.execute_reply.started": "2023-11-12T19:33:58.340712Z"
        },
        "id": "vKBtA8YDdFe2",
        "trusted": true
      },
      "outputs": [],
      "source": [
        "draw_wordcloud(df_orig[df_orig[\"cluster\"] == 6][\"text\"])"
      ]
    },
    {
      "cell_type": "code",
      "execution_count": null,
      "metadata": {
        "execution": {
          "iopub.execute_input": "2023-11-12T19:34:03.451778Z",
          "iopub.status.busy": "2023-11-12T19:34:03.451359Z",
          "iopub.status.idle": "2023-11-12T19:34:31.000199Z",
          "shell.execute_reply": "2023-11-12T19:34:30.999056Z",
          "shell.execute_reply.started": "2023-11-12T19:34:03.45174Z"
        },
        "id": "i6W37tnfdFe2",
        "trusted": true
      },
      "outputs": [],
      "source": [
        "draw_wordcloud(df_orig[df_orig[\"cluster\"] == 7][\"text\"])"
      ]
    },
    {
      "cell_type": "code",
      "execution_count": null,
      "metadata": {
        "id": "IHT_NIuTdFe2"
      },
      "outputs": [],
      "source": []
    }
  ],
  "metadata": {
    "colab": {
      "name": "spectral_clustering",
      "provenance": []
    },
    "kernelspec": {
      "display_name": "Python 3",
      "language": "python",
      "name": "python3"
    },
    "language_info": {
      "codemirror_mode": {
        "name": "ipython",
        "version": 3
      },
      "file_extension": ".py",
      "mimetype": "text/x-python",
      "name": "python",
      "nbconvert_exporter": "python",
      "pygments_lexer": "ipython3",
      "version": "3.10.13"
    }
  },
  "nbformat": 4,
  "nbformat_minor": 0
}
