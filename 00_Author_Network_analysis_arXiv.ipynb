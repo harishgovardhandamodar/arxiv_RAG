{
  "cells": [
    {
      "cell_type": "markdown",
      "metadata": {
        "id": "RYsdyUCden8S"
      },
      "source": [
        "Co-authorship network is a group of researchers connected in pairs to represent relationships. Two researchers are considered related when they have published papers in journals and conferences and published and edited books together. In such networks, researchers are called \"nodes\" or \"nodes\", and connections are called \"edges\". Co-authorship networks are an important class of social networks. Analysis of these networks reveals characteristics of academic communities that contribute to understanding collaboration and identifying prominent researchers.\n",
        "\n",
        "The focus of this notebook is to analysis of structural properties in co-authored networks in a given field of study"
      ]
    },
    {
      "cell_type": "code",
      "execution_count": 1,
      "metadata": {
        "execution": {
          "iopub.execute_input": "2022-09-16T19:15:51.009143Z",
          "iopub.status.busy": "2022-09-16T19:15:51.008716Z",
          "iopub.status.idle": "2022-09-16T19:16:13.190029Z",
          "shell.execute_reply": "2022-09-16T19:16:13.188962Z",
          "shell.execute_reply.started": "2022-09-16T19:15:51.009073Z"
        },
        "id": "i2i3Fg5qen8T",
        "trusted": true
      },
      "outputs": [
        {
          "name": "stdout",
          "output_type": "stream",
          "text": [
            "Requirement already satisfied: pyvis in /Users/fox/anaconda3/envs/dl/lib/python3.10/site-packages (0.3.2)\n",
            "Requirement already satisfied: ipython>=5.3.0 in /Users/fox/anaconda3/envs/dl/lib/python3.10/site-packages (from pyvis) (8.21.0)\n",
            "Requirement already satisfied: jinja2>=2.9.6 in /Users/fox/anaconda3/envs/dl/lib/python3.10/site-packages (from pyvis) (3.1.3)\n",
            "Requirement already satisfied: jsonpickle>=1.4.1 in /Users/fox/anaconda3/envs/dl/lib/python3.10/site-packages (from pyvis) (3.0.3)\n",
            "Requirement already satisfied: networkx>=1.11 in /Users/fox/anaconda3/envs/dl/lib/python3.10/site-packages (from pyvis) (3.1)\n",
            "Requirement already satisfied: decorator in /Users/fox/anaconda3/envs/dl/lib/python3.10/site-packages (from ipython>=5.3.0->pyvis) (5.1.1)\n",
            "Requirement already satisfied: jedi>=0.16 in /Users/fox/anaconda3/envs/dl/lib/python3.10/site-packages (from ipython>=5.3.0->pyvis) (0.19.1)\n",
            "Requirement already satisfied: matplotlib-inline in /Users/fox/anaconda3/envs/dl/lib/python3.10/site-packages (from ipython>=5.3.0->pyvis) (0.1.6)\n",
            "Requirement already satisfied: prompt-toolkit<3.1.0,>=3.0.41 in /Users/fox/anaconda3/envs/dl/lib/python3.10/site-packages (from ipython>=5.3.0->pyvis) (3.0.42)\n",
            "Requirement already satisfied: pygments>=2.4.0 in /Users/fox/anaconda3/envs/dl/lib/python3.10/site-packages (from ipython>=5.3.0->pyvis) (2.17.2)\n",
            "Requirement already satisfied: stack-data in /Users/fox/anaconda3/envs/dl/lib/python3.10/site-packages (from ipython>=5.3.0->pyvis) (0.6.2)\n",
            "Requirement already satisfied: traitlets>=5 in /Users/fox/anaconda3/envs/dl/lib/python3.10/site-packages (from ipython>=5.3.0->pyvis) (5.14.1)\n",
            "Requirement already satisfied: exceptiongroup in /Users/fox/anaconda3/envs/dl/lib/python3.10/site-packages (from ipython>=5.3.0->pyvis) (1.2.0)\n",
            "Requirement already satisfied: pexpect>4.3 in /Users/fox/anaconda3/envs/dl/lib/python3.10/site-packages (from ipython>=5.3.0->pyvis) (4.9.0)\n",
            "Requirement already satisfied: MarkupSafe>=2.0 in /Users/fox/anaconda3/envs/dl/lib/python3.10/site-packages (from jinja2>=2.9.6->pyvis) (2.1.3)\n",
            "Requirement already satisfied: parso<0.9.0,>=0.8.3 in /Users/fox/anaconda3/envs/dl/lib/python3.10/site-packages (from jedi>=0.16->ipython>=5.3.0->pyvis) (0.8.3)\n",
            "Requirement already satisfied: ptyprocess>=0.5 in /Users/fox/anaconda3/envs/dl/lib/python3.10/site-packages (from pexpect>4.3->ipython>=5.3.0->pyvis) (0.7.0)\n",
            "Requirement already satisfied: wcwidth in /Users/fox/anaconda3/envs/dl/lib/python3.10/site-packages (from prompt-toolkit<3.1.0,>=3.0.41->ipython>=5.3.0->pyvis) (0.2.13)\n",
            "Requirement already satisfied: executing>=1.2.0 in /Users/fox/anaconda3/envs/dl/lib/python3.10/site-packages (from stack-data->ipython>=5.3.0->pyvis) (2.0.1)\n",
            "Requirement already satisfied: asttokens>=2.1.0 in /Users/fox/anaconda3/envs/dl/lib/python3.10/site-packages (from stack-data->ipython>=5.3.0->pyvis) (2.4.1)\n",
            "Requirement already satisfied: pure-eval in /Users/fox/anaconda3/envs/dl/lib/python3.10/site-packages (from stack-data->ipython>=5.3.0->pyvis) (0.2.2)\n",
            "Requirement already satisfied: six>=1.12.0 in /Users/fox/anaconda3/envs/dl/lib/python3.10/site-packages (from asttokens>=2.1.0->stack-data->ipython>=5.3.0->pyvis) (1.16.0)\n",
            "Collecting pyLDAvis\n",
            "  Downloading pyLDAvis-3.4.1-py3-none-any.whl.metadata (4.2 kB)\n",
            "Requirement already satisfied: numpy>=1.24.2 in /Users/fox/anaconda3/envs/dl/lib/python3.10/site-packages (from pyLDAvis) (1.26.3)\n",
            "Requirement already satisfied: scipy in /Users/fox/anaconda3/envs/dl/lib/python3.10/site-packages (from pyLDAvis) (1.12.0)\n",
            "Requirement already satisfied: pandas>=2.0.0 in /Users/fox/anaconda3/envs/dl/lib/python3.10/site-packages (from pyLDAvis) (2.1.4)\n",
            "Requirement already satisfied: joblib>=1.2.0 in /Users/fox/anaconda3/envs/dl/lib/python3.10/site-packages (from pyLDAvis) (1.3.2)\n",
            "Requirement already satisfied: jinja2 in /Users/fox/anaconda3/envs/dl/lib/python3.10/site-packages (from pyLDAvis) (3.1.3)\n",
            "Requirement already satisfied: numexpr in /Users/fox/anaconda3/envs/dl/lib/python3.10/site-packages (from pyLDAvis) (2.8.7)\n",
            "Collecting funcy (from pyLDAvis)\n",
            "  Downloading funcy-2.0-py2.py3-none-any.whl.metadata (5.9 kB)\n",
            "Requirement already satisfied: scikit-learn>=1.0.0 in /Users/fox/anaconda3/envs/dl/lib/python3.10/site-packages (from pyLDAvis) (1.4.1.post1)\n",
            "Requirement already satisfied: gensim in /Users/fox/anaconda3/envs/dl/lib/python3.10/site-packages (from pyLDAvis) (4.3.2)\n",
            "Requirement already satisfied: setuptools in /Users/fox/anaconda3/envs/dl/lib/python3.10/site-packages (from pyLDAvis) (68.2.2)\n",
            "Requirement already satisfied: python-dateutil>=2.8.2 in /Users/fox/anaconda3/envs/dl/lib/python3.10/site-packages (from pandas>=2.0.0->pyLDAvis) (2.8.2)\n",
            "Requirement already satisfied: pytz>=2020.1 in /Users/fox/anaconda3/envs/dl/lib/python3.10/site-packages (from pandas>=2.0.0->pyLDAvis) (2023.3.post1)\n",
            "Requirement already satisfied: tzdata>=2022.1 in /Users/fox/anaconda3/envs/dl/lib/python3.10/site-packages (from pandas>=2.0.0->pyLDAvis) (2023.3)\n",
            "Requirement already satisfied: threadpoolctl>=2.0.0 in /Users/fox/anaconda3/envs/dl/lib/python3.10/site-packages (from scikit-learn>=1.0.0->pyLDAvis) (3.3.0)\n",
            "Requirement already satisfied: smart-open>=1.8.1 in /Users/fox/anaconda3/envs/dl/lib/python3.10/site-packages (from gensim->pyLDAvis) (6.4.0)\n",
            "Requirement already satisfied: MarkupSafe>=2.0 in /Users/fox/anaconda3/envs/dl/lib/python3.10/site-packages (from jinja2->pyLDAvis) (2.1.3)\n",
            "Requirement already satisfied: six>=1.5 in /Users/fox/anaconda3/envs/dl/lib/python3.10/site-packages (from python-dateutil>=2.8.2->pandas>=2.0.0->pyLDAvis) (1.16.0)\n",
            "Downloading pyLDAvis-3.4.1-py3-none-any.whl (2.6 MB)\n",
            "\u001b[2K   \u001b[90m━━━━━━━━━━━━━━━━━━━━━━━━━━━━━━━━━━━━━━━━\u001b[0m \u001b[32m2.6/2.6 MB\u001b[0m \u001b[31m30.0 MB/s\u001b[0m eta \u001b[36m0:00:00\u001b[0ma \u001b[36m0:00:01\u001b[0m\n",
            "\u001b[?25hDownloading funcy-2.0-py2.py3-none-any.whl (30 kB)\n",
            "Installing collected packages: funcy, pyLDAvis\n",
            "Successfully installed funcy-2.0 pyLDAvis-3.4.1\n"
          ]
        }
      ],
      "source": [
        "!pip install pyvis\n",
        "!pip install pyLDAvis"
      ]
    },
    {
      "cell_type": "code",
      "execution_count": 2,
      "metadata": {
        "execution": {
          "iopub.execute_input": "2022-09-16T19:16:13.192044Z",
          "iopub.status.busy": "2022-09-16T19:16:13.191759Z",
          "iopub.status.idle": "2022-09-16T19:16:15.484514Z",
          "shell.execute_reply": "2022-09-16T19:16:15.48388Z",
          "shell.execute_reply.started": "2022-09-16T19:16:13.192018Z"
        },
        "id": "I1GN-F4Men8T",
        "scrolled": true,
        "trusted": true
      },
      "outputs": [
        {
          "name": "stderr",
          "output_type": "stream",
          "text": [
            "/var/folders/hn/p77x1w5x5s725x1wyvhfn59h0000gn/T/ipykernel_8069/3495327860.py:44: DeprecationWarning: Importing display from IPython.core.display is deprecated since IPython 7.14, please import from IPython display\n",
            "  from IPython.core.display import display, HTML\n"
          ]
        }
      ],
      "source": [
        "import pandas as pd\n",
        "import numpy as np\n",
        "from datetime import datetime\n",
        "import sys\n",
        "import ast\n",
        "\n",
        "import plotly.express as px\n",
        "\n",
        "import matplotlib.pyplot as plt\n",
        "import seaborn as sns\n",
        "\n",
        "import dask.bag as db\n",
        "\n",
        "import networkx as nx\n",
        "from networkx.algorithms.components.connected import connected_components\n",
        "\n",
        "import json\n",
        "import dask.bag as db\n",
        "import os\n",
        "\n",
        "sys.path.append(\"..\")\n",
        "\n",
        "from pathlib import Path\n",
        "\n",
        "import json\n",
        "\n",
        "from itertools import combinations\n",
        "from collections import Counter\n",
        "from itertools import chain\n",
        "import random\n",
        "\n",
        "from tqdm.notebook import tqdm, trange\n",
        "import time    # to be used in loop iterations\n",
        "\n",
        "import multiprocessing\n",
        "import smart_open\n",
        "\n",
        "from gensim.models.word2vec import Word2Vec\n",
        "\n",
        "import pyvis\n",
        "\n",
        "from pyvis.network import Network\n",
        "\n",
        "from IPython.core.display import display, HTML"
      ]
    },
    {
      "cell_type": "code",
      "execution_count": 56,
      "metadata": {
        "execution": {
          "iopub.execute_input": "2022-09-16T19:16:15.486232Z",
          "iopub.status.busy": "2022-09-16T19:16:15.48577Z",
          "iopub.status.idle": "2022-09-16T19:18:59.413284Z",
          "shell.execute_reply": "2022-09-16T19:18:59.411868Z",
          "shell.execute_reply.started": "2022-09-16T19:16:15.486202Z"
        },
        "id": "svS1Ajw3en8T",
        "trusted": true
      },
      "outputs": [],
      "source": [
        "ai_category_list=['cs.CR']\n",
        "records=db.read_text(\"./arxiv-metadata-oai-snapshot.json\").map(lambda x:json.loads(x))\n",
        "ai_docs = (records.filter(lambda x:any(ele in x['categories'] for ele in ai_category_list)==True))\n",
        "get_metadata = lambda x: {'id': x['id'],\n",
        "                  'title': x['title'],\n",
        "                  'category':x['categories'],\n",
        "                  'abstract':x['abstract'],\n",
        "                 'version':x['versions'][-1]['created'],\n",
        "                         'doi':x[\"doi\"],\n",
        "                         'authors_parsed':x['authors_parsed']}\n",
        "\n",
        "data=ai_docs.map(get_metadata).to_dataframe().compute()\n",
        "\n",
        "data.to_excel(\"Astro_ArXiv_Papers.xlsx\",index=False)"
      ]
    },
    {
      "cell_type": "code",
      "execution_count": 57,
      "metadata": {
        "execution": {
          "iopub.execute_input": "2022-09-16T19:18:59.416833Z",
          "iopub.status.busy": "2022-09-16T19:18:59.416471Z",
          "iopub.status.idle": "2022-09-16T19:19:00.402739Z",
          "shell.execute_reply": "2022-09-16T19:19:00.401479Z",
          "shell.execute_reply.started": "2022-09-16T19:18:59.4168Z"
        },
        "id": "gjX0Hyohen8U",
        "scrolled": true,
        "trusted": true
      },
      "outputs": [
        {
          "data": {
            "text/html": [
              "<div>\n",
              "<style scoped>\n",
              "    .dataframe tbody tr th:only-of-type {\n",
              "        vertical-align: middle;\n",
              "    }\n",
              "\n",
              "    .dataframe tbody tr th {\n",
              "        vertical-align: top;\n",
              "    }\n",
              "\n",
              "    .dataframe thead th {\n",
              "        text-align: right;\n",
              "    }\n",
              "</style>\n",
              "<table border=\"1\" class=\"dataframe\">\n",
              "  <thead>\n",
              "    <tr style=\"text-align: right;\">\n",
              "      <th></th>\n",
              "      <th>id</th>\n",
              "      <th>title</th>\n",
              "      <th>category</th>\n",
              "      <th>abstract</th>\n",
              "      <th>version</th>\n",
              "      <th>doi</th>\n",
              "      <th>authors_parsed</th>\n",
              "      <th>num_authors</th>\n",
              "      <th>authors</th>\n",
              "    </tr>\n",
              "  </thead>\n",
              "  <tbody>\n",
              "    <tr>\n",
              "      <th>0</th>\n",
              "      <td>0704.0492</td>\n",
              "      <td>Refuting the Pseudo Attack on the REESSE1+ Cry...</td>\n",
              "      <td>cs.CR</td>\n",
              "      <td>We illustrate through example 1 and 2 that t...</td>\n",
              "      <td>Thu, 4 Feb 2010 14:06:43 GMT</td>\n",
              "      <td>None</td>\n",
              "      <td>[[Su, Shenghui, ], [Lu, Shuwang, ]]</td>\n",
              "      <td>2</td>\n",
              "      <td>[Su Shenghui, Lu Shuwang]</td>\n",
              "    </tr>\n",
              "    <tr>\n",
              "      <th>1</th>\n",
              "      <td>0704.0858</td>\n",
              "      <td>Lessons Learned from the deployment of a high-...</td>\n",
              "      <td>cs.CR</td>\n",
              "      <td>This paper presents an experimental study an...</td>\n",
              "      <td>Fri, 6 Apr 2007 08:22:50 GMT</td>\n",
              "      <td>None</td>\n",
              "      <td>[[Alata, Eric, , LAAS], [Nicomette, Vincent, ,...</td>\n",
              "      <td>5</td>\n",
              "      <td>[Alata Eric  LAAS, Nicomette Vincent  LAAS, Ka...</td>\n",
              "    </tr>\n",
              "    <tr>\n",
              "      <th>2</th>\n",
              "      <td>0704.0861</td>\n",
              "      <td>Empirical analysis and statistical modeling of...</td>\n",
              "      <td>cs.PF cs.CR</td>\n",
              "      <td>Honeypots are more and more used to collect ...</td>\n",
              "      <td>Fri, 6 Apr 2007 08:50:34 GMT</td>\n",
              "      <td>None</td>\n",
              "      <td>[[Kaaniche, Mohamed, , LAAS], [Deswarte, Y., ,...</td>\n",
              "      <td>5</td>\n",
              "      <td>[Kaaniche Mohamed  LAAS, Deswarte Y.  LAAS, Al...</td>\n",
              "    </tr>\n",
              "    <tr>\n",
              "      <th>3</th>\n",
              "      <td>0704.2259</td>\n",
              "      <td>The Wiretap Channel with Feedback: Encryption ...</td>\n",
              "      <td>cs.IT cs.CR math.IT</td>\n",
              "      <td>In this work, the critical role of noisy fee...</td>\n",
              "      <td>Wed, 18 Apr 2007 02:43:40 GMT</td>\n",
              "      <td>10.1109/TIT.2008.929914</td>\n",
              "      <td>[[Lai, Lifeng, ], [Gamal, Hesham El, ], [Poor,...</td>\n",
              "      <td>3</td>\n",
              "      <td>[Lai Lifeng, Gamal Hesham El, Poor H. Vincent]</td>\n",
              "    </tr>\n",
              "    <tr>\n",
              "      <th>4</th>\n",
              "      <td>0704.2295</td>\n",
              "      <td>Using Image Attributes for Human Identificatio...</td>\n",
              "      <td>cs.CR</td>\n",
              "      <td>A secure human identification protocol aims ...</td>\n",
              "      <td>Wed, 18 Apr 2007 09:13:43 GMT</td>\n",
              "      <td>None</td>\n",
              "      <td>[[Jameel, Hassan, ], [Lee, Heejo, ], [Lee, Sun...</td>\n",
              "      <td>3</td>\n",
              "      <td>[Jameel Hassan, Lee Heejo, Lee Sungyoung]</td>\n",
              "    </tr>\n",
              "  </tbody>\n",
              "</table>\n",
              "</div>"
            ],
            "text/plain": [
              "          id                                              title  \\\n",
              "0  0704.0492  Refuting the Pseudo Attack on the REESSE1+ Cry...   \n",
              "1  0704.0858  Lessons Learned from the deployment of a high-...   \n",
              "2  0704.0861  Empirical analysis and statistical modeling of...   \n",
              "3  0704.2259  The Wiretap Channel with Feedback: Encryption ...   \n",
              "4  0704.2295  Using Image Attributes for Human Identificatio...   \n",
              "\n",
              "              category                                           abstract  \\\n",
              "0                cs.CR    We illustrate through example 1 and 2 that t...   \n",
              "1                cs.CR    This paper presents an experimental study an...   \n",
              "2          cs.PF cs.CR    Honeypots are more and more used to collect ...   \n",
              "3  cs.IT cs.CR math.IT    In this work, the critical role of noisy fee...   \n",
              "4                cs.CR    A secure human identification protocol aims ...   \n",
              "\n",
              "                         version                      doi  \\\n",
              "0   Thu, 4 Feb 2010 14:06:43 GMT                     None   \n",
              "1   Fri, 6 Apr 2007 08:22:50 GMT                     None   \n",
              "2   Fri, 6 Apr 2007 08:50:34 GMT                     None   \n",
              "3  Wed, 18 Apr 2007 02:43:40 GMT  10.1109/TIT.2008.929914   \n",
              "4  Wed, 18 Apr 2007 09:13:43 GMT                     None   \n",
              "\n",
              "                                      authors_parsed  num_authors  \\\n",
              "0                [[Su, Shenghui, ], [Lu, Shuwang, ]]            2   \n",
              "1  [[Alata, Eric, , LAAS], [Nicomette, Vincent, ,...            5   \n",
              "2  [[Kaaniche, Mohamed, , LAAS], [Deswarte, Y., ,...            5   \n",
              "3  [[Lai, Lifeng, ], [Gamal, Hesham El, ], [Poor,...            3   \n",
              "4  [[Jameel, Hassan, ], [Lee, Heejo, ], [Lee, Sun...            3   \n",
              "\n",
              "                                             authors  \n",
              "0                          [Su Shenghui, Lu Shuwang]  \n",
              "1  [Alata Eric  LAAS, Nicomette Vincent  LAAS, Ka...  \n",
              "2  [Kaaniche Mohamed  LAAS, Deswarte Y.  LAAS, Al...  \n",
              "3     [Lai Lifeng, Gamal Hesham El, Poor H. Vincent]  \n",
              "4          [Jameel Hassan, Lee Heejo, Lee Sungyoung]  "
            ]
          },
          "execution_count": 57,
          "metadata": {},
          "output_type": "execute_result"
        }
      ],
      "source": [
        "# Concatenate the author first and last names\n",
        "data['num_authors']=data['authors_parsed'].apply(lambda x:len(x))\n",
        "\n",
        "data['authors']=data['authors_parsed'].apply(lambda authors:[(\" \".join(author)).strip() for author in authors])\n",
        "data.head()"
      ]
    },
    {
      "cell_type": "code",
      "execution_count": 58,
      "metadata": {
        "execution": {
          "iopub.execute_input": "2022-09-16T19:19:00.404667Z",
          "iopub.status.busy": "2022-09-16T19:19:00.404333Z",
          "iopub.status.idle": "2022-09-16T19:19:46.002166Z",
          "shell.execute_reply": "2022-09-16T19:19:45.999403Z",
          "shell.execute_reply.started": "2022-09-16T19:19:00.404643Z"
        },
        "id": "LMzHVNA5en8U",
        "trusted": true
      },
      "outputs": [],
      "source": [
        "data['DateTime']=pd.to_datetime(data['version'])\n",
        "data['Day'] = data['DateTime'].dt.day\n",
        "data['Month'] = data['DateTime'].dt.month\n",
        "data['Year'] = data['DateTime'].dt.year"
      ]
    },
    {
      "cell_type": "code",
      "execution_count": 59,
      "metadata": {
        "execution": {
          "iopub.execute_input": "2022-09-16T19:19:46.005969Z",
          "iopub.status.busy": "2022-09-16T19:19:46.005412Z",
          "iopub.status.idle": "2022-09-16T19:19:46.527612Z",
          "shell.execute_reply": "2022-09-16T19:19:46.526784Z",
          "shell.execute_reply.started": "2022-09-16T19:19:46.00592Z"
        },
        "id": "_wABSY1xen8U",
        "trusted": true
      },
      "outputs": [],
      "source": [
        "# Filter data (2020 to 2021)\n",
        "\n",
        "data = data[data['Year'].between(2020, 2021)]"
      ]
    },
    {
      "cell_type": "code",
      "execution_count": 60,
      "metadata": {
        "execution": {
          "iopub.execute_input": "2022-09-16T19:19:46.530221Z",
          "iopub.status.busy": "2022-09-16T19:19:46.528747Z",
          "iopub.status.idle": "2022-09-16T19:19:46.549351Z",
          "shell.execute_reply": "2022-09-16T19:19:46.547187Z",
          "shell.execute_reply.started": "2022-09-16T19:19:46.530162Z"
        },
        "id": "KxcJfYXoen8U",
        "trusted": true
      },
      "outputs": [],
      "source": [
        "# This project focuses on individual author structure and development;\n",
        "data = data[data['num_authors'] <= 6]"
      ]
    },
    {
      "cell_type": "code",
      "execution_count": 61,
      "metadata": {
        "execution": {
          "iopub.execute_input": "2022-09-16T19:19:46.551291Z",
          "iopub.status.busy": "2022-09-16T19:19:46.550957Z",
          "iopub.status.idle": "2022-09-16T19:19:46.601131Z",
          "shell.execute_reply": "2022-09-16T19:19:46.599459Z",
          "shell.execute_reply.started": "2022-09-16T19:19:46.551268Z"
        },
        "id": "NtN6MrSjen8V",
        "trusted": true
      },
      "outputs": [],
      "source": [
        "data['author_pairs']=data['authors'].apply(lambda x:list(combinations(x, 2)))"
      ]
    },
    {
      "cell_type": "code",
      "execution_count": 62,
      "metadata": {
        "execution": {
          "iopub.execute_input": "2022-09-16T19:19:46.603914Z",
          "iopub.status.busy": "2022-09-16T19:19:46.603531Z",
          "iopub.status.idle": "2022-09-16T19:19:46.610156Z",
          "shell.execute_reply": "2022-09-16T19:19:46.608872Z",
          "shell.execute_reply.started": "2022-09-16T19:19:46.603888Z"
        },
        "id": "EwFPQO9ken8V",
        "trusted": true
      },
      "outputs": [],
      "source": [
        "def flattenList(nested_list):\n",
        "    flat_list = [item for sublist in nested_list for item in sublist]\n",
        "    return flat_list"
      ]
    },
    {
      "cell_type": "code",
      "execution_count": 63,
      "metadata": {
        "execution": {
          "iopub.execute_input": "2022-09-16T19:19:46.615359Z",
          "iopub.status.busy": "2022-09-16T19:19:46.615008Z",
          "iopub.status.idle": "2022-09-16T19:19:46.745362Z",
          "shell.execute_reply": "2022-09-16T19:19:46.743429Z",
          "shell.execute_reply.started": "2022-09-16T19:19:46.615333Z"
        },
        "id": "jp0Jg8cFen8V",
        "trusted": true
      },
      "outputs": [
        {
          "data": {
            "text/plain": [
              "(15169, 2)"
            ]
          },
          "execution_count": 63,
          "metadata": {},
          "output_type": "execute_result"
        }
      ],
      "source": [
        "astro_authors=pd.DataFrame(flattenList(data['authors'].tolist())).rename(columns={0:'authors'})\n",
        "papers_by_authors=astro_authors.groupby(['authors']).size().reset_index().rename(columns={0:'Number of Papers Published'}).sort_values(\"Number of Papers Published\",ascending=False)\n",
        "papers_by_authors.shape"
      ]
    },
    {
      "cell_type": "code",
      "execution_count": 64,
      "metadata": {
        "execution": {
          "iopub.execute_input": "2022-09-16T19:19:46.748209Z",
          "iopub.status.busy": "2022-09-16T19:19:46.747752Z",
          "iopub.status.idle": "2022-09-16T19:19:46.774408Z",
          "shell.execute_reply": "2022-09-16T19:19:46.773301Z",
          "shell.execute_reply.started": "2022-09-16T19:19:46.748174Z"
        },
        "id": "AJ1lBbRden8V",
        "scrolled": true,
        "trusted": true
      },
      "outputs": [
        {
          "data": {
            "text/plain": [
              "count    15169.000000\n",
              "mean         1.560749\n",
              "std          1.437569\n",
              "min          1.000000\n",
              "25%          1.000000\n",
              "50%          1.000000\n",
              "75%          2.000000\n",
              "max         29.000000\n",
              "Name: Number of Papers Published, dtype: float64"
            ]
          },
          "execution_count": 64,
          "metadata": {},
          "output_type": "execute_result"
        }
      ],
      "source": [
        "papers_by_authors['Number of Papers Published'].describe()"
      ]
    },
    {
      "cell_type": "code",
      "execution_count": 65,
      "metadata": {
        "execution": {
          "iopub.execute_input": "2022-09-16T19:19:46.777155Z",
          "iopub.status.busy": "2022-09-16T19:19:46.776621Z",
          "iopub.status.idle": "2022-09-16T19:19:46.788285Z",
          "shell.execute_reply": "2022-09-16T19:19:46.786295Z",
          "shell.execute_reply.started": "2022-09-16T19:19:46.777121Z"
        },
        "id": "BPJQkLMIen8V",
        "trusted": true
      },
      "outputs": [
        {
          "data": {
            "text/plain": [
              "1757"
            ]
          },
          "execution_count": 65,
          "metadata": {},
          "output_type": "execute_result"
        }
      ],
      "source": [
        "# Keeping Authors who have published more than 2 Papers\n",
        "nodes_to_keep=papers_by_authors.loc[papers_by_authors['Number of Papers Published']>2,'authors'].tolist()\n",
        "len(nodes_to_keep)"
      ]
    },
    {
      "cell_type": "markdown",
      "metadata": {
        "id": "dOL5U1Wwen8V"
      },
      "source": [
        "## Generating the Edges of the Co-Author Network"
      ]
    },
    {
      "cell_type": "code",
      "execution_count": 66,
      "metadata": {
        "execution": {
          "iopub.execute_input": "2022-09-16T19:19:46.790703Z",
          "iopub.status.busy": "2022-09-16T19:19:46.790306Z",
          "iopub.status.idle": "2022-09-16T19:19:46.888171Z",
          "shell.execute_reply": "2022-09-16T19:19:46.887244Z",
          "shell.execute_reply.started": "2022-09-16T19:19:46.790677Z"
        },
        "id": "XjpBxwHWen8V",
        "trusted": true
      },
      "outputs": [
        {
          "data": {
            "text/plain": [
              "[('Li Qin', 'Li Chengqing', 1),\n",
              " ('Li Qin', 'Wu Chunhui', 1),\n",
              " ('Li Qin', 'Long Dongyang', 1),\n",
              " ('Li Qin', 'Wang Changji', 1),\n",
              " ('Li Chengqing', 'Wu Chunhui', 1),\n",
              " ('Li Chengqing', 'Long Dongyang', 1),\n",
              " ('Li Chengqing', 'Wang Changji', 1),\n",
              " ('Wu Chunhui', 'Long Dongyang', 1),\n",
              " ('Wu Chunhui', 'Wang Changji', 1),\n",
              " ('Long Dongyang', 'Wang Changji', 1)]"
            ]
          },
          "execution_count": 66,
          "metadata": {},
          "output_type": "execute_result"
        }
      ],
      "source": [
        "authors_pairs=data['author_pairs'].tolist()\n",
        "authors_edge_list=[item for sublist in authors_pairs for item in sublist]\n",
        "authors_weighted_edge_list=list(Counter(authors_edge_list).items())\n",
        "authors_weighted_edge_list=[(row[0][0],row[0][1],row[1]) for idx,row in enumerate(authors_weighted_edge_list)]\n",
        "authors_weighted_edge_list[0:10]"
      ]
    },
    {
      "cell_type": "code",
      "execution_count": 67,
      "metadata": {
        "execution": {
          "iopub.execute_input": "2022-09-16T19:19:46.889614Z",
          "iopub.status.busy": "2022-09-16T19:19:46.88933Z",
          "iopub.status.idle": "2022-09-16T19:19:47.144227Z",
          "shell.execute_reply": "2022-09-16T19:19:47.14289Z",
          "shell.execute_reply.started": "2022-09-16T19:19:46.889585Z"
        },
        "id": "qS26paXHen8V",
        "trusted": true
      },
      "outputs": [
        {
          "name": "stdout",
          "output_type": "stream",
          "text": [
            "14910\n"
          ]
        }
      ],
      "source": [
        "G1=nx.Graph()\n",
        "G1.add_weighted_edges_from(authors_weighted_edge_list)\n",
        "print(len(G1.nodes()))"
      ]
    },
    {
      "cell_type": "code",
      "execution_count": 68,
      "metadata": {
        "execution": {
          "iopub.execute_input": "2022-09-16T19:19:47.145865Z",
          "iopub.status.busy": "2022-09-16T19:19:47.145575Z",
          "iopub.status.idle": "2022-09-16T19:19:47.508722Z",
          "shell.execute_reply": "2022-09-16T19:19:47.507286Z",
          "shell.execute_reply.started": "2022-09-16T19:19:47.14584Z"
        },
        "id": "ThErAu5gen8W",
        "trusted": true
      },
      "outputs": [
        {
          "name": "stdout",
          "output_type": "stream",
          "text": [
            "1747\n"
          ]
        },
        {
          "data": {
            "text/plain": [
              "145"
            ]
          },
          "execution_count": 68,
          "metadata": {},
          "output_type": "execute_result"
        }
      ],
      "source": [
        "sub_g=nx.subgraph(G1,nodes_to_keep)\n",
        "G=nx.Graph(sub_g)\n",
        "print(len(G.nodes()))\n",
        "isolated_node=nx.isolates(G)\n",
        "len(list(isolated_node))"
      ]
    },
    {
      "cell_type": "code",
      "execution_count": 69,
      "metadata": {
        "execution": {
          "iopub.execute_input": "2022-09-16T19:19:47.511715Z",
          "iopub.status.busy": "2022-09-16T19:19:47.51131Z",
          "iopub.status.idle": "2022-09-16T19:19:47.524933Z",
          "shell.execute_reply": "2022-09-16T19:19:47.523796Z",
          "shell.execute_reply.started": "2022-09-16T19:19:47.511687Z"
        },
        "id": "jEMdn5HAen8W",
        "trusted": true
      },
      "outputs": [
        {
          "data": {
            "text/plain": [
              "1602"
            ]
          },
          "execution_count": 69,
          "metadata": {},
          "output_type": "execute_result"
        }
      ],
      "source": [
        "G.remove_nodes_from(list(nx.isolates(G)))\n",
        "len(G.nodes)"
      ]
    },
    {
      "cell_type": "code",
      "execution_count": 70,
      "metadata": {
        "execution": {
          "iopub.execute_input": "2022-09-16T19:19:47.526671Z",
          "iopub.status.busy": "2022-09-16T19:19:47.526343Z",
          "iopub.status.idle": "2022-09-16T19:19:47.578343Z",
          "shell.execute_reply": "2022-09-16T19:19:47.5771Z",
          "shell.execute_reply.started": "2022-09-16T19:19:47.526646Z"
        },
        "id": "MxToeT16en8W",
        "trusted": true
      },
      "outputs": [],
      "source": [
        "del G1, sub_g"
      ]
    },
    {
      "cell_type": "code",
      "execution_count": 71,
      "metadata": {
        "execution": {
          "iopub.execute_input": "2022-09-16T19:19:47.579965Z",
          "iopub.status.busy": "2022-09-16T19:19:47.579638Z",
          "iopub.status.idle": "2022-09-16T19:19:47.597472Z",
          "shell.execute_reply": "2022-09-16T19:19:47.595904Z",
          "shell.execute_reply.started": "2022-09-16T19:19:47.57994Z"
        },
        "id": "kJaPPoCfen8W",
        "trusted": true
      },
      "outputs": [
        {
          "name": "stdout",
          "output_type": "stream",
          "text": [
            "Number of Nodes in Author Graph  1602\n",
            "Number of Edges in AUthor Graph  2769\n"
          ]
        }
      ],
      "source": [
        "print(\"Number of Nodes in Author Graph \",len(G.nodes()))\n",
        "print(\"Number of Edges in AUthor Graph \",len(G.edges()))"
      ]
    },
    {
      "cell_type": "code",
      "execution_count": 72,
      "metadata": {
        "execution": {
          "iopub.execute_input": "2022-09-16T19:19:47.598834Z",
          "iopub.status.busy": "2022-09-16T19:19:47.598533Z",
          "iopub.status.idle": "2022-09-16T19:19:47.614236Z",
          "shell.execute_reply": "2022-09-16T19:19:47.612654Z",
          "shell.execute_reply.started": "2022-09-16T19:19:47.598809Z"
        },
        "id": "iopNMeQken8W",
        "trusted": true
      },
      "outputs": [],
      "source": [
        "def getRandomWalk(graph,node,length_of_random_walk):\n",
        "    start_node=node\n",
        "    current_node=start_node\n",
        "    random_walk=[node]\n",
        "    for i in range(0,length_of_random_walk):\n",
        "        current_node_neighbours=list(graph.neighbors(current_node))\n",
        "        chosen_node=random.choice(current_node_neighbours)\n",
        "        current_node=chosen_node\n",
        "        random_walk.append(current_node)\n",
        "    return random_walk"
      ]
    },
    {
      "cell_type": "markdown",
      "metadata": {
        "id": "j7unhl6_en8W"
      },
      "source": [
        "#### For every Node in the Graph, get randomwalks .\n",
        "#### For each node, get 10 random walks"
      ]
    },
    {
      "cell_type": "code",
      "execution_count": 73,
      "metadata": {
        "execution": {
          "iopub.execute_input": "2022-09-16T19:19:47.615698Z",
          "iopub.status.busy": "2022-09-16T19:19:47.615351Z",
          "iopub.status.idle": "2022-09-16T19:19:49.162485Z",
          "shell.execute_reply": "2022-09-16T19:19:49.160526Z",
          "shell.execute_reply.started": "2022-09-16T19:19:47.615672Z"
        },
        "id": "NtNpCzgten8W",
        "trusted": true
      },
      "outputs": [
        {
          "name": "stderr",
          "output_type": "stream",
          "text": [
            "/Users/fox/anaconda3/envs/dl/lib/python3.10/site-packages/ipywidgets/widgets/widget.py:528: DeprecationWarning:\n",
            "\n",
            "The `ipykernel.comm.Comm` class has been deprecated. Please use the `comm` module instead.For creating comms, use the function `from comm import create_comm`.\n",
            "\n",
            "/Users/fox/anaconda3/envs/dl/lib/python3.10/site-packages/ipywidgets/widgets/widget.py:528: DeprecationWarning:\n",
            "\n",
            "The `ipykernel.comm.Comm` class has been deprecated. Please use the `comm` module instead.For creating comms, use the function `from comm import create_comm`.\n",
            "\n",
            "/Users/fox/anaconda3/envs/dl/lib/python3.10/site-packages/ipywidgets/widgets/widget.py:528: DeprecationWarning:\n",
            "\n",
            "The `ipykernel.comm.Comm` class has been deprecated. Please use the `comm` module instead.For creating comms, use the function `from comm import create_comm`.\n",
            "\n",
            "/Users/fox/anaconda3/envs/dl/lib/python3.10/site-packages/ipywidgets/widgets/widget.py:528: DeprecationWarning:\n",
            "\n",
            "The `ipykernel.comm.Comm` class has been deprecated. Please use the `comm` module instead.For creating comms, use the function `from comm import create_comm`.\n",
            "\n",
            "/Users/fox/anaconda3/envs/dl/lib/python3.10/site-packages/ipywidgets/widgets/widget.py:528: DeprecationWarning:\n",
            "\n",
            "The `ipykernel.comm.Comm` class has been deprecated. Please use the `comm` module instead.For creating comms, use the function `from comm import create_comm`.\n",
            "\n",
            "/Users/fox/anaconda3/envs/dl/lib/python3.10/site-packages/ipywidgets/widgets/widget.py:528: DeprecationWarning:\n",
            "\n",
            "The `ipykernel.comm.Comm` class has been deprecated. Please use the `comm` module instead.For creating comms, use the function `from comm import create_comm`.\n",
            "\n",
            "/Users/fox/anaconda3/envs/dl/lib/python3.10/site-packages/ipywidgets/widgets/widget.py:528: DeprecationWarning:\n",
            "\n",
            "The `ipykernel.comm.Comm` class has been deprecated. Please use the `comm` module instead.For creating comms, use the function `from comm import create_comm`.\n",
            "\n",
            "/Users/fox/anaconda3/envs/dl/lib/python3.10/site-packages/ipywidgets/widgets/widget.py:528: DeprecationWarning:\n",
            "\n",
            "The `ipykernel.comm.Comm` class has been deprecated. Please use the `comm` module instead.For creating comms, use the function `from comm import create_comm`.\n",
            "\n",
            "/Users/fox/anaconda3/envs/dl/lib/python3.10/site-packages/ipywidgets/widgets/widget.py:528: DeprecationWarning:\n",
            "\n",
            "The `ipykernel.comm.Comm` class has been deprecated. Please use the `comm` module instead.For creating comms, use the function `from comm import create_comm`.\n",
            "\n",
            "/Users/fox/anaconda3/envs/dl/lib/python3.10/site-packages/ipywidgets/widgets/widget.py:528: DeprecationWarning:\n",
            "\n",
            "The `ipykernel.comm.Comm` class has been deprecated. Please use the `comm` module instead.For creating comms, use the function `from comm import create_comm`.\n",
            "\n",
            "/Users/fox/anaconda3/envs/dl/lib/python3.10/site-packages/ipywidgets/widgets/widget.py:528: DeprecationWarning:\n",
            "\n",
            "The `ipykernel.comm.Comm` class has been deprecated. Please use the `comm` module instead.For creating comms, use the function `from comm import create_comm`.\n",
            "\n"
          ]
        },
        {
          "data": {
            "application/vnd.jupyter.widget-view+json": {
              "model_id": "0003d016c87c4cf59879be1682fb6e81",
              "version_major": 2,
              "version_minor": 0
            },
            "text/plain": [
              "Iterating Nodes:   0%|          | 0/1602 [00:00<?, ?it/s]"
            ]
          },
          "metadata": {},
          "output_type": "display_data"
        }
      ],
      "source": [
        "num_sampling=10\n",
        "random_walks=[]\n",
        "length_of_random_walk=10\n",
        "for node in tqdm(G.nodes(),desc=\"Iterating Nodes\"):\n",
        "\n",
        "    for i in range(0,num_sampling):\n",
        "        random_walks.append(getRandomWalk(G,node,length_of_random_walk))"
      ]
    },
    {
      "cell_type": "code",
      "execution_count": 74,
      "metadata": {
        "execution": {
          "iopub.execute_input": "2022-09-16T19:19:49.164302Z",
          "iopub.status.busy": "2022-09-16T19:19:49.163997Z",
          "iopub.status.idle": "2022-09-16T19:20:24.061388Z",
          "shell.execute_reply": "2022-09-16T19:20:24.060344Z",
          "shell.execute_reply.started": "2022-09-16T19:19:49.164278Z"
        },
        "id": "YgZuIxUNen8W",
        "trusted": true
      },
      "outputs": [],
      "source": [
        "deepwalk_model=Word2Vec(sentences=random_walks,window=5,sg=1,negative=5,vector_size=128,epochs=20,compute_loss=True)"
      ]
    },
    {
      "cell_type": "code",
      "execution_count": 75,
      "metadata": {
        "execution": {
          "iopub.execute_input": "2022-09-16T19:20:24.06254Z",
          "iopub.status.busy": "2022-09-16T19:20:24.06231Z",
          "iopub.status.idle": "2022-09-16T19:20:24.085582Z",
          "shell.execute_reply": "2022-09-16T19:20:24.083125Z",
          "shell.execute_reply.started": "2022-09-16T19:20:24.062516Z"
        },
        "id": "oA-qfXzfen8W",
        "trusted": true
      },
      "outputs": [],
      "source": [
        "deepwalk_model.save(\"deepwalk1.model\")"
      ]
    },
    {
      "cell_type": "code",
      "execution_count": 76,
      "metadata": {
        "execution": {
          "iopub.execute_input": "2022-09-16T19:20:24.087014Z",
          "iopub.status.busy": "2022-09-16T19:20:24.086721Z",
          "iopub.status.idle": "2022-09-16T19:20:24.094479Z",
          "shell.execute_reply": "2022-09-16T19:20:24.092949Z",
          "shell.execute_reply.started": "2022-09-16T19:20:24.08699Z"
        },
        "id": "xEOn3XuGen8W",
        "trusted": true
      },
      "outputs": [],
      "source": [
        "def getSimilarNodes(model,node):\n",
        "    similarity=model.wv.most_similar(node)\n",
        "    similar_nodes=pd.DataFrame()\n",
        "    similar_nodes['Similar_Node']=[row[0] for i,row in enumerate(similarity)]\n",
        "    similar_nodes['Similarity_Score']=[row[1] for i,row in enumerate(similarity)]\n",
        "    similar_nodes['Source_Node']=node\n",
        "    return similar_nodes"
      ]
    },
    {
      "cell_type": "code",
      "execution_count": 77,
      "metadata": {
        "execution": {
          "iopub.execute_input": "2022-09-16T19:20:24.096717Z",
          "iopub.status.busy": "2022-09-16T19:20:24.096311Z",
          "iopub.status.idle": "2022-09-16T19:20:24.219878Z",
          "shell.execute_reply": "2022-09-16T19:20:24.218886Z",
          "shell.execute_reply.started": "2022-09-16T19:20:24.096681Z"
        },
        "id": "hBSBbC8Xen8W",
        "trusted": true
      },
      "outputs": [
        {
          "data": {
            "text/html": [
              "<div>\n",
              "<style scoped>\n",
              "    .dataframe tbody tr th:only-of-type {\n",
              "        vertical-align: middle;\n",
              "    }\n",
              "\n",
              "    .dataframe tbody tr th {\n",
              "        vertical-align: top;\n",
              "    }\n",
              "\n",
              "    .dataframe thead th {\n",
              "        text-align: right;\n",
              "    }\n",
              "</style>\n",
              "<table border=\"1\" class=\"dataframe\">\n",
              "  <thead>\n",
              "    <tr style=\"text-align: right;\">\n",
              "      <th></th>\n",
              "      <th>authors</th>\n",
              "      <th>Number of Papers Published</th>\n",
              "    </tr>\n",
              "  </thead>\n",
              "  <tbody>\n",
              "    <tr>\n",
              "      <th>7546</th>\n",
              "      <td>Liu Yang</td>\n",
              "      <td>29</td>\n",
              "    </tr>\n",
              "    <tr>\n",
              "      <th>4195</th>\n",
              "      <td>Gong Neil Zhenqiang</td>\n",
              "      <td>26</td>\n",
              "    </tr>\n",
              "    <tr>\n",
              "      <th>3288</th>\n",
              "      <td>Elovici Yuval</td>\n",
              "      <td>23</td>\n",
              "    </tr>\n",
              "    <tr>\n",
              "      <th>11258</th>\n",
              "      <td>Shabtai Asaf</td>\n",
              "      <td>21</td>\n",
              "    </tr>\n",
              "    <tr>\n",
              "      <th>11481</th>\n",
              "      <td>Shiaeles Stavros</td>\n",
              "      <td>21</td>\n",
              "    </tr>\n",
              "    <tr>\n",
              "      <th>...</th>\n",
              "      <td>...</td>\n",
              "      <td>...</td>\n",
              "    </tr>\n",
              "    <tr>\n",
              "      <th>5791</th>\n",
              "      <td>Jääger Joosep</td>\n",
              "      <td>1</td>\n",
              "    </tr>\n",
              "    <tr>\n",
              "      <th>5793</th>\n",
              "      <td>Jørgensen Jonas Kofod</td>\n",
              "      <td>1</td>\n",
              "    </tr>\n",
              "    <tr>\n",
              "      <th>5795</th>\n",
              "      <td>Júnior Elvandi da Silva</td>\n",
              "      <td>1</td>\n",
              "    </tr>\n",
              "    <tr>\n",
              "      <th>5796</th>\n",
              "      <td>K Buvanasri A</td>\n",
              "      <td>1</td>\n",
              "    </tr>\n",
              "    <tr>\n",
              "      <th>15168</th>\n",
              "      <td>Žarko Ivana Podnar</td>\n",
              "      <td>1</td>\n",
              "    </tr>\n",
              "  </tbody>\n",
              "</table>\n",
              "<p>15169 rows × 2 columns</p>\n",
              "</div>"
            ],
            "text/plain": [
              "                       authors  Number of Papers Published\n",
              "7546                  Liu Yang                          29\n",
              "4195       Gong Neil Zhenqiang                          26\n",
              "3288             Elovici Yuval                          23\n",
              "11258             Shabtai Asaf                          21\n",
              "11481         Shiaeles Stavros                          21\n",
              "...                        ...                         ...\n",
              "5791             Jääger Joosep                           1\n",
              "5793     Jørgensen Jonas Kofod                           1\n",
              "5795   Júnior Elvandi da Silva                           1\n",
              "5796             K Buvanasri A                           1\n",
              "15168       Žarko Ivana Podnar                           1\n",
              "\n",
              "[15169 rows x 2 columns]"
            ]
          },
          "execution_count": 77,
          "metadata": {},
          "output_type": "execute_result"
        }
      ],
      "source": [
        "ai_authors=pd.DataFrame(flattenList(data['authors'].tolist())).rename(columns={0:'authors'})\n",
        "papers_by_authors=ai_authors.groupby(['authors']).size().reset_index().rename(columns={0:'Number of Papers Published'}).sort_values(\"Number of Papers Published\",ascending=False)\n",
        "papers_by_authors"
      ]
    },
    {
      "cell_type": "code",
      "execution_count": 78,
      "metadata": {
        "execution": {
          "iopub.execute_input": "2022-09-16T19:20:24.222491Z",
          "iopub.status.busy": "2022-09-16T19:20:24.221147Z",
          "iopub.status.idle": "2022-09-16T19:20:24.229525Z",
          "shell.execute_reply": "2022-09-16T19:20:24.227758Z",
          "shell.execute_reply.started": "2022-09-16T19:20:24.222429Z"
        },
        "id": "13A3rD4cen8W",
        "trusted": true
      },
      "outputs": [],
      "source": [
        "def getCoAuthorshipNetwork(graph,initial_nodes):\n",
        "    total_neighbours=0\n",
        "    nodes_set=[initial_nodes]\n",
        "    for node in initial_nodes:\n",
        "        #print(node)\n",
        "        neighbours=list(graph.neighbors(node))\n",
        "        total_neighbours=total_neighbours+len(neighbours)\n",
        "\n",
        "        nodes_set.append(neighbours)\n",
        "    print(total_neighbours)\n",
        "    nodes_set=flattenList(nodes_set)\n",
        "    return list(set(nodes_set))"
      ]
    },
    {
      "cell_type": "code",
      "execution_count": 79,
      "metadata": {
        "execution": {
          "iopub.execute_input": "2022-09-16T19:20:24.232078Z",
          "iopub.status.busy": "2022-09-16T19:20:24.231631Z",
          "iopub.status.idle": "2022-09-16T19:20:24.24762Z",
          "shell.execute_reply": "2022-09-16T19:20:24.246322Z",
          "shell.execute_reply.started": "2022-09-16T19:20:24.232036Z"
        },
        "id": "Jm2AoC0Jen8W",
        "trusted": true
      },
      "outputs": [
        {
          "name": "stdout",
          "output_type": "stream",
          "text": [
            "67\n",
            "Number of CoAuthor Nodes  64\n"
          ]
        }
      ],
      "source": [
        "coauthor_nodes=getCoAuthorshipNetwork(G,papers_by_authors['authors'].tolist()[4:10])\n",
        "print(\"Number of CoAuthor Nodes \",len(coauthor_nodes))"
      ]
    },
    {
      "cell_type": "code",
      "execution_count": 80,
      "metadata": {
        "execution": {
          "iopub.execute_input": "2022-09-16T19:20:24.248922Z",
          "iopub.status.busy": "2022-09-16T19:20:24.248633Z",
          "iopub.status.idle": "2022-09-16T19:20:24.265412Z",
          "shell.execute_reply": "2022-09-16T19:20:24.264189Z",
          "shell.execute_reply.started": "2022-09-16T19:20:24.248889Z"
        },
        "id": "CBrkHWZGen8W",
        "trusted": true
      },
      "outputs": [
        {
          "name": "stdout",
          "output_type": "stream",
          "text": [
            "number of edges in the CoAuthor Subgraph  134\n"
          ]
        }
      ],
      "source": [
        "coauthor_subgraph=nx.subgraph(G,coauthor_nodes)\n",
        "print(\"number of edges in the CoAuthor Subgraph \",len(coauthor_subgraph.edges()))"
      ]
    },
    {
      "cell_type": "code",
      "execution_count": 81,
      "metadata": {
        "execution": {
          "iopub.execute_input": "2022-09-16T19:20:24.274993Z",
          "iopub.status.busy": "2022-09-16T19:20:24.273494Z",
          "iopub.status.idle": "2022-09-16T19:20:24.297336Z",
          "shell.execute_reply": "2022-09-16T19:20:24.296237Z",
          "shell.execute_reply.started": "2022-09-16T19:20:24.274942Z"
        },
        "id": "Fzzzz5GCen8W",
        "trusted": true
      },
      "outputs": [],
      "source": [
        "nx.write_gexf(coauthor_subgraph, \"CoAuthor_Subgraph_Author4to10.gexf\")"
      ]
    },
    {
      "cell_type": "code",
      "execution_count": 82,
      "metadata": {
        "execution": {
          "iopub.execute_input": "2022-09-16T19:20:24.299886Z",
          "iopub.status.busy": "2022-09-16T19:20:24.298391Z",
          "iopub.status.idle": "2022-09-16T19:20:24.314052Z",
          "shell.execute_reply": "2022-09-16T19:20:24.313162Z",
          "shell.execute_reply.started": "2022-09-16T19:20:24.299834Z"
        },
        "id": "dAcXCTRCen8X",
        "trusted": true
      },
      "outputs": [
        {
          "name": "stdout",
          "output_type": "stream",
          "text": [
            "number of edges in the CoAuthor Subgraph  134\n"
          ]
        }
      ],
      "source": [
        "print(\"number of edges in the CoAuthor Subgraph \",len(coauthor_subgraph.edges()))"
      ]
    },
    {
      "cell_type": "code",
      "execution_count": 83,
      "metadata": {
        "execution": {
          "iopub.execute_input": "2022-09-16T19:20:24.31581Z",
          "iopub.status.busy": "2022-09-16T19:20:24.315167Z",
          "iopub.status.idle": "2022-09-16T19:20:24.367799Z",
          "shell.execute_reply": "2022-09-16T19:20:24.366861Z",
          "shell.execute_reply.started": "2022-09-16T19:20:24.315783Z"
        },
        "id": "gIYBFmh5en8X",
        "trusted": true
      },
      "outputs": [
        {
          "name": "stdout",
          "output_type": "stream",
          "text": [
            "Warning: When  cdn_resources is 'local' jupyter notebook has issues displaying graphics on chrome/safari. Use cdn_resources='in_line' or cdn_resources='remote' if you have issues viewing graphics in a notebook.\n",
            "Creating PyVis from NetworkX\n",
            "Saving PyVis Graph\n",
            "Author4to10_CoAuthorGraph.html\n"
          ]
        },
        {
          "data": {
            "text/html": [
              "\n",
              "        <iframe\n",
              "            width=\"100%\"\n",
              "            height=\"800px\"\n",
              "            src=\"Author4to10_CoAuthorGraph.html\"\n",
              "            frameborder=\"0\"\n",
              "            allowfullscreen\n",
              "            \n",
              "        ></iframe>\n",
              "        "
            ],
            "text/plain": [
              "<IPython.lib.display.IFrame at 0x3578484c0>"
            ]
          },
          "execution_count": 83,
          "metadata": {},
          "output_type": "execute_result"
        }
      ],
      "source": [
        "pyvis_nt=Network(notebook=True,height='800px', width='100%',heading='')\n",
        "\n",
        "print(\"Creating PyVis from NetworkX\")\n",
        "pyvis_nt.from_nx(coauthor_subgraph)\n",
        "\n",
        "print(\"Saving PyVis Graph\")\n",
        "pyvis_nt.show(\"Author4to10_CoAuthorGraph.html\")"
      ]
    },
    {
      "cell_type": "markdown",
      "metadata": {
        "id": "OF2AUxsOen8X"
      },
      "source": [
        "## Degree Centrality\n",
        "The degtee of a node is the number oof other nodes to which it is connected\n",
        "It is calculated by taking the degree of the node and dividing by n-1 where n is the number of nodes in G"
      ]
    },
    {
      "cell_type": "code",
      "execution_count": 84,
      "metadata": {
        "execution": {
          "iopub.execute_input": "2022-09-16T19:20:24.369262Z",
          "iopub.status.busy": "2022-09-16T19:20:24.369019Z",
          "iopub.status.idle": "2022-09-16T19:20:24.383537Z",
          "shell.execute_reply": "2022-09-16T19:20:24.382013Z",
          "shell.execute_reply.started": "2022-09-16T19:20:24.36924Z"
        },
        "id": "6-VGSwtren8X",
        "scrolled": true,
        "trusted": true
      },
      "outputs": [],
      "source": [
        "degree_centrality = nx.degree_centrality(G)"
      ]
    },
    {
      "cell_type": "code",
      "execution_count": 85,
      "metadata": {
        "execution": {
          "iopub.execute_input": "2022-09-16T19:20:24.387334Z",
          "iopub.status.busy": "2022-09-16T19:20:24.386467Z",
          "iopub.status.idle": "2022-09-16T19:20:24.400375Z",
          "shell.execute_reply": "2022-09-16T19:20:24.39871Z",
          "shell.execute_reply.started": "2022-09-16T19:20:24.387301Z"
        },
        "id": "_BcCX-0qen8X",
        "trusted": true
      },
      "outputs": [
        {
          "name": "stdout",
          "output_type": "stream",
          "text": [
            "Liu Yang 0.01624\n",
            "Nepal Surya 0.01624\n",
            "Wang Wei 0.01187\n",
            "Thakurta Abhradeep 0.01187\n",
            "Papernot Nicolas 0.01124\n",
            "Jha Somesh 0.01062\n",
            "Li Bo 0.00937\n",
            "Zhang Yang 0.00874\n",
            "Jurdak Raja 0.00874\n",
            "Lyu Lingjuan 0.00812\n",
            "Zhao Jun 0.00812\n",
            "Livshits Benjamin 0.00812\n",
            "Gong Neil Zhenqiang 0.00750\n",
            "Biggio Battista 0.00750\n",
            "Wang Hao 0.00750\n",
            "Mireshghallah Fatemehsadat 0.00750\n",
            "Carlini Nicholas 0.00750\n",
            "Kamath Gautam 0.00750\n",
            "Wu Zhiwei Steven 0.00750\n",
            "Raskar Ramesh 0.00687\n"
          ]
        }
      ],
      "source": [
        "# Top 10\n",
        "counter = 0\n",
        "for w in sorted(degree_centrality, key = degree_centrality.get, reverse = True):\n",
        "    counter = counter + 1\n",
        "    if counter == 21:\n",
        "        break\n",
        "    print(w,\"{:0.5f}\".format(degree_centrality[w]))"
      ]
    },
    {
      "cell_type": "markdown",
      "metadata": {
        "id": "hY-oHDPXen8X"
      },
      "source": [
        "# Closeness Centrality\n",
        "Closeness centrality measures the mean distance from one node to any other node. The more central a node is, the closer it is to all the other nodes. The closeness of a node is typically referred to in its normalized form"
      ]
    },
    {
      "cell_type": "code",
      "execution_count": 86,
      "metadata": {
        "execution": {
          "iopub.execute_input": "2022-09-16T19:20:24.402796Z",
          "iopub.status.busy": "2022-09-16T19:20:24.402213Z",
          "iopub.status.idle": "2022-09-16T19:21:58.604095Z",
          "shell.execute_reply": "2022-09-16T19:21:58.602326Z",
          "shell.execute_reply.started": "2022-09-16T19:20:24.402768Z"
        },
        "id": "Y2hue0Mben8X",
        "scrolled": true,
        "trusted": true
      },
      "outputs": [],
      "source": [
        "closeness_centrality = nx.closeness_centrality(G)"
      ]
    },
    {
      "cell_type": "code",
      "execution_count": 87,
      "metadata": {
        "execution": {
          "iopub.execute_input": "2022-09-16T19:21:58.606838Z",
          "iopub.status.busy": "2022-09-16T19:21:58.606444Z",
          "iopub.status.idle": "2022-09-16T19:21:58.616949Z",
          "shell.execute_reply": "2022-09-16T19:21:58.61533Z",
          "shell.execute_reply.started": "2022-09-16T19:21:58.606812Z"
        },
        "id": "sDUJSWwyen8h",
        "scrolled": true,
        "trusted": true
      },
      "outputs": [
        {
          "name": "stdout",
          "output_type": "stream",
          "text": [
            "Li Bo 0.12340\n",
            "Liu Yang 0.12140\n",
            "Oprea Alina 0.11517\n",
            "Wang Wei 0.11435\n",
            "Jagielski Matthew 0.11405\n",
            "Nepal Surya 0.11359\n",
            "Xue Minhui 0.11340\n",
            "Biggio Battista 0.11124\n",
            "Zhao Jun 0.11124\n",
            "Nita-Rotaru Cristina 0.11107\n",
            "Liu Ximeng 0.11063\n",
            "Zhu Tianqing 0.11026\n",
            "Zhao Benjamin Zi Hao 0.10938\n",
            "Gunter Carl A. 0.10864\n",
            "Wang Qi 0.10849\n",
            "Ranasinghe Damith C. 0.10845\n",
            "Shabtai Asaf 0.10791\n",
            "Ma Jianfeng 0.10776\n",
            "Camtepe Seyit 0.10770\n",
            "Lyu Lingjuan 0.10717\n",
            "Meng Guozhu 0.10688\n",
            "Chen Shiping 0.10561\n"
          ]
        }
      ],
      "source": [
        "# Top 10\n",
        "counter = 0\n",
        "for w in sorted(closeness_centrality, key = closeness_centrality.get, reverse = True):\n",
        "    counter = counter + 1\n",
        "    if counter == 23:\n",
        "        break\n",
        "    print(w,\"{:0.5f}\".format(closeness_centrality[w]))"
      ]
    },
    {
      "cell_type": "markdown",
      "metadata": {
        "id": "5cAOOnXPen8h"
      },
      "source": [
        "node Mukherjee Suvodip as the highest closeness centrality, which means that it is closest to the most nodes than all the other nodes."
      ]
    },
    {
      "cell_type": "markdown",
      "metadata": {
        "id": "mbfGwDBRen8h"
      },
      "source": [
        "# Betweenness Centrality\n",
        "It quantifies the number of times a node acts as a bridge along the shortest path between two other nodes\n",
        "In thids conception, vectices that have a high probability to occur on a randomly chosen shortest path between two randomly chosen verticles have a high betweenness"
      ]
    },
    {
      "cell_type": "code",
      "execution_count": 88,
      "metadata": {
        "execution": {
          "iopub.execute_input": "2022-09-16T19:21:58.619418Z",
          "iopub.status.busy": "2022-09-16T19:21:58.618591Z",
          "iopub.status.idle": "2022-09-16T19:28:09.335161Z",
          "shell.execute_reply": "2022-09-16T19:28:09.333949Z",
          "shell.execute_reply.started": "2022-09-16T19:21:58.619391Z"
        },
        "id": "dP6c90LCen8h",
        "trusted": true
      },
      "outputs": [],
      "source": [
        "betweenness_centrality = nx.betweenness_centrality(G)"
      ]
    },
    {
      "cell_type": "code",
      "execution_count": 89,
      "metadata": {
        "execution": {
          "iopub.execute_input": "2022-09-16T19:28:09.338115Z",
          "iopub.status.busy": "2022-09-16T19:28:09.337638Z",
          "iopub.status.idle": "2022-09-16T19:28:09.349159Z",
          "shell.execute_reply": "2022-09-16T19:28:09.347402Z",
          "shell.execute_reply.started": "2022-09-16T19:28:09.338078Z"
        },
        "id": "m0vh5Wspen8h",
        "trusted": true
      },
      "outputs": [
        {
          "name": "stdout",
          "output_type": "stream",
          "text": [
            "Li Bo 0.08846\n",
            "Liu Yang 0.07958\n",
            "Nepal Surya 0.05021\n",
            "Wang Wei 0.04073\n",
            "Jagielski Matthew 0.03483\n",
            "Choo Kim-Kwang Raymond 0.03334\n",
            "Haddadi Hamed 0.03311\n",
            "Ullman Jonathan 0.02988\n",
            "Demetriou Soteris 0.02808\n",
            "Oprea Alina 0.02799\n",
            "Zhao Jun 0.02567\n",
            "Jha Somesh 0.02480\n",
            "Mahloujifar Saeed 0.02415\n",
            "Liu Ximeng 0.02215\n",
            "Biggio Battista 0.02164\n",
            "Vadhan Salil 0.02094\n",
            "Gunter Carl A. 0.02061\n",
            "Konstantinou Charalambos 0.02060\n",
            "Zhu Tianqing 0.02059\n",
            "Jha Sanjay 0.02052\n",
            "Lyu Lingjuan 0.02040\n",
            "Conti Mauro 0.01999\n"
          ]
        }
      ],
      "source": [
        "# Top 10\n",
        "counter = 0\n",
        "for w in sorted(betweenness_centrality, key = betweenness_centrality.get, reverse = True):\n",
        "    counter = counter + 1\n",
        "    if counter == 23:\n",
        "        break\n",
        "    print(w,\"{:0.5f}\".format(betweenness_centrality[w]))"
      ]
    },
    {
      "cell_type": "markdown",
      "metadata": {
        "id": "jZ7PwoaRen8i"
      },
      "source": [
        "# Eigenvector Centrality\n",
        "A node is high in eigenvector centrality if it is connected to many other nodes who are themselves well connected.\n",
        "Eigenvector centrality for each node is simply calculated as the proportional eigenvector values of the eigenvector with the largest eigenvector"
      ]
    },
    {
      "cell_type": "code",
      "execution_count": 90,
      "metadata": {
        "execution": {
          "iopub.execute_input": "2022-09-16T19:28:09.351758Z",
          "iopub.status.busy": "2022-09-16T19:28:09.351338Z",
          "iopub.status.idle": "2022-09-16T19:28:11.505104Z",
          "shell.execute_reply": "2022-09-16T19:28:11.50331Z",
          "shell.execute_reply.started": "2022-09-16T19:28:09.351722Z"
        },
        "id": "gHfR_saoen8i",
        "trusted": true
      },
      "outputs": [],
      "source": [
        "eigenvector_centrality = nx.eigenvector_centrality(G,max_iter=500)"
      ]
    },
    {
      "cell_type": "code",
      "execution_count": 91,
      "metadata": {
        "execution": {
          "iopub.execute_input": "2022-09-16T19:28:11.508211Z",
          "iopub.status.busy": "2022-09-16T19:28:11.507763Z",
          "iopub.status.idle": "2022-09-16T19:28:11.521017Z",
          "shell.execute_reply": "2022-09-16T19:28:11.518916Z",
          "shell.execute_reply.started": "2022-09-16T19:28:11.508173Z"
        },
        "id": "VjPJ2mWden8i",
        "trusted": true
      },
      "outputs": [
        {
          "name": "stdout",
          "output_type": "stream",
          "text": [
            "Thakurta Abhradeep 0.38949\n",
            "Carlini Nicholas 0.29425\n",
            "Papernot Nicolas 0.27006\n",
            "Jha Somesh 0.25385\n",
            "Song Shuang 0.24842\n",
            "Mironov Ilya 0.21385\n",
            "Mahloujifar Saeed 0.19481\n",
            "Erlingsson Úlfar 0.18806\n",
            "Mahmoody Mohammad 0.17527\n",
            "Garg Sanjam 0.17527\n",
            "Nasr Milad 0.16664\n",
            "Tramer Florian 0.16255\n",
            "Raghunathan Ananth 0.16197\n",
            "Feldman Vitaly 0.14784\n",
            "Talwar Kunal 0.14587\n",
            "Thakkar Om 0.14204\n",
            "Steinke Thomas 0.13624\n",
            "Kairouz Peter 0.12113\n",
            "Jagielski Matthew 0.11976\n",
            "Chandrasekaran Varun 0.11141\n",
            "Roth Aaron 0.09919\n",
            "Tramèr Florian 0.09818\n"
          ]
        }
      ],
      "source": [
        "# Top 10\n",
        "counter = 0\n",
        "for w in sorted(eigenvector_centrality, key = eigenvector_centrality.get, reverse = True):\n",
        "    counter = counter + 1\n",
        "    if counter == 23:\n",
        "        break\n",
        "    print(w,\"{:0.5f}\".format(eigenvector_centrality[w]))"
      ]
    },
    {
      "cell_type": "code",
      "execution_count": 103,
      "metadata": {
        "execution": {
          "iopub.execute_input": "2022-09-16T19:28:11.523204Z",
          "iopub.status.busy": "2022-09-16T19:28:11.522815Z",
          "iopub.status.idle": "2022-09-16T19:28:11.537702Z",
          "shell.execute_reply": "2022-09-16T19:28:11.536641Z",
          "shell.execute_reply.started": "2022-09-16T19:28:11.523177Z"
        },
        "id": "_CnRWVdaen8i",
        "trusted": true
      },
      "outputs": [
        {
          "name": "stdout",
          "output_type": "stream",
          "text": [
            "12\n",
            "Number of Nodes in Carlini Network  13\n",
            "Number of Edges in Carlini Network  39\n"
          ]
        }
      ],
      "source": [
        "Silk_nodes = getCoAuthorshipNetwork(G,['Carlini Nicholas'])\n",
        "Silk_network = nx.subgraph(G,Silk_nodes)\n",
        "print(\"Number of Nodes in Carlini Network \", len(Silk_network.nodes()))\n",
        "print(\"Number of Edges in Carlini Network \", len(Silk_network.edges()))"
      ]
    },
    {
      "cell_type": "code",
      "execution_count": 104,
      "metadata": {},
      "outputs": [],
      "source": [
        "cdn_resources='in_line'"
      ]
    },
    {
      "cell_type": "code",
      "execution_count": 105,
      "metadata": {
        "execution": {
          "iopub.execute_input": "2022-09-16T19:28:11.539073Z",
          "iopub.status.busy": "2022-09-16T19:28:11.53874Z",
          "iopub.status.idle": "2022-09-16T19:28:11.567993Z",
          "shell.execute_reply": "2022-09-16T19:28:11.566631Z",
          "shell.execute_reply.started": "2022-09-16T19:28:11.53904Z"
        },
        "id": "Rd7oDZ7den8i",
        "scrolled": true,
        "trusted": true
      },
      "outputs": [
        {
          "name": "stdout",
          "output_type": "stream",
          "text": [
            "Warning: When  cdn_resources is 'local' jupyter notebook has issues displaying graphics on chrome/safari. Use cdn_resources='in_line' or cdn_resources='remote' if you have issues viewing graphics in a notebook.\n",
            "Creating PyVis from NetworkX\n",
            "Saving PyVis Graph\n",
            "Silk_CoAuthorGraph.html\n"
          ]
        },
        {
          "data": {
            "text/html": [
              "\n",
              "        <iframe\n",
              "            width=\"100%\"\n",
              "            height=\"800px\"\n",
              "            src=\"Silk_CoAuthorGraph.html\"\n",
              "            frameborder=\"0\"\n",
              "            allowfullscreen\n",
              "            \n",
              "        ></iframe>\n",
              "        "
            ],
            "text/plain": [
              "<IPython.lib.display.IFrame at 0x2aee3df30>"
            ]
          },
          "execution_count": 105,
          "metadata": {},
          "output_type": "execute_result"
        }
      ],
      "source": [
        "Silk_nt=Network(notebook=True,height='800px', width='100%',heading='Silk Network')\n",
        "\n",
        "print(\"Creating PyVis from NetworkX\")\n",
        "Silk_nt.from_nx(Silk_network)\n",
        "Silk_nt.toggle_physics(True)\n",
        "print(\"Saving PyVis Graph\")\n",
        "\n",
        "Silk_nt.show_buttons()\n",
        "Silk_nt.show(\"Silk_CoAuthorGraph.html\")"
      ]
    },
    {
      "cell_type": "code",
      "execution_count": 106,
      "metadata": {
        "execution": {
          "iopub.execute_input": "2022-09-16T19:28:11.571481Z",
          "iopub.status.busy": "2022-09-16T19:28:11.570398Z",
          "iopub.status.idle": "2022-09-16T19:28:11.619486Z",
          "shell.execute_reply": "2022-09-16T19:28:11.618445Z",
          "shell.execute_reply.started": "2022-09-16T19:28:11.57145Z"
        },
        "id": "KlGfMA2Yen8i",
        "trusted": true
      },
      "outputs": [
        {
          "name": "stdout",
          "output_type": "stream",
          "text": [
            "Number of Papers by Carlini Nicholas on Arxiv is  11\n"
          ]
        }
      ],
      "source": [
        "data['is_SJ']=data['authors'].apply(lambda x:1 if \"Carlini Nicholas\" in x else 0)\n",
        "SJ_papers=data[data['is_SJ']==1]\n",
        "SJ_papers=SJ_papers.reset_index(drop=True)\n",
        "\n",
        "print(\"Number of Papers by Carlini Nicholas on Arxiv is \",SJ_papers.shape[0])"
      ]
    },
    {
      "cell_type": "code",
      "execution_count": 108,
      "metadata": {
        "execution": {
          "iopub.execute_input": "2022-09-16T19:28:11.621309Z",
          "iopub.status.busy": "2022-09-16T19:28:11.620911Z",
          "iopub.status.idle": "2022-09-16T19:28:11.633485Z",
          "shell.execute_reply": "2022-09-16T19:28:11.632253Z",
          "shell.execute_reply.started": "2022-09-16T19:28:11.621273Z"
        },
        "id": "WKbUO_WWen8i",
        "trusted": true
      },
      "outputs": [
        {
          "name": "stdout",
          "output_type": "stream",
          "text": [
            "The First Paper published by Carlini Nicholas was in  2020-03-03 22:08:02\n",
            "The Recent Paper published by Carlini Nicholas was in   2021-12-05 22:45:19\n"
          ]
        }
      ],
      "source": [
        "print(\"The First Paper published by Carlini Nicholas was in \",min(SJ_papers['DateTime']))\n",
        "print(\"The Recent Paper published by Carlini Nicholas was in  \",max(SJ_papers['DateTime']))"
      ]
    },
    {
      "cell_type": "code",
      "execution_count": 109,
      "metadata": {
        "execution": {
          "iopub.execute_input": "2022-09-16T19:28:11.636315Z",
          "iopub.status.busy": "2022-09-16T19:28:11.635825Z",
          "iopub.status.idle": "2022-09-16T19:28:12.55667Z",
          "shell.execute_reply": "2022-09-16T19:28:12.555368Z",
          "shell.execute_reply.started": "2022-09-16T19:28:11.636286Z"
        },
        "id": "eyz_GTa4en8i",
        "trusted": true
      },
      "outputs": [],
      "source": [
        "import nltk\n",
        "from nltk.corpus import stopwords"
      ]
    },
    {
      "cell_type": "code",
      "execution_count": 110,
      "metadata": {
        "execution": {
          "iopub.execute_input": "2022-09-16T19:28:12.559214Z",
          "iopub.status.busy": "2022-09-16T19:28:12.558375Z",
          "iopub.status.idle": "2022-09-16T19:28:12.565974Z",
          "shell.execute_reply": "2022-09-16T19:28:12.564141Z",
          "shell.execute_reply.started": "2022-09-16T19:28:12.559175Z"
        },
        "id": "fXDcWWNben8i",
        "trusted": true
      },
      "outputs": [],
      "source": [
        "def removeStopWords(text,stop_words):\n",
        "    words=text.split()\n",
        "    filtered_words=[word for word in words if word not in stop_words]\n",
        "    return \" \".join(filtered_words)"
      ]
    },
    {
      "cell_type": "code",
      "execution_count": 111,
      "metadata": {
        "execution": {
          "iopub.execute_input": "2022-09-16T19:28:12.569846Z",
          "iopub.status.busy": "2022-09-16T19:28:12.569506Z",
          "iopub.status.idle": "2022-09-16T19:28:12.589317Z",
          "shell.execute_reply": "2022-09-16T19:28:12.588295Z",
          "shell.execute_reply.started": "2022-09-16T19:28:12.569821Z"
        },
        "id": "tTk08GO8en8i",
        "trusted": true
      },
      "outputs": [],
      "source": [
        "titles=SJ_papers['title'].tolist()\n",
        "stop_words = set(stopwords.words('english'))\n",
        "titles=[title.lower() for title in titles] ### Lower Casing the Title\n",
        "titles=[removeStopWords(title,stop_words) for title in titles]"
      ]
    },
    {
      "cell_type": "code",
      "execution_count": 112,
      "metadata": {
        "execution": {
          "iopub.execute_input": "2022-09-16T19:28:12.59119Z",
          "iopub.status.busy": "2022-09-16T19:28:12.590874Z",
          "iopub.status.idle": "2022-09-16T19:28:12.600515Z",
          "shell.execute_reply": "2022-09-16T19:28:12.599161Z",
          "shell.execute_reply.started": "2022-09-16T19:28:12.591164Z"
        },
        "id": "47GI20SWen8i",
        "trusted": true
      },
      "outputs": [],
      "source": [
        "def generateNGram(text,n=2):\n",
        "    tokens=text.split(\" \")\n",
        "    ngrams = zip(*[tokens[i:] for i in range(n)])\n",
        "    n_grams= [\"_\".join(ngram) for ngram in ngrams]\n",
        "    n_grams=[ngram for ngram in n_grams if not ngram.startswith(\"_\")]\n",
        "    n_grams=[ngram for ngram in n_grams if not ngram.endswith(\"_\")]\n",
        "    return n_grams\n",
        "\n",
        "def getMostCommon(reviews_list,topn=20):\n",
        "    reviews=\" \".join(reviews_list)\n",
        "    tokenised_reviews=reviews.split(\" \")\n",
        "    freq_counter=Counter(tokenised_reviews)\n",
        "    return freq_counter.most_common(topn)"
      ]
    },
    {
      "cell_type": "code",
      "execution_count": 119,
      "metadata": {
        "execution": {
          "iopub.execute_input": "2022-09-16T19:28:12.602031Z",
          "iopub.status.busy": "2022-09-16T19:28:12.601786Z",
          "iopub.status.idle": "2022-09-16T19:28:14.037248Z",
          "shell.execute_reply": "2022-09-16T19:28:14.035634Z",
          "shell.execute_reply.started": "2022-09-16T19:28:12.602006Z"
        },
        "id": "dCTD70G3en8i",
        "trusted": true
      },
      "outputs": [
        {
          "data": {
            "application/vnd.plotly.v1+json": {
              "config": {
                "plotlyServerURL": "https://plot.ly"
              },
              "data": [
                {
                  "alignmentgroup": "True",
                  "hovertemplate": "Frequency=%{x}<br>words=%{y}<extra></extra>",
                  "legendgroup": "",
                  "marker": {
                    "color": "#636efa",
                    "pattern": {
                      "shape": ""
                    }
                  },
                  "name": "",
                  "offsetgroup": "",
                  "orientation": "h",
                  "showlegend": false,
                  "textposition": "auto",
                  "type": "bar",
                  "x": [
                    1,
                    1,
                    1,
                    1,
                    1,
                    1,
                    1,
                    1,
                    2,
                    2
                  ],
                  "xaxis": "x",
                  "y": [
                    "high_accuracy",
                    "accuracy_high",
                    "high_fidelity",
                    "fidelity_extraction",
                    "neural_networks",
                    "fundamental_tradeoffs",
                    "tradeoffs_invariance",
                    "invariance_sensitivity",
                    "extraction_neural",
                    "adversarial_example"
                  ],
                  "yaxis": "y"
                }
              ],
              "layout": {
                "barmode": "relative",
                "legend": {
                  "tracegroupgap": 0
                },
                "template": {
                  "data": {
                    "bar": [
                      {
                        "error_x": {
                          "color": "#2a3f5f"
                        },
                        "error_y": {
                          "color": "#2a3f5f"
                        },
                        "marker": {
                          "line": {
                            "color": "#E5ECF6",
                            "width": 0.5
                          },
                          "pattern": {
                            "fillmode": "overlay",
                            "size": 10,
                            "solidity": 0.2
                          }
                        },
                        "type": "bar"
                      }
                    ],
                    "barpolar": [
                      {
                        "marker": {
                          "line": {
                            "color": "#E5ECF6",
                            "width": 0.5
                          },
                          "pattern": {
                            "fillmode": "overlay",
                            "size": 10,
                            "solidity": 0.2
                          }
                        },
                        "type": "barpolar"
                      }
                    ],
                    "carpet": [
                      {
                        "aaxis": {
                          "endlinecolor": "#2a3f5f",
                          "gridcolor": "white",
                          "linecolor": "white",
                          "minorgridcolor": "white",
                          "startlinecolor": "#2a3f5f"
                        },
                        "baxis": {
                          "endlinecolor": "#2a3f5f",
                          "gridcolor": "white",
                          "linecolor": "white",
                          "minorgridcolor": "white",
                          "startlinecolor": "#2a3f5f"
                        },
                        "type": "carpet"
                      }
                    ],
                    "choropleth": [
                      {
                        "colorbar": {
                          "outlinewidth": 0,
                          "ticks": ""
                        },
                        "type": "choropleth"
                      }
                    ],
                    "contour": [
                      {
                        "colorbar": {
                          "outlinewidth": 0,
                          "ticks": ""
                        },
                        "colorscale": [
                          [
                            0,
                            "#0d0887"
                          ],
                          [
                            0.1111111111111111,
                            "#46039f"
                          ],
                          [
                            0.2222222222222222,
                            "#7201a8"
                          ],
                          [
                            0.3333333333333333,
                            "#9c179e"
                          ],
                          [
                            0.4444444444444444,
                            "#bd3786"
                          ],
                          [
                            0.5555555555555556,
                            "#d8576b"
                          ],
                          [
                            0.6666666666666666,
                            "#ed7953"
                          ],
                          [
                            0.7777777777777778,
                            "#fb9f3a"
                          ],
                          [
                            0.8888888888888888,
                            "#fdca26"
                          ],
                          [
                            1,
                            "#f0f921"
                          ]
                        ],
                        "type": "contour"
                      }
                    ],
                    "contourcarpet": [
                      {
                        "colorbar": {
                          "outlinewidth": 0,
                          "ticks": ""
                        },
                        "type": "contourcarpet"
                      }
                    ],
                    "heatmap": [
                      {
                        "colorbar": {
                          "outlinewidth": 0,
                          "ticks": ""
                        },
                        "colorscale": [
                          [
                            0,
                            "#0d0887"
                          ],
                          [
                            0.1111111111111111,
                            "#46039f"
                          ],
                          [
                            0.2222222222222222,
                            "#7201a8"
                          ],
                          [
                            0.3333333333333333,
                            "#9c179e"
                          ],
                          [
                            0.4444444444444444,
                            "#bd3786"
                          ],
                          [
                            0.5555555555555556,
                            "#d8576b"
                          ],
                          [
                            0.6666666666666666,
                            "#ed7953"
                          ],
                          [
                            0.7777777777777778,
                            "#fb9f3a"
                          ],
                          [
                            0.8888888888888888,
                            "#fdca26"
                          ],
                          [
                            1,
                            "#f0f921"
                          ]
                        ],
                        "type": "heatmap"
                      }
                    ],
                    "heatmapgl": [
                      {
                        "colorbar": {
                          "outlinewidth": 0,
                          "ticks": ""
                        },
                        "colorscale": [
                          [
                            0,
                            "#0d0887"
                          ],
                          [
                            0.1111111111111111,
                            "#46039f"
                          ],
                          [
                            0.2222222222222222,
                            "#7201a8"
                          ],
                          [
                            0.3333333333333333,
                            "#9c179e"
                          ],
                          [
                            0.4444444444444444,
                            "#bd3786"
                          ],
                          [
                            0.5555555555555556,
                            "#d8576b"
                          ],
                          [
                            0.6666666666666666,
                            "#ed7953"
                          ],
                          [
                            0.7777777777777778,
                            "#fb9f3a"
                          ],
                          [
                            0.8888888888888888,
                            "#fdca26"
                          ],
                          [
                            1,
                            "#f0f921"
                          ]
                        ],
                        "type": "heatmapgl"
                      }
                    ],
                    "histogram": [
                      {
                        "marker": {
                          "pattern": {
                            "fillmode": "overlay",
                            "size": 10,
                            "solidity": 0.2
                          }
                        },
                        "type": "histogram"
                      }
                    ],
                    "histogram2d": [
                      {
                        "colorbar": {
                          "outlinewidth": 0,
                          "ticks": ""
                        },
                        "colorscale": [
                          [
                            0,
                            "#0d0887"
                          ],
                          [
                            0.1111111111111111,
                            "#46039f"
                          ],
                          [
                            0.2222222222222222,
                            "#7201a8"
                          ],
                          [
                            0.3333333333333333,
                            "#9c179e"
                          ],
                          [
                            0.4444444444444444,
                            "#bd3786"
                          ],
                          [
                            0.5555555555555556,
                            "#d8576b"
                          ],
                          [
                            0.6666666666666666,
                            "#ed7953"
                          ],
                          [
                            0.7777777777777778,
                            "#fb9f3a"
                          ],
                          [
                            0.8888888888888888,
                            "#fdca26"
                          ],
                          [
                            1,
                            "#f0f921"
                          ]
                        ],
                        "type": "histogram2d"
                      }
                    ],
                    "histogram2dcontour": [
                      {
                        "colorbar": {
                          "outlinewidth": 0,
                          "ticks": ""
                        },
                        "colorscale": [
                          [
                            0,
                            "#0d0887"
                          ],
                          [
                            0.1111111111111111,
                            "#46039f"
                          ],
                          [
                            0.2222222222222222,
                            "#7201a8"
                          ],
                          [
                            0.3333333333333333,
                            "#9c179e"
                          ],
                          [
                            0.4444444444444444,
                            "#bd3786"
                          ],
                          [
                            0.5555555555555556,
                            "#d8576b"
                          ],
                          [
                            0.6666666666666666,
                            "#ed7953"
                          ],
                          [
                            0.7777777777777778,
                            "#fb9f3a"
                          ],
                          [
                            0.8888888888888888,
                            "#fdca26"
                          ],
                          [
                            1,
                            "#f0f921"
                          ]
                        ],
                        "type": "histogram2dcontour"
                      }
                    ],
                    "mesh3d": [
                      {
                        "colorbar": {
                          "outlinewidth": 0,
                          "ticks": ""
                        },
                        "type": "mesh3d"
                      }
                    ],
                    "parcoords": [
                      {
                        "line": {
                          "colorbar": {
                            "outlinewidth": 0,
                            "ticks": ""
                          }
                        },
                        "type": "parcoords"
                      }
                    ],
                    "pie": [
                      {
                        "automargin": true,
                        "type": "pie"
                      }
                    ],
                    "scatter": [
                      {
                        "fillpattern": {
                          "fillmode": "overlay",
                          "size": 10,
                          "solidity": 0.2
                        },
                        "type": "scatter"
                      }
                    ],
                    "scatter3d": [
                      {
                        "line": {
                          "colorbar": {
                            "outlinewidth": 0,
                            "ticks": ""
                          }
                        },
                        "marker": {
                          "colorbar": {
                            "outlinewidth": 0,
                            "ticks": ""
                          }
                        },
                        "type": "scatter3d"
                      }
                    ],
                    "scattercarpet": [
                      {
                        "marker": {
                          "colorbar": {
                            "outlinewidth": 0,
                            "ticks": ""
                          }
                        },
                        "type": "scattercarpet"
                      }
                    ],
                    "scattergeo": [
                      {
                        "marker": {
                          "colorbar": {
                            "outlinewidth": 0,
                            "ticks": ""
                          }
                        },
                        "type": "scattergeo"
                      }
                    ],
                    "scattergl": [
                      {
                        "marker": {
                          "colorbar": {
                            "outlinewidth": 0,
                            "ticks": ""
                          }
                        },
                        "type": "scattergl"
                      }
                    ],
                    "scattermapbox": [
                      {
                        "marker": {
                          "colorbar": {
                            "outlinewidth": 0,
                            "ticks": ""
                          }
                        },
                        "type": "scattermapbox"
                      }
                    ],
                    "scatterpolar": [
                      {
                        "marker": {
                          "colorbar": {
                            "outlinewidth": 0,
                            "ticks": ""
                          }
                        },
                        "type": "scatterpolar"
                      }
                    ],
                    "scatterpolargl": [
                      {
                        "marker": {
                          "colorbar": {
                            "outlinewidth": 0,
                            "ticks": ""
                          }
                        },
                        "type": "scatterpolargl"
                      }
                    ],
                    "scatterternary": [
                      {
                        "marker": {
                          "colorbar": {
                            "outlinewidth": 0,
                            "ticks": ""
                          }
                        },
                        "type": "scatterternary"
                      }
                    ],
                    "surface": [
                      {
                        "colorbar": {
                          "outlinewidth": 0,
                          "ticks": ""
                        },
                        "colorscale": [
                          [
                            0,
                            "#0d0887"
                          ],
                          [
                            0.1111111111111111,
                            "#46039f"
                          ],
                          [
                            0.2222222222222222,
                            "#7201a8"
                          ],
                          [
                            0.3333333333333333,
                            "#9c179e"
                          ],
                          [
                            0.4444444444444444,
                            "#bd3786"
                          ],
                          [
                            0.5555555555555556,
                            "#d8576b"
                          ],
                          [
                            0.6666666666666666,
                            "#ed7953"
                          ],
                          [
                            0.7777777777777778,
                            "#fb9f3a"
                          ],
                          [
                            0.8888888888888888,
                            "#fdca26"
                          ],
                          [
                            1,
                            "#f0f921"
                          ]
                        ],
                        "type": "surface"
                      }
                    ],
                    "table": [
                      {
                        "cells": {
                          "fill": {
                            "color": "#EBF0F8"
                          },
                          "line": {
                            "color": "white"
                          }
                        },
                        "header": {
                          "fill": {
                            "color": "#C8D4E3"
                          },
                          "line": {
                            "color": "white"
                          }
                        },
                        "type": "table"
                      }
                    ]
                  },
                  "layout": {
                    "annotationdefaults": {
                      "arrowcolor": "#2a3f5f",
                      "arrowhead": 0,
                      "arrowwidth": 1
                    },
                    "autotypenumbers": "strict",
                    "coloraxis": {
                      "colorbar": {
                        "outlinewidth": 0,
                        "ticks": ""
                      }
                    },
                    "colorscale": {
                      "diverging": [
                        [
                          0,
                          "#8e0152"
                        ],
                        [
                          0.1,
                          "#c51b7d"
                        ],
                        [
                          0.2,
                          "#de77ae"
                        ],
                        [
                          0.3,
                          "#f1b6da"
                        ],
                        [
                          0.4,
                          "#fde0ef"
                        ],
                        [
                          0.5,
                          "#f7f7f7"
                        ],
                        [
                          0.6,
                          "#e6f5d0"
                        ],
                        [
                          0.7,
                          "#b8e186"
                        ],
                        [
                          0.8,
                          "#7fbc41"
                        ],
                        [
                          0.9,
                          "#4d9221"
                        ],
                        [
                          1,
                          "#276419"
                        ]
                      ],
                      "sequential": [
                        [
                          0,
                          "#0d0887"
                        ],
                        [
                          0.1111111111111111,
                          "#46039f"
                        ],
                        [
                          0.2222222222222222,
                          "#7201a8"
                        ],
                        [
                          0.3333333333333333,
                          "#9c179e"
                        ],
                        [
                          0.4444444444444444,
                          "#bd3786"
                        ],
                        [
                          0.5555555555555556,
                          "#d8576b"
                        ],
                        [
                          0.6666666666666666,
                          "#ed7953"
                        ],
                        [
                          0.7777777777777778,
                          "#fb9f3a"
                        ],
                        [
                          0.8888888888888888,
                          "#fdca26"
                        ],
                        [
                          1,
                          "#f0f921"
                        ]
                      ],
                      "sequentialminus": [
                        [
                          0,
                          "#0d0887"
                        ],
                        [
                          0.1111111111111111,
                          "#46039f"
                        ],
                        [
                          0.2222222222222222,
                          "#7201a8"
                        ],
                        [
                          0.3333333333333333,
                          "#9c179e"
                        ],
                        [
                          0.4444444444444444,
                          "#bd3786"
                        ],
                        [
                          0.5555555555555556,
                          "#d8576b"
                        ],
                        [
                          0.6666666666666666,
                          "#ed7953"
                        ],
                        [
                          0.7777777777777778,
                          "#fb9f3a"
                        ],
                        [
                          0.8888888888888888,
                          "#fdca26"
                        ],
                        [
                          1,
                          "#f0f921"
                        ]
                      ]
                    },
                    "colorway": [
                      "#636efa",
                      "#EF553B",
                      "#00cc96",
                      "#ab63fa",
                      "#FFA15A",
                      "#19d3f3",
                      "#FF6692",
                      "#B6E880",
                      "#FF97FF",
                      "#FECB52"
                    ],
                    "font": {
                      "color": "#2a3f5f"
                    },
                    "geo": {
                      "bgcolor": "white",
                      "lakecolor": "white",
                      "landcolor": "#E5ECF6",
                      "showlakes": true,
                      "showland": true,
                      "subunitcolor": "white"
                    },
                    "hoverlabel": {
                      "align": "left"
                    },
                    "hovermode": "closest",
                    "mapbox": {
                      "style": "light"
                    },
                    "paper_bgcolor": "white",
                    "plot_bgcolor": "#E5ECF6",
                    "polar": {
                      "angularaxis": {
                        "gridcolor": "white",
                        "linecolor": "white",
                        "ticks": ""
                      },
                      "bgcolor": "#E5ECF6",
                      "radialaxis": {
                        "gridcolor": "white",
                        "linecolor": "white",
                        "ticks": ""
                      }
                    },
                    "scene": {
                      "xaxis": {
                        "backgroundcolor": "#E5ECF6",
                        "gridcolor": "white",
                        "gridwidth": 2,
                        "linecolor": "white",
                        "showbackground": true,
                        "ticks": "",
                        "zerolinecolor": "white"
                      },
                      "yaxis": {
                        "backgroundcolor": "#E5ECF6",
                        "gridcolor": "white",
                        "gridwidth": 2,
                        "linecolor": "white",
                        "showbackground": true,
                        "ticks": "",
                        "zerolinecolor": "white"
                      },
                      "zaxis": {
                        "backgroundcolor": "#E5ECF6",
                        "gridcolor": "white",
                        "gridwidth": 2,
                        "linecolor": "white",
                        "showbackground": true,
                        "ticks": "",
                        "zerolinecolor": "white"
                      }
                    },
                    "shapedefaults": {
                      "line": {
                        "color": "#2a3f5f"
                      }
                    },
                    "ternary": {
                      "aaxis": {
                        "gridcolor": "white",
                        "linecolor": "white",
                        "ticks": ""
                      },
                      "baxis": {
                        "gridcolor": "white",
                        "linecolor": "white",
                        "ticks": ""
                      },
                      "bgcolor": "#E5ECF6",
                      "caxis": {
                        "gridcolor": "white",
                        "linecolor": "white",
                        "ticks": ""
                      }
                    },
                    "title": {
                      "x": 0.05
                    },
                    "xaxis": {
                      "automargin": true,
                      "gridcolor": "white",
                      "linecolor": "white",
                      "ticks": "",
                      "title": {
                        "standoff": 15
                      },
                      "zerolinecolor": "white",
                      "zerolinewidth": 2
                    },
                    "yaxis": {
                      "automargin": true,
                      "gridcolor": "white",
                      "linecolor": "white",
                      "ticks": "",
                      "title": {
                        "standoff": 15
                      },
                      "zerolinecolor": "white",
                      "zerolinewidth": 2
                    }
                  }
                },
                "title": {
                  "text": "Top 10 Bigrams in Papers published by Carlini Nicholas"
                },
                "xaxis": {
                  "anchor": "y",
                  "domain": [
                    0,
                    1
                  ],
                  "title": {
                    "text": "Frequency"
                  }
                },
                "yaxis": {
                  "anchor": "x",
                  "domain": [
                    0,
                    1
                  ],
                  "title": {
                    "text": "words"
                  }
                }
              }
            }
          },
          "metadata": {},
          "output_type": "display_data"
        }
      ],
      "source": [
        "bigrams_list=[\" \".join(generateNGram(title,2)) for title in titles]\n",
        "topn=10\n",
        "top_bigrams=getMostCommon(bigrams_list,topn=topn)\n",
        "top_bigrams_df=pd.DataFrame()\n",
        "top_bigrams_df['words']=[val[0] for val in top_bigrams]\n",
        "top_bigrams_df['Frequency']=[val[1] for val in top_bigrams]\n",
        "px.bar(data_frame=top_bigrams_df.sort_values(\"Frequency\",ascending=True),x=\"Frequency\",y=\"words\",orientation=\"h\",title=\"Top \"+str(topn)+\" Bigrams in Papers published by Carlini Nicholas\")"
      ]
    },
    {
      "cell_type": "code",
      "execution_count": 120,
      "metadata": {
        "execution": {
          "iopub.execute_input": "2022-09-16T19:28:14.039516Z",
          "iopub.status.busy": "2022-09-16T19:28:14.039127Z",
          "iopub.status.idle": "2022-09-16T19:28:14.104353Z",
          "shell.execute_reply": "2022-09-16T19:28:14.102975Z",
          "shell.execute_reply.started": "2022-09-16T19:28:14.03949Z"
        },
        "id": "O-8NdYrOen8i",
        "trusted": true
      },
      "outputs": [
        {
          "data": {
            "application/vnd.plotly.v1+json": {
              "config": {
                "plotlyServerURL": "https://plot.ly"
              },
              "data": [
                {
                  "alignmentgroup": "True",
                  "hovertemplate": "Frequency=%{x}<br>words=%{y}<extra></extra>",
                  "legendgroup": "",
                  "marker": {
                    "color": "#636efa",
                    "pattern": {
                      "shape": ""
                    }
                  },
                  "name": "",
                  "offsetgroup": "",
                  "orientation": "h",
                  "showlegend": false,
                  "textposition": "auto",
                  "type": "bar",
                  "x": [
                    1,
                    1,
                    1,
                    1,
                    1,
                    1,
                    1,
                    1,
                    1,
                    1
                  ],
                  "xaxis": "x",
                  "y": [
                    "high_accuracy_high",
                    "accuracy_high_fidelity",
                    "high_fidelity_extraction",
                    "fidelity_extraction_neural",
                    "extraction_neural_networks",
                    "fundamental_tradeoffs_invariance",
                    "tradeoffs_invariance_sensitivity",
                    "invariance_sensitivity_adversarial",
                    "sensitivity_adversarial_perturbations",
                    "adaptive_attacks_adversarial"
                  ],
                  "yaxis": "y"
                }
              ],
              "layout": {
                "barmode": "relative",
                "legend": {
                  "tracegroupgap": 0
                },
                "template": {
                  "data": {
                    "bar": [
                      {
                        "error_x": {
                          "color": "#2a3f5f"
                        },
                        "error_y": {
                          "color": "#2a3f5f"
                        },
                        "marker": {
                          "line": {
                            "color": "#E5ECF6",
                            "width": 0.5
                          },
                          "pattern": {
                            "fillmode": "overlay",
                            "size": 10,
                            "solidity": 0.2
                          }
                        },
                        "type": "bar"
                      }
                    ],
                    "barpolar": [
                      {
                        "marker": {
                          "line": {
                            "color": "#E5ECF6",
                            "width": 0.5
                          },
                          "pattern": {
                            "fillmode": "overlay",
                            "size": 10,
                            "solidity": 0.2
                          }
                        },
                        "type": "barpolar"
                      }
                    ],
                    "carpet": [
                      {
                        "aaxis": {
                          "endlinecolor": "#2a3f5f",
                          "gridcolor": "white",
                          "linecolor": "white",
                          "minorgridcolor": "white",
                          "startlinecolor": "#2a3f5f"
                        },
                        "baxis": {
                          "endlinecolor": "#2a3f5f",
                          "gridcolor": "white",
                          "linecolor": "white",
                          "minorgridcolor": "white",
                          "startlinecolor": "#2a3f5f"
                        },
                        "type": "carpet"
                      }
                    ],
                    "choropleth": [
                      {
                        "colorbar": {
                          "outlinewidth": 0,
                          "ticks": ""
                        },
                        "type": "choropleth"
                      }
                    ],
                    "contour": [
                      {
                        "colorbar": {
                          "outlinewidth": 0,
                          "ticks": ""
                        },
                        "colorscale": [
                          [
                            0,
                            "#0d0887"
                          ],
                          [
                            0.1111111111111111,
                            "#46039f"
                          ],
                          [
                            0.2222222222222222,
                            "#7201a8"
                          ],
                          [
                            0.3333333333333333,
                            "#9c179e"
                          ],
                          [
                            0.4444444444444444,
                            "#bd3786"
                          ],
                          [
                            0.5555555555555556,
                            "#d8576b"
                          ],
                          [
                            0.6666666666666666,
                            "#ed7953"
                          ],
                          [
                            0.7777777777777778,
                            "#fb9f3a"
                          ],
                          [
                            0.8888888888888888,
                            "#fdca26"
                          ],
                          [
                            1,
                            "#f0f921"
                          ]
                        ],
                        "type": "contour"
                      }
                    ],
                    "contourcarpet": [
                      {
                        "colorbar": {
                          "outlinewidth": 0,
                          "ticks": ""
                        },
                        "type": "contourcarpet"
                      }
                    ],
                    "heatmap": [
                      {
                        "colorbar": {
                          "outlinewidth": 0,
                          "ticks": ""
                        },
                        "colorscale": [
                          [
                            0,
                            "#0d0887"
                          ],
                          [
                            0.1111111111111111,
                            "#46039f"
                          ],
                          [
                            0.2222222222222222,
                            "#7201a8"
                          ],
                          [
                            0.3333333333333333,
                            "#9c179e"
                          ],
                          [
                            0.4444444444444444,
                            "#bd3786"
                          ],
                          [
                            0.5555555555555556,
                            "#d8576b"
                          ],
                          [
                            0.6666666666666666,
                            "#ed7953"
                          ],
                          [
                            0.7777777777777778,
                            "#fb9f3a"
                          ],
                          [
                            0.8888888888888888,
                            "#fdca26"
                          ],
                          [
                            1,
                            "#f0f921"
                          ]
                        ],
                        "type": "heatmap"
                      }
                    ],
                    "heatmapgl": [
                      {
                        "colorbar": {
                          "outlinewidth": 0,
                          "ticks": ""
                        },
                        "colorscale": [
                          [
                            0,
                            "#0d0887"
                          ],
                          [
                            0.1111111111111111,
                            "#46039f"
                          ],
                          [
                            0.2222222222222222,
                            "#7201a8"
                          ],
                          [
                            0.3333333333333333,
                            "#9c179e"
                          ],
                          [
                            0.4444444444444444,
                            "#bd3786"
                          ],
                          [
                            0.5555555555555556,
                            "#d8576b"
                          ],
                          [
                            0.6666666666666666,
                            "#ed7953"
                          ],
                          [
                            0.7777777777777778,
                            "#fb9f3a"
                          ],
                          [
                            0.8888888888888888,
                            "#fdca26"
                          ],
                          [
                            1,
                            "#f0f921"
                          ]
                        ],
                        "type": "heatmapgl"
                      }
                    ],
                    "histogram": [
                      {
                        "marker": {
                          "pattern": {
                            "fillmode": "overlay",
                            "size": 10,
                            "solidity": 0.2
                          }
                        },
                        "type": "histogram"
                      }
                    ],
                    "histogram2d": [
                      {
                        "colorbar": {
                          "outlinewidth": 0,
                          "ticks": ""
                        },
                        "colorscale": [
                          [
                            0,
                            "#0d0887"
                          ],
                          [
                            0.1111111111111111,
                            "#46039f"
                          ],
                          [
                            0.2222222222222222,
                            "#7201a8"
                          ],
                          [
                            0.3333333333333333,
                            "#9c179e"
                          ],
                          [
                            0.4444444444444444,
                            "#bd3786"
                          ],
                          [
                            0.5555555555555556,
                            "#d8576b"
                          ],
                          [
                            0.6666666666666666,
                            "#ed7953"
                          ],
                          [
                            0.7777777777777778,
                            "#fb9f3a"
                          ],
                          [
                            0.8888888888888888,
                            "#fdca26"
                          ],
                          [
                            1,
                            "#f0f921"
                          ]
                        ],
                        "type": "histogram2d"
                      }
                    ],
                    "histogram2dcontour": [
                      {
                        "colorbar": {
                          "outlinewidth": 0,
                          "ticks": ""
                        },
                        "colorscale": [
                          [
                            0,
                            "#0d0887"
                          ],
                          [
                            0.1111111111111111,
                            "#46039f"
                          ],
                          [
                            0.2222222222222222,
                            "#7201a8"
                          ],
                          [
                            0.3333333333333333,
                            "#9c179e"
                          ],
                          [
                            0.4444444444444444,
                            "#bd3786"
                          ],
                          [
                            0.5555555555555556,
                            "#d8576b"
                          ],
                          [
                            0.6666666666666666,
                            "#ed7953"
                          ],
                          [
                            0.7777777777777778,
                            "#fb9f3a"
                          ],
                          [
                            0.8888888888888888,
                            "#fdca26"
                          ],
                          [
                            1,
                            "#f0f921"
                          ]
                        ],
                        "type": "histogram2dcontour"
                      }
                    ],
                    "mesh3d": [
                      {
                        "colorbar": {
                          "outlinewidth": 0,
                          "ticks": ""
                        },
                        "type": "mesh3d"
                      }
                    ],
                    "parcoords": [
                      {
                        "line": {
                          "colorbar": {
                            "outlinewidth": 0,
                            "ticks": ""
                          }
                        },
                        "type": "parcoords"
                      }
                    ],
                    "pie": [
                      {
                        "automargin": true,
                        "type": "pie"
                      }
                    ],
                    "scatter": [
                      {
                        "fillpattern": {
                          "fillmode": "overlay",
                          "size": 10,
                          "solidity": 0.2
                        },
                        "type": "scatter"
                      }
                    ],
                    "scatter3d": [
                      {
                        "line": {
                          "colorbar": {
                            "outlinewidth": 0,
                            "ticks": ""
                          }
                        },
                        "marker": {
                          "colorbar": {
                            "outlinewidth": 0,
                            "ticks": ""
                          }
                        },
                        "type": "scatter3d"
                      }
                    ],
                    "scattercarpet": [
                      {
                        "marker": {
                          "colorbar": {
                            "outlinewidth": 0,
                            "ticks": ""
                          }
                        },
                        "type": "scattercarpet"
                      }
                    ],
                    "scattergeo": [
                      {
                        "marker": {
                          "colorbar": {
                            "outlinewidth": 0,
                            "ticks": ""
                          }
                        },
                        "type": "scattergeo"
                      }
                    ],
                    "scattergl": [
                      {
                        "marker": {
                          "colorbar": {
                            "outlinewidth": 0,
                            "ticks": ""
                          }
                        },
                        "type": "scattergl"
                      }
                    ],
                    "scattermapbox": [
                      {
                        "marker": {
                          "colorbar": {
                            "outlinewidth": 0,
                            "ticks": ""
                          }
                        },
                        "type": "scattermapbox"
                      }
                    ],
                    "scatterpolar": [
                      {
                        "marker": {
                          "colorbar": {
                            "outlinewidth": 0,
                            "ticks": ""
                          }
                        },
                        "type": "scatterpolar"
                      }
                    ],
                    "scatterpolargl": [
                      {
                        "marker": {
                          "colorbar": {
                            "outlinewidth": 0,
                            "ticks": ""
                          }
                        },
                        "type": "scatterpolargl"
                      }
                    ],
                    "scatterternary": [
                      {
                        "marker": {
                          "colorbar": {
                            "outlinewidth": 0,
                            "ticks": ""
                          }
                        },
                        "type": "scatterternary"
                      }
                    ],
                    "surface": [
                      {
                        "colorbar": {
                          "outlinewidth": 0,
                          "ticks": ""
                        },
                        "colorscale": [
                          [
                            0,
                            "#0d0887"
                          ],
                          [
                            0.1111111111111111,
                            "#46039f"
                          ],
                          [
                            0.2222222222222222,
                            "#7201a8"
                          ],
                          [
                            0.3333333333333333,
                            "#9c179e"
                          ],
                          [
                            0.4444444444444444,
                            "#bd3786"
                          ],
                          [
                            0.5555555555555556,
                            "#d8576b"
                          ],
                          [
                            0.6666666666666666,
                            "#ed7953"
                          ],
                          [
                            0.7777777777777778,
                            "#fb9f3a"
                          ],
                          [
                            0.8888888888888888,
                            "#fdca26"
                          ],
                          [
                            1,
                            "#f0f921"
                          ]
                        ],
                        "type": "surface"
                      }
                    ],
                    "table": [
                      {
                        "cells": {
                          "fill": {
                            "color": "#EBF0F8"
                          },
                          "line": {
                            "color": "white"
                          }
                        },
                        "header": {
                          "fill": {
                            "color": "#C8D4E3"
                          },
                          "line": {
                            "color": "white"
                          }
                        },
                        "type": "table"
                      }
                    ]
                  },
                  "layout": {
                    "annotationdefaults": {
                      "arrowcolor": "#2a3f5f",
                      "arrowhead": 0,
                      "arrowwidth": 1
                    },
                    "autotypenumbers": "strict",
                    "coloraxis": {
                      "colorbar": {
                        "outlinewidth": 0,
                        "ticks": ""
                      }
                    },
                    "colorscale": {
                      "diverging": [
                        [
                          0,
                          "#8e0152"
                        ],
                        [
                          0.1,
                          "#c51b7d"
                        ],
                        [
                          0.2,
                          "#de77ae"
                        ],
                        [
                          0.3,
                          "#f1b6da"
                        ],
                        [
                          0.4,
                          "#fde0ef"
                        ],
                        [
                          0.5,
                          "#f7f7f7"
                        ],
                        [
                          0.6,
                          "#e6f5d0"
                        ],
                        [
                          0.7,
                          "#b8e186"
                        ],
                        [
                          0.8,
                          "#7fbc41"
                        ],
                        [
                          0.9,
                          "#4d9221"
                        ],
                        [
                          1,
                          "#276419"
                        ]
                      ],
                      "sequential": [
                        [
                          0,
                          "#0d0887"
                        ],
                        [
                          0.1111111111111111,
                          "#46039f"
                        ],
                        [
                          0.2222222222222222,
                          "#7201a8"
                        ],
                        [
                          0.3333333333333333,
                          "#9c179e"
                        ],
                        [
                          0.4444444444444444,
                          "#bd3786"
                        ],
                        [
                          0.5555555555555556,
                          "#d8576b"
                        ],
                        [
                          0.6666666666666666,
                          "#ed7953"
                        ],
                        [
                          0.7777777777777778,
                          "#fb9f3a"
                        ],
                        [
                          0.8888888888888888,
                          "#fdca26"
                        ],
                        [
                          1,
                          "#f0f921"
                        ]
                      ],
                      "sequentialminus": [
                        [
                          0,
                          "#0d0887"
                        ],
                        [
                          0.1111111111111111,
                          "#46039f"
                        ],
                        [
                          0.2222222222222222,
                          "#7201a8"
                        ],
                        [
                          0.3333333333333333,
                          "#9c179e"
                        ],
                        [
                          0.4444444444444444,
                          "#bd3786"
                        ],
                        [
                          0.5555555555555556,
                          "#d8576b"
                        ],
                        [
                          0.6666666666666666,
                          "#ed7953"
                        ],
                        [
                          0.7777777777777778,
                          "#fb9f3a"
                        ],
                        [
                          0.8888888888888888,
                          "#fdca26"
                        ],
                        [
                          1,
                          "#f0f921"
                        ]
                      ]
                    },
                    "colorway": [
                      "#636efa",
                      "#EF553B",
                      "#00cc96",
                      "#ab63fa",
                      "#FFA15A",
                      "#19d3f3",
                      "#FF6692",
                      "#B6E880",
                      "#FF97FF",
                      "#FECB52"
                    ],
                    "font": {
                      "color": "#2a3f5f"
                    },
                    "geo": {
                      "bgcolor": "white",
                      "lakecolor": "white",
                      "landcolor": "#E5ECF6",
                      "showlakes": true,
                      "showland": true,
                      "subunitcolor": "white"
                    },
                    "hoverlabel": {
                      "align": "left"
                    },
                    "hovermode": "closest",
                    "mapbox": {
                      "style": "light"
                    },
                    "paper_bgcolor": "white",
                    "plot_bgcolor": "#E5ECF6",
                    "polar": {
                      "angularaxis": {
                        "gridcolor": "white",
                        "linecolor": "white",
                        "ticks": ""
                      },
                      "bgcolor": "#E5ECF6",
                      "radialaxis": {
                        "gridcolor": "white",
                        "linecolor": "white",
                        "ticks": ""
                      }
                    },
                    "scene": {
                      "xaxis": {
                        "backgroundcolor": "#E5ECF6",
                        "gridcolor": "white",
                        "gridwidth": 2,
                        "linecolor": "white",
                        "showbackground": true,
                        "ticks": "",
                        "zerolinecolor": "white"
                      },
                      "yaxis": {
                        "backgroundcolor": "#E5ECF6",
                        "gridcolor": "white",
                        "gridwidth": 2,
                        "linecolor": "white",
                        "showbackground": true,
                        "ticks": "",
                        "zerolinecolor": "white"
                      },
                      "zaxis": {
                        "backgroundcolor": "#E5ECF6",
                        "gridcolor": "white",
                        "gridwidth": 2,
                        "linecolor": "white",
                        "showbackground": true,
                        "ticks": "",
                        "zerolinecolor": "white"
                      }
                    },
                    "shapedefaults": {
                      "line": {
                        "color": "#2a3f5f"
                      }
                    },
                    "ternary": {
                      "aaxis": {
                        "gridcolor": "white",
                        "linecolor": "white",
                        "ticks": ""
                      },
                      "baxis": {
                        "gridcolor": "white",
                        "linecolor": "white",
                        "ticks": ""
                      },
                      "bgcolor": "#E5ECF6",
                      "caxis": {
                        "gridcolor": "white",
                        "linecolor": "white",
                        "ticks": ""
                      }
                    },
                    "title": {
                      "x": 0.05
                    },
                    "xaxis": {
                      "automargin": true,
                      "gridcolor": "white",
                      "linecolor": "white",
                      "ticks": "",
                      "title": {
                        "standoff": 15
                      },
                      "zerolinecolor": "white",
                      "zerolinewidth": 2
                    },
                    "yaxis": {
                      "automargin": true,
                      "gridcolor": "white",
                      "linecolor": "white",
                      "ticks": "",
                      "title": {
                        "standoff": 15
                      },
                      "zerolinecolor": "white",
                      "zerolinewidth": 2
                    }
                  }
                },
                "title": {
                  "text": "Top 10 Trigrams in Papers published by Carlini Nicholas"
                },
                "xaxis": {
                  "anchor": "y",
                  "domain": [
                    0,
                    1
                  ],
                  "title": {
                    "text": "Frequency"
                  }
                },
                "yaxis": {
                  "anchor": "x",
                  "domain": [
                    0,
                    1
                  ],
                  "title": {
                    "text": "words"
                  }
                }
              }
            }
          },
          "metadata": {},
          "output_type": "display_data"
        }
      ],
      "source": [
        "trigrams_list=[\" \".join(generateNGram(title.replace(\":\",\"\"),3)) for title in titles]\n",
        "topn=10\n",
        "top_trigrams=getMostCommon(trigrams_list,topn=topn)\n",
        "top_trigrams_df=pd.DataFrame()\n",
        "top_trigrams_df['words']=[val[0] for val in top_trigrams]\n",
        "top_trigrams_df['Frequency']=[val[1] for val in top_trigrams]\n",
        "top_trigrams_df=top_trigrams_df[top_trigrams_df[\"words\"]!=\"\"]\n",
        "px.bar(data_frame=top_trigrams_df.sort_values(\"Frequency\",ascending=True),x=\"Frequency\",y=\"words\",orientation=\"h\",title=\"Top \"+str(topn)+\" Trigrams in Papers published by Carlini Nicholas\")"
      ]
    },
    {
      "cell_type": "code",
      "execution_count": 121,
      "metadata": {
        "execution": {
          "iopub.execute_input": "2022-09-16T19:28:14.106105Z",
          "iopub.status.busy": "2022-09-16T19:28:14.10574Z",
          "iopub.status.idle": "2022-09-16T19:28:27.858799Z",
          "shell.execute_reply": "2022-09-16T19:28:27.857236Z",
          "shell.execute_reply.started": "2022-09-16T19:28:14.106073Z"
        },
        "id": "SYoSP0fyen8i",
        "trusted": true
      },
      "outputs": [],
      "source": [
        "from pprint import pprint\n",
        "\n",
        "# Gensim\n",
        "import gensim\n",
        "import gensim.corpora as corpora\n",
        "from gensim.utils import simple_preprocess\n",
        "from gensim.models import CoherenceModel\n",
        "\n",
        "# spacy for lemmatization\n",
        "import spacy\n",
        "\n",
        "# Plotting tools\n",
        "import pyLDAvis"
      ]
    },
    {
      "cell_type": "code",
      "execution_count": 122,
      "metadata": {
        "execution": {
          "iopub.execute_input": "2022-09-16T19:28:27.861413Z",
          "iopub.status.busy": "2022-09-16T19:28:27.86054Z",
          "iopub.status.idle": "2022-09-16T19:28:27.865961Z",
          "shell.execute_reply": "2022-09-16T19:28:27.865143Z",
          "shell.execute_reply.started": "2022-09-16T19:28:27.861381Z"
        },
        "id": "5ruw9egZen8i",
        "trusted": true
      },
      "outputs": [],
      "source": [
        "def tokenise(sentences):\n",
        "    return [gensim.utils.simple_preprocess(sentence, deacc=True,max_len=50) for sentence in sentences]"
      ]
    },
    {
      "cell_type": "code",
      "execution_count": 123,
      "metadata": {
        "execution": {
          "iopub.execute_input": "2022-09-16T19:28:27.867691Z",
          "iopub.status.busy": "2022-09-16T19:28:27.867212Z",
          "iopub.status.idle": "2022-09-16T19:28:27.891171Z",
          "shell.execute_reply": "2022-09-16T19:28:27.889479Z",
          "shell.execute_reply.started": "2022-09-16T19:28:27.867661Z"
        },
        "id": "827ZOOg1en8j",
        "trusted": true
      },
      "outputs": [
        {
          "data": {
            "text/plain": [
              "['high',\n",
              " 'accuracy',\n",
              " 'and',\n",
              " 'high',\n",
              " 'fidelity',\n",
              " 'extraction',\n",
              " 'of',\n",
              " 'neural',\n",
              " 'networks']"
            ]
          },
          "execution_count": 123,
          "metadata": {},
          "output_type": "execute_result"
        }
      ],
      "source": [
        "tokenised_sentences=tokenise(SJ_papers['title'].tolist())\n",
        "tokenised_sentences[0]"
      ]
    },
    {
      "cell_type": "code",
      "execution_count": 126,
      "metadata": {
        "execution": {
          "iopub.execute_input": "2022-09-16T19:28:27.893025Z",
          "iopub.status.busy": "2022-09-16T19:28:27.892728Z",
          "iopub.status.idle": "2022-09-16T19:28:28.705973Z",
          "shell.execute_reply": "2022-09-16T19:28:28.704686Z",
          "shell.execute_reply.started": "2022-09-16T19:28:27.893001Z"
        },
        "id": "01wErLTHen8j",
        "trusted": true
      },
      "outputs": [],
      "source": [
        "import en_core_web_sm\n",
        "nlp = spacy.load(\"en_core_web_sm\")"
      ]
    },
    {
      "cell_type": "code",
      "execution_count": 127,
      "metadata": {
        "execution": {
          "iopub.execute_input": "2022-09-16T19:28:28.708299Z",
          "iopub.status.busy": "2022-09-16T19:28:28.70797Z",
          "iopub.status.idle": "2022-09-16T19:28:28.715357Z",
          "shell.execute_reply": "2022-09-16T19:28:28.714231Z",
          "shell.execute_reply.started": "2022-09-16T19:28:28.708275Z"
        },
        "id": "YdOlNDj4en8j",
        "trusted": true
      },
      "outputs": [],
      "source": [
        "def lemmatise(sentence,stop_words,allowed_postags=None):\n",
        "    doc=nlp(sentence)\n",
        "    #print(sentence)\n",
        "    if allowed_postags!=None:\n",
        "        tokens = [token.lemma_ for token in doc if (token.pos_ in allowed_postags) and (token.text not in stop_words)]\n",
        "    if allowed_postags==None:\n",
        "        tokens= [token.lemma_ for token in doc if (token.text not in stop_words)]\n",
        "    return tokens"
      ]
    },
    {
      "cell_type": "code",
      "execution_count": 128,
      "metadata": {
        "execution": {
          "iopub.execute_input": "2022-09-16T19:28:28.717107Z",
          "iopub.status.busy": "2022-09-16T19:28:28.716786Z",
          "iopub.status.idle": "2022-09-16T19:28:28.72811Z",
          "shell.execute_reply": "2022-09-16T19:28:28.726878Z",
          "shell.execute_reply.started": "2022-09-16T19:28:28.717083Z"
        },
        "id": "cSTTJzopen8j",
        "trusted": true
      },
      "outputs": [],
      "source": [
        "stop_words = spacy.lang.en.stop_words.STOP_WORDS"
      ]
    },
    {
      "cell_type": "code",
      "execution_count": 129,
      "metadata": {
        "execution": {
          "iopub.execute_input": "2022-09-16T19:28:28.730543Z",
          "iopub.status.busy": "2022-09-16T19:28:28.729289Z",
          "iopub.status.idle": "2022-09-16T19:28:29.010672Z",
          "shell.execute_reply": "2022-09-16T19:28:29.008916Z",
          "shell.execute_reply.started": "2022-09-16T19:28:28.730504Z"
        },
        "id": "rTEoD28ien8j",
        "trusted": true
      },
      "outputs": [
        {
          "data": {
            "text/plain": [
              "['high', 'accuracy', 'high', 'fidelity', 'extraction', 'neural', 'network']"
            ]
          },
          "execution_count": 129,
          "metadata": {},
          "output_type": "execute_result"
        }
      ],
      "source": [
        "sentences=[\" \".join(tokenised_sentence) for tokenised_sentence in tokenised_sentences]\n",
        "lemmatised_sentences=[lemmatise(sentence,stop_words) for sentence in sentences]\n",
        "lemmatised_sentences[0]"
      ]
    },
    {
      "cell_type": "code",
      "execution_count": 130,
      "metadata": {
        "execution": {
          "iopub.execute_input": "2022-09-16T19:28:29.012334Z",
          "iopub.status.busy": "2022-09-16T19:28:29.012086Z",
          "iopub.status.idle": "2022-09-16T19:28:29.023112Z",
          "shell.execute_reply": "2022-09-16T19:28:29.022451Z",
          "shell.execute_reply.started": "2022-09-16T19:28:29.012311Z"
        },
        "id": "hseQCDZFen8j",
        "trusted": true
      },
      "outputs": [],
      "source": [
        "# Build the bigram and trigram models\n",
        "bigram = gensim.models.Phrases(lemmatised_sentences,min_count=2)\n",
        "trigram = gensim.models.Phrases(bigram[lemmatised_sentences],min_count=2)\n",
        "\n",
        "bigram_mod = gensim.models.phrases.Phraser(bigram)\n",
        "trigram_mod = gensim.models.phrases.Phraser(trigram)"
      ]
    },
    {
      "cell_type": "code",
      "execution_count": 131,
      "metadata": {
        "execution": {
          "iopub.execute_input": "2022-09-16T19:28:29.025256Z",
          "iopub.status.busy": "2022-09-16T19:28:29.024192Z",
          "iopub.status.idle": "2022-09-16T19:28:29.038932Z",
          "shell.execute_reply": "2022-09-16T19:28:29.03759Z",
          "shell.execute_reply.started": "2022-09-16T19:28:29.025227Z"
        },
        "id": "bbMeQ8pDen8j",
        "trusted": true
      },
      "outputs": [],
      "source": [
        "bigrams_words=[bigram_mod[sentence] for sentence in lemmatised_sentences]\n",
        "\n",
        "trigrams_words=[trigram_mod[sentence] for sentence in bigrams_words]"
      ]
    },
    {
      "cell_type": "code",
      "execution_count": 132,
      "metadata": {
        "execution": {
          "iopub.execute_input": "2022-09-16T19:28:29.04126Z",
          "iopub.status.busy": "2022-09-16T19:28:29.040941Z",
          "iopub.status.idle": "2022-09-16T19:28:29.058189Z",
          "shell.execute_reply": "2022-09-16T19:28:29.056728Z",
          "shell.execute_reply.started": "2022-09-16T19:28:29.041236Z"
        },
        "id": "LdqGBJcgen8j",
        "trusted": true
      },
      "outputs": [
        {
          "data": {
            "text/plain": [
              "[('accuracy', 1),\n",
              " ('extraction', 1),\n",
              " ('fidelity', 1),\n",
              " ('high', 2),\n",
              " ('network', 1),\n",
              " ('neural', 1)]"
            ]
          },
          "execution_count": 132,
          "metadata": {},
          "output_type": "execute_result"
        }
      ],
      "source": [
        "id2word = corpora.Dictionary(trigrams_words)\n",
        "corpus = [id2word.doc2bow(text) for text in trigrams_words]\n",
        "[(id2word[id], freq) for id, freq in corpus[0]]"
      ]
    },
    {
      "cell_type": "code",
      "execution_count": 133,
      "metadata": {
        "execution": {
          "iopub.execute_input": "2022-09-16T19:28:29.060623Z",
          "iopub.status.busy": "2022-09-16T19:28:29.060088Z",
          "iopub.status.idle": "2022-09-16T19:28:29.071761Z",
          "shell.execute_reply": "2022-09-16T19:28:29.070116Z",
          "shell.execute_reply.started": "2022-09-16T19:28:29.060582Z"
        },
        "id": "nsowMunGen8j",
        "trusted": true
      },
      "outputs": [],
      "source": [
        "def compute_coherence_values(id2word, corpus, texts, limit, start=2, step=3):\n",
        "    coherence_values = []\n",
        "    model_list = []\n",
        "    for num_topics in range(start, limit, step):\n",
        "        model = gensim.models.ldamodel.LdaModel(corpus=corpus,\n",
        "                                           id2word=id2word,\n",
        "                                           num_topics=num_topics,\n",
        "                                           random_state=100,\n",
        "                                           update_every=1,\n",
        "                                           chunksize=20,\n",
        "                                           passes=10,\n",
        "                                           alpha='auto',\n",
        "                                           per_word_topics=True)\n",
        "        model_list.append(model)\n",
        "        coherencemodel = CoherenceModel(model=model, texts=texts, dictionary=id2word, coherence='c_v')\n",
        "        coherence_values.append(coherencemodel.get_coherence())\n",
        "\n",
        "    return model_list, coherence_values"
      ]
    },
    {
      "cell_type": "code",
      "execution_count": 134,
      "metadata": {
        "execution": {
          "iopub.execute_input": "2022-09-16T19:28:29.074358Z",
          "iopub.status.busy": "2022-09-16T19:28:29.074017Z",
          "iopub.status.idle": "2022-09-16T19:28:34.133911Z",
          "shell.execute_reply": "2022-09-16T19:28:34.131679Z",
          "shell.execute_reply.started": "2022-09-16T19:28:29.074332Z"
        },
        "id": "_GEUdmMJen8j",
        "trusted": true
      },
      "outputs": [
        {
          "data": {
            "image/png": "[encoded data removed]",
            "text/plain": [
              "<Figure size 640x480 with 1 Axes>"
            ]
          },
          "metadata": {},
          "output_type": "display_data"
        }
      ],
      "source": [
        "models,coherence=compute_coherence_values(id2word,corpus,trigrams_words,limit=20,start=2,step=2)\n",
        "x = range(2, 20, 2)\n",
        "plt.plot(x, coherence)\n",
        "plt.xlabel(\"Num Topics\")\n",
        "plt.ylabel(\"Coherence score\")\n",
        "plt.legend((\"coherence_values\"), loc='best')\n",
        "plt.show()"
      ]
    },
    {
      "cell_type": "code",
      "execution_count": 135,
      "metadata": {
        "execution": {
          "iopub.execute_input": "2022-09-16T19:28:34.137016Z",
          "iopub.status.busy": "2022-09-16T19:28:34.136634Z",
          "iopub.status.idle": "2022-09-16T19:28:34.265655Z",
          "shell.execute_reply": "2022-09-16T19:28:34.264261Z",
          "shell.execute_reply.started": "2022-09-16T19:28:34.136989Z"
        },
        "id": "51juXHFren8j",
        "trusted": true
      },
      "outputs": [],
      "source": [
        "lda_model = gensim.models.ldamodel.LdaModel(corpus=corpus,\n",
        "                                           id2word=id2word,\n",
        "                                           num_topics=2,\n",
        "                                           random_state=100,\n",
        "                                           update_every=1,\n",
        "                                           chunksize=20,\n",
        "                                           passes=10,\n",
        "                                           alpha='auto',\n",
        "                                           per_word_topics=True)"
      ]
    },
    {
      "cell_type": "code",
      "execution_count": 136,
      "metadata": {
        "execution": {
          "iopub.execute_input": "2022-09-16T19:28:34.268492Z",
          "iopub.status.busy": "2022-09-16T19:28:34.268023Z",
          "iopub.status.idle": "2022-09-16T19:28:34.278268Z",
          "shell.execute_reply": "2022-09-16T19:28:34.27658Z",
          "shell.execute_reply.started": "2022-09-16T19:28:34.268454Z"
        },
        "id": "lW7-YjUnen8j",
        "trusted": true
      },
      "outputs": [
        {
          "name": "stdout",
          "output_type": "stream",
          "text": [
            "[(0,\n",
            "  '0.063*\"adversarial\" + 0.049*\"defense\" + 0.035*\"high\" + 0.035*\"neural\" + '\n",
            "  '0.035*\"extraction\" + 0.035*\"network\" + 0.035*\"attack\" + 0.035*\"example\" + '\n",
            "  '0.021*\"evade\" + 0.021*\"fidelity\"'),\n",
            " (1,\n",
            "  '0.052*\"attack\" + 0.051*\"private\" + 0.031*\"adversary\" + 0.031*\"machine\" + '\n",
            "  '0.031*\"bound\" + 0.031*\"label\" + 0.031*\"learn\" + 0.031*\"inference\" + '\n",
            "  '0.031*\"differentially\" + 0.031*\"low\"')]\n"
          ]
        }
      ],
      "source": [
        "pprint(lda_model.print_topics())\n",
        "doc_lda = lda_model[corpus]"
      ]
    },
    {
      "cell_type": "code",
      "execution_count": 137,
      "metadata": {
        "execution": {
          "iopub.execute_input": "2022-09-16T19:28:34.280677Z",
          "iopub.status.busy": "2022-09-16T19:28:34.280349Z",
          "iopub.status.idle": "2022-09-16T19:28:34.493111Z",
          "shell.execute_reply": "2022-09-16T19:28:34.491651Z",
          "shell.execute_reply.started": "2022-09-16T19:28:34.280651Z"
        },
        "id": "lGBB6rgeen8j",
        "trusted": true
      },
      "outputs": [
        {
          "name": "stdout",
          "output_type": "stream",
          "text": [
            "\n",
            "Perplexity:  -4.3608459776906825\n",
            "\n",
            "Coherence Score:  0.36822047277976977\n"
          ]
        }
      ],
      "source": [
        "print('\\nPerplexity: ', lda_model.log_perplexity(corpus))\n",
        "\n",
        "# Compute Coherence Score\n",
        "coherence_model_lda = CoherenceModel(model=lda_model, texts=trigrams_words, dictionary=id2word, coherence='c_v')\n",
        "coherence_lda = coherence_model_lda.get_coherence()\n",
        "print('\\nCoherence Score: ', coherence_lda)"
      ]
    },
    {
      "cell_type": "code",
      "execution_count": 138,
      "metadata": {
        "execution": {
          "iopub.execute_input": "2022-09-16T19:28:34.495991Z",
          "iopub.status.busy": "2022-09-16T19:28:34.495551Z",
          "iopub.status.idle": "2022-09-16T19:28:34.505718Z",
          "shell.execute_reply": "2022-09-16T19:28:34.503729Z",
          "shell.execute_reply.started": "2022-09-16T19:28:34.495961Z"
        },
        "id": "BdTZZ-fden8j",
        "trusted": true
      },
      "outputs": [],
      "source": [
        "def format_topics_sentences(texts,ldamodel=lda_model, corpus=corpus):\n",
        "    # Init output\n",
        "    sent_topics_df = pd.DataFrame()\n",
        "\n",
        "    # Get main topic in each document\n",
        "    for i, row in enumerate(ldamodel[corpus]):\n",
        "        row = sorted(row[0], key=lambda x: (x[1]), reverse=True)\n",
        "        # Get the Dominant topic, Perc Contribution and Keywords for each document\n",
        "        for j, (topic_num, prop_topic) in enumerate(row):\n",
        "            if j == 0:  # => dominant topic\n",
        "                wp = ldamodel.show_topic(topic_num)\n",
        "                topic_keywords = \", \".join([word for word, prop in wp])\n",
        "                sent_topics_df = sent_topics_df.append(pd.Series([int(topic_num), round(prop_topic,4), topic_keywords]), ignore_index=True)\n",
        "            else:\n",
        "                break\n",
        "    sent_topics_df.columns = ['Dominant_Topic', 'Perc_Contribution', 'Topic_Keywords']\n",
        "\n",
        "    # Add original text to the end of the output\n",
        "    contents = pd.Series(texts)\n",
        "    sent_topics_df = pd.concat([sent_topics_df, contents], axis=1)\n",
        "    return(sent_topics_df)"
      ]
    },
    {
      "cell_type": "code",
      "execution_count": 139,
      "metadata": {
        "execution": {
          "iopub.execute_input": "2022-09-16T19:28:34.509119Z",
          "iopub.status.busy": "2022-09-16T19:28:34.508581Z",
          "iopub.status.idle": "2022-09-16T19:28:34.62519Z",
          "shell.execute_reply": "2022-09-16T19:28:34.623029Z",
          "shell.execute_reply.started": "2022-09-16T19:28:34.509082Z"
        },
        "id": "rFtdPAz4en8j",
        "trusted": true
      },
      "outputs": [
        {
          "ename": "AttributeError",
          "evalue": "'DataFrame' object has no attribute 'append'",
          "output_type": "error",
          "traceback": [
            "\u001b[0;31m---------------------------------------------------------------------------\u001b[0m",
            "\u001b[0;31mAttributeError\u001b[0m                            Traceback (most recent call last)",
            "\u001b[0;32m/var/folders/hn/p77x1w5x5s725x1wyvhfn59h0000gn/T/ipykernel_8069/597591840.py\u001b[0m in \u001b[0;36m?\u001b[0;34m()\u001b[0m\n\u001b[0;32m----> 1\u001b[0;31m \u001b[0mdf_topic_sents_keywords\u001b[0m \u001b[0;34m=\u001b[0m \u001b[0mformat_topics_sentences\u001b[0m\u001b[0;34m(\u001b[0m\u001b[0mSJ_papers\u001b[0m\u001b[0;34m[\u001b[0m\u001b[0;34m'title'\u001b[0m\u001b[0;34m]\u001b[0m\u001b[0;34m.\u001b[0m\u001b[0mtolist\u001b[0m\u001b[0;34m(\u001b[0m\u001b[0;34m)\u001b[0m\u001b[0;34m,\u001b[0m\u001b[0mldamodel\u001b[0m\u001b[0;34m=\u001b[0m\u001b[0mlda_model\u001b[0m\u001b[0;34m,\u001b[0m \u001b[0mcorpus\u001b[0m\u001b[0;34m=\u001b[0m\u001b[0mcorpus\u001b[0m\u001b[0;34m)\u001b[0m\u001b[0;34m\u001b[0m\u001b[0;34m\u001b[0m\u001b[0m\n\u001b[0m\u001b[1;32m      2\u001b[0m \u001b[0;34m\u001b[0m\u001b[0m\n\u001b[1;32m      3\u001b[0m \u001b[0;31m# Format\u001b[0m\u001b[0;34m\u001b[0m\u001b[0;34m\u001b[0m\u001b[0m\n\u001b[1;32m      4\u001b[0m \u001b[0mdf_dominant_topic\u001b[0m \u001b[0;34m=\u001b[0m \u001b[0mdf_topic_sents_keywords\u001b[0m\u001b[0;34m.\u001b[0m\u001b[0mreset_index\u001b[0m\u001b[0;34m(\u001b[0m\u001b[0;34m)\u001b[0m\u001b[0;34m\u001b[0m\u001b[0;34m\u001b[0m\u001b[0m\n",
            "\u001b[0;32m/var/folders/hn/p77x1w5x5s725x1wyvhfn59h0000gn/T/ipykernel_8069/1188555016.py\u001b[0m in \u001b[0;36m?\u001b[0;34m(texts, ldamodel, corpus)\u001b[0m\n\u001b[1;32m      9\u001b[0m         \u001b[0;32mfor\u001b[0m \u001b[0mj\u001b[0m\u001b[0;34m,\u001b[0m \u001b[0;34m(\u001b[0m\u001b[0mtopic_num\u001b[0m\u001b[0;34m,\u001b[0m \u001b[0mprop_topic\u001b[0m\u001b[0;34m)\u001b[0m \u001b[0;32min\u001b[0m \u001b[0menumerate\u001b[0m\u001b[0;34m(\u001b[0m\u001b[0mrow\u001b[0m\u001b[0;34m)\u001b[0m\u001b[0;34m:\u001b[0m\u001b[0;34m\u001b[0m\u001b[0;34m\u001b[0m\u001b[0m\n\u001b[1;32m     10\u001b[0m             \u001b[0;32mif\u001b[0m \u001b[0mj\u001b[0m \u001b[0;34m==\u001b[0m \u001b[0;36m0\u001b[0m\u001b[0;34m:\u001b[0m  \u001b[0;31m# => dominant topic\u001b[0m\u001b[0;34m\u001b[0m\u001b[0;34m\u001b[0m\u001b[0m\n\u001b[1;32m     11\u001b[0m                 \u001b[0mwp\u001b[0m \u001b[0;34m=\u001b[0m \u001b[0mldamodel\u001b[0m\u001b[0;34m.\u001b[0m\u001b[0mshow_topic\u001b[0m\u001b[0;34m(\u001b[0m\u001b[0mtopic_num\u001b[0m\u001b[0;34m)\u001b[0m\u001b[0;34m\u001b[0m\u001b[0;34m\u001b[0m\u001b[0m\n\u001b[1;32m     12\u001b[0m                 \u001b[0mtopic_keywords\u001b[0m \u001b[0;34m=\u001b[0m \u001b[0;34m\", \"\u001b[0m\u001b[0;34m.\u001b[0m\u001b[0mjoin\u001b[0m\u001b[0;34m(\u001b[0m\u001b[0;34m[\u001b[0m\u001b[0mword\u001b[0m \u001b[0;32mfor\u001b[0m \u001b[0mword\u001b[0m\u001b[0;34m,\u001b[0m \u001b[0mprop\u001b[0m \u001b[0;32min\u001b[0m \u001b[0mwp\u001b[0m\u001b[0;34m]\u001b[0m\u001b[0;34m)\u001b[0m\u001b[0;34m\u001b[0m\u001b[0;34m\u001b[0m\u001b[0m\n\u001b[0;32m---> 13\u001b[0;31m                 \u001b[0msent_topics_df\u001b[0m \u001b[0;34m=\u001b[0m \u001b[0msent_topics_df\u001b[0m\u001b[0;34m.\u001b[0m\u001b[0mappend\u001b[0m\u001b[0;34m(\u001b[0m\u001b[0mpd\u001b[0m\u001b[0;34m.\u001b[0m\u001b[0mSeries\u001b[0m\u001b[0;34m(\u001b[0m\u001b[0;34m[\u001b[0m\u001b[0mint\u001b[0m\u001b[0;34m(\u001b[0m\u001b[0mtopic_num\u001b[0m\u001b[0;34m)\u001b[0m\u001b[0;34m,\u001b[0m \u001b[0mround\u001b[0m\u001b[0;34m(\u001b[0m\u001b[0mprop_topic\u001b[0m\u001b[0;34m,\u001b[0m\u001b[0;36m4\u001b[0m\u001b[0;34m)\u001b[0m\u001b[0;34m,\u001b[0m \u001b[0mtopic_keywords\u001b[0m\u001b[0;34m]\u001b[0m\u001b[0;34m)\u001b[0m\u001b[0;34m,\u001b[0m \u001b[0mignore_index\u001b[0m\u001b[0;34m=\u001b[0m\u001b[0;32mTrue\u001b[0m\u001b[0;34m)\u001b[0m\u001b[0;34m\u001b[0m\u001b[0;34m\u001b[0m\u001b[0m\n\u001b[0m\u001b[1;32m     14\u001b[0m             \u001b[0;32melse\u001b[0m\u001b[0;34m:\u001b[0m\u001b[0;34m\u001b[0m\u001b[0;34m\u001b[0m\u001b[0m\n\u001b[1;32m     15\u001b[0m                 \u001b[0;32mbreak\u001b[0m\u001b[0;34m\u001b[0m\u001b[0;34m\u001b[0m\u001b[0m\n\u001b[1;32m     16\u001b[0m     \u001b[0msent_topics_df\u001b[0m\u001b[0;34m.\u001b[0m\u001b[0mcolumns\u001b[0m \u001b[0;34m=\u001b[0m \u001b[0;34m[\u001b[0m\u001b[0;34m'Dominant_Topic'\u001b[0m\u001b[0;34m,\u001b[0m \u001b[0;34m'Perc_Contribution'\u001b[0m\u001b[0;34m,\u001b[0m \u001b[0;34m'Topic_Keywords'\u001b[0m\u001b[0;34m]\u001b[0m\u001b[0;34m\u001b[0m\u001b[0;34m\u001b[0m\u001b[0m\n",
            "\u001b[0;32m~/anaconda3/envs/dl/lib/python3.10/site-packages/pandas/core/generic.py\u001b[0m in \u001b[0;36m?\u001b[0;34m(self, name)\u001b[0m\n\u001b[1;32m   6200\u001b[0m             \u001b[0;32mand\u001b[0m \u001b[0mname\u001b[0m \u001b[0;32mnot\u001b[0m \u001b[0;32min\u001b[0m \u001b[0mself\u001b[0m\u001b[0;34m.\u001b[0m\u001b[0m_accessors\u001b[0m\u001b[0;34m\u001b[0m\u001b[0;34m\u001b[0m\u001b[0m\n\u001b[1;32m   6201\u001b[0m             \u001b[0;32mand\u001b[0m \u001b[0mself\u001b[0m\u001b[0;34m.\u001b[0m\u001b[0m_info_axis\u001b[0m\u001b[0;34m.\u001b[0m\u001b[0m_can_hold_identifiers_and_holds_name\u001b[0m\u001b[0;34m(\u001b[0m\u001b[0mname\u001b[0m\u001b[0;34m)\u001b[0m\u001b[0;34m\u001b[0m\u001b[0;34m\u001b[0m\u001b[0m\n\u001b[1;32m   6202\u001b[0m         ):\n\u001b[1;32m   6203\u001b[0m             \u001b[0;32mreturn\u001b[0m \u001b[0mself\u001b[0m\u001b[0;34m[\u001b[0m\u001b[0mname\u001b[0m\u001b[0;34m]\u001b[0m\u001b[0;34m\u001b[0m\u001b[0;34m\u001b[0m\u001b[0m\n\u001b[0;32m-> 6204\u001b[0;31m         \u001b[0;32mreturn\u001b[0m \u001b[0mobject\u001b[0m\u001b[0;34m.\u001b[0m\u001b[0m__getattribute__\u001b[0m\u001b[0;34m(\u001b[0m\u001b[0mself\u001b[0m\u001b[0;34m,\u001b[0m \u001b[0mname\u001b[0m\u001b[0;34m)\u001b[0m\u001b[0;34m\u001b[0m\u001b[0;34m\u001b[0m\u001b[0m\n\u001b[0m",
            "\u001b[0;31mAttributeError\u001b[0m: 'DataFrame' object has no attribute 'append'"
          ]
        }
      ],
      "source": [
        "df_topic_sents_keywords = format_topics_sentences(SJ_papers['title'].tolist(),ldamodel=lda_model, corpus=corpus)\n",
        "\n",
        "# Format\n",
        "df_dominant_topic = df_topic_sents_keywords.reset_index()\n",
        "df_dominant_topic.columns = ['Document_No', 'Dominant_Topic', 'Topic_Perc_Contrib', 'Keywords', 'Text']\n",
        "\n",
        "# Show\n",
        "df_dominant_topic.head(10)"
      ]
    },
    {
      "cell_type": "code",
      "execution_count": null,
      "metadata": {
        "execution": {
          "iopub.execute_input": "2022-09-16T19:28:34.628081Z",
          "iopub.status.busy": "2022-09-16T19:28:34.627645Z",
          "iopub.status.idle": "2022-09-16T19:28:34.648888Z",
          "shell.execute_reply": "2022-09-16T19:28:34.647447Z",
          "shell.execute_reply.started": "2022-09-16T19:28:34.628044Z"
        },
        "id": "mAWmSoYYen8j",
        "trusted": true
      },
      "outputs": [],
      "source": [
        "topic_counts=df_dominant_topic['Dominant_Topic'].value_counts().reset_index().rename(columns={'index':'Topic','Dominant_Topic':'Number of Documents'})\n",
        "topic_counts['percentage_contribution']=(topic_counts['Number of Documents']/topic_counts['Number of Documents'].sum())*100\n",
        "topic_counts"
      ]
    },
    {
      "cell_type": "code",
      "execution_count": null,
      "metadata": {
        "execution": {
          "iopub.execute_input": "2022-09-16T19:28:34.651041Z",
          "iopub.status.busy": "2022-09-16T19:28:34.650707Z",
          "iopub.status.idle": "2022-09-16T19:28:34.659217Z",
          "shell.execute_reply": "2022-09-16T19:28:34.656748Z",
          "shell.execute_reply.started": "2022-09-16T19:28:34.651017Z"
        },
        "id": "Qb5tOVHHen8k",
        "trusted": true
      },
      "outputs": [],
      "source": [
        "def explore_topic(lda_model, topic_number, topn, output=True):\n",
        "    \"\"\"\n",
        "    accept a ldamodel, atopic number and topn vocabs of interest\n",
        "    prints a formatted list of the topn terms\n",
        "    \"\"\"\n",
        "    terms = []\n",
        "    for term, frequency in lda_model.show_topic(topic_number, topn=topn):\n",
        "        terms += [term]\n",
        "        if output:\n",
        "            print(u'{:20} {:.3f}'.format(term, round(frequency, 3)))\n",
        "\n",
        "    return terms"
      ]
    },
    {
      "cell_type": "code",
      "execution_count": null,
      "metadata": {
        "execution": {
          "iopub.execute_input": "2022-09-16T19:28:34.662137Z",
          "iopub.status.busy": "2022-09-16T19:28:34.661677Z",
          "iopub.status.idle": "2022-09-16T19:28:34.675147Z",
          "shell.execute_reply": "2022-09-16T19:28:34.672972Z",
          "shell.execute_reply.started": "2022-09-16T19:28:34.662067Z"
        },
        "id": "ziuER2AZen8k",
        "trusted": true
      },
      "outputs": [],
      "source": [
        "num_topics=2\n",
        "\n",
        "topic_summaries = []\n",
        "print(u'{:20} {}'.format(u'term', u'frequency') + u'\\n')\n",
        "for i in range(num_topics):\n",
        "    print('Topic '+str(i)+' |---------------------\\n')\n",
        "    tmp = explore_topic(lda_model,topic_number=i, topn=10, output=True )\n",
        "    topic_summaries += [tmp[:5]]\n",
        "    print"
      ]
    },
    {
      "cell_type": "code",
      "execution_count": null,
      "metadata": {
        "execution": {
          "iopub.execute_input": "2022-09-16T19:28:34.678218Z",
          "iopub.status.busy": "2022-09-16T19:28:34.677885Z",
          "iopub.status.idle": "2022-09-16T19:28:35.02236Z",
          "shell.execute_reply": "2022-09-16T19:28:35.021627Z",
          "shell.execute_reply.started": "2022-09-16T19:28:34.678193Z"
        },
        "id": "8FaFWjlIen8k",
        "trusted": true
      },
      "outputs": [],
      "source": [
        "# topic weights and dominant topics\n",
        "from sklearn.manifold import TSNE\n",
        "\n",
        "\n",
        "# topic weights\n",
        "topic_weights = []\n",
        "for i, row_list in enumerate(lda_model[corpus]):\n",
        "    topic_weights.append([w for i, w in row_list[0]])\n",
        "\n",
        "# Array of topic weights\n",
        "arr = pd.DataFrame(topic_weights).fillna(0).values\n",
        "\n",
        "\n",
        "# Dominant topic number in each doc\n",
        "topic_num = np.argmax(arr, axis=1)\n",
        "\n",
        "# tSNE Dimension Reduction\n",
        "tsne_model = TSNE(n_components=2, verbose=1, random_state=0, angle=.99, init='pca')\n",
        "tsne_lda = tsne_model.fit_transform(arr)"
      ]
    },
    {
      "cell_type": "code",
      "execution_count": null,
      "metadata": {
        "execution": {
          "iopub.execute_input": "2022-09-16T19:28:35.028637Z",
          "iopub.status.busy": "2022-09-16T19:28:35.025425Z",
          "iopub.status.idle": "2022-09-16T19:28:35.063283Z",
          "shell.execute_reply": "2022-09-16T19:28:35.062156Z",
          "shell.execute_reply.started": "2022-09-16T19:28:35.028583Z"
        },
        "id": "pTDfw4BSen8k",
        "trusted": true
      },
      "outputs": [],
      "source": [
        "sent_topics_df=pd.DataFrame()\n",
        "sent_topics_df['Text']=SJ_papers['title'].tolist()\n",
        "sent_topics_df['tsne_x']=tsne_lda[:,0]\n",
        "sent_topics_df['tsne_y']=tsne_lda[:,1]\n",
        "sent_topics_df['Topic_No']=topic_num\n",
        "sent_topics_df=pd.merge(sent_topics_df,df_dominant_topic,on=\"Text\")\n",
        "sent_topics_df.head()"
      ]
    },
    {
      "cell_type": "code",
      "execution_count": null,
      "metadata": {
        "execution": {
          "iopub.execute_input": "2022-09-16T19:28:35.064946Z",
          "iopub.status.busy": "2022-09-16T19:28:35.064637Z",
          "iopub.status.idle": "2022-09-16T19:28:35.168123Z",
          "shell.execute_reply": "2022-09-16T19:28:35.166849Z",
          "shell.execute_reply.started": "2022-09-16T19:28:35.064908Z"
        },
        "id": "vaqKn8d-en8k",
        "trusted": true
      },
      "outputs": [],
      "source": [
        "px.scatter(x='tsne_x',y='tsne_y',data_frame=sent_topics_df,color=\"Topic_No\",hover_data=[\"Topic_Perc_Contrib\"])"
      ]
    },
    {
      "cell_type": "code",
      "execution_count": null,
      "metadata": {
        "execution": {
          "iopub.execute_input": "2022-09-16T19:28:35.170639Z",
          "iopub.status.busy": "2022-09-16T19:28:35.169226Z",
          "iopub.status.idle": "2022-09-16T19:28:35.179298Z",
          "shell.execute_reply": "2022-09-16T19:28:35.177608Z",
          "shell.execute_reply.started": "2022-09-16T19:28:35.170547Z"
        },
        "id": "vTaH6BWFen8k",
        "trusted": true
      },
      "outputs": [],
      "source": [
        "Fabian_nodes = getCoAuthorshipNetwork(G,['Fabian A. C.'])\n",
        "Fabian_network = nx.subgraph(G,Fabian_nodes)\n",
        "print(\"Number of Nodes in Fabian Network \", len(Fabian_network.nodes()))\n",
        "print(\"Number of Edges in Fabian Network \", len(Fabian_network.edges()))"
      ]
    },
    {
      "cell_type": "code",
      "execution_count": null,
      "metadata": {
        "execution": {
          "iopub.execute_input": "2022-09-16T19:28:35.182478Z",
          "iopub.status.busy": "2022-09-16T19:28:35.181872Z",
          "iopub.status.idle": "2022-09-16T19:28:35.208199Z",
          "shell.execute_reply": "2022-09-16T19:28:35.206701Z",
          "shell.execute_reply.started": "2022-09-16T19:28:35.182447Z"
        },
        "id": "mn8x4ViCen8k",
        "scrolled": true,
        "trusted": true
      },
      "outputs": [],
      "source": [
        "Fabian_nt=Network(notebook=True,height='800px', width='100%',heading='Fabian Network')\n",
        "\n",
        "print(\"Creating PyVis from NetworkX\")\n",
        "Fabian_nt.from_nx(Fabian_network)\n",
        "Fabian_nt.toggle_physics(True)\n",
        "print(\"Saving PyVis Graph\")\n",
        "\n",
        "Fabian_nt.show_buttons()\n",
        "Fabian_nt.show(\"Fabian_CoAuthorGraph.html\")"
      ]
    },
    {
      "cell_type": "code",
      "execution_count": null,
      "metadata": {
        "execution": {
          "iopub.execute_input": "2022-09-16T19:28:35.211312Z",
          "iopub.status.busy": "2022-09-16T19:28:35.210861Z",
          "iopub.status.idle": "2022-09-16T19:28:35.248022Z",
          "shell.execute_reply": "2022-09-16T19:28:35.245413Z",
          "shell.execute_reply.started": "2022-09-16T19:28:35.211276Z"
        },
        "id": "yjKAMrKhen8k",
        "trusted": true
      },
      "outputs": [],
      "source": [
        "data['is_FA']=data['authors'].apply(lambda x:1 if \"Fabian A. C.\" in x else 0)\n",
        "FA_papers=data[data['is_FA']==1]\n",
        "FA_papers=FA_papers.reset_index(drop=True)\n",
        "\n",
        "print(\"Number of Papers by Fabian A. C. on Arxiv is \",FA_papers.shape[0])"
      ]
    },
    {
      "cell_type": "code",
      "execution_count": null,
      "metadata": {
        "execution": {
          "iopub.execute_input": "2022-09-16T19:28:35.250732Z",
          "iopub.status.busy": "2022-09-16T19:28:35.250267Z",
          "iopub.status.idle": "2022-09-16T19:28:35.259266Z",
          "shell.execute_reply": "2022-09-16T19:28:35.258325Z",
          "shell.execute_reply.started": "2022-09-16T19:28:35.250695Z"
        },
        "id": "yY-POiK0en8k",
        "trusted": true
      },
      "outputs": [],
      "source": [
        "print(\"The First Paper published by Fabian A. C. was in \",min(FA_papers['DateTime']))\n",
        "print(\"The Recent Paper published by Fabian A. C. was in  \",max(FA_papers['DateTime']))"
      ]
    },
    {
      "cell_type": "code",
      "execution_count": null,
      "metadata": {
        "execution": {
          "iopub.execute_input": "2022-09-16T19:28:35.261294Z",
          "iopub.status.busy": "2022-09-16T19:28:35.260722Z",
          "iopub.status.idle": "2022-09-16T19:28:35.279217Z",
          "shell.execute_reply": "2022-09-16T19:28:35.27611Z",
          "shell.execute_reply.started": "2022-09-16T19:28:35.261259Z"
        },
        "id": "gtR36PqHen8k",
        "trusted": true
      },
      "outputs": [],
      "source": [
        "titles=FA_papers['title'].tolist()\n",
        "stop_words = set(stopwords.words('english'))\n",
        "titles=[title.lower() for title in titles] ### Lower Casing the Title\n",
        "titles=[removeStopWords(title,stop_words) for title in titles]"
      ]
    },
    {
      "cell_type": "code",
      "execution_count": null,
      "metadata": {
        "execution": {
          "iopub.execute_input": "2022-09-16T19:28:35.28135Z",
          "iopub.status.busy": "2022-09-16T19:28:35.280709Z",
          "iopub.status.idle": "2022-09-16T19:28:35.353329Z",
          "shell.execute_reply": "2022-09-16T19:28:35.350962Z",
          "shell.execute_reply.started": "2022-09-16T19:28:35.281312Z"
        },
        "id": "R2L6HqNBen8k",
        "trusted": true
      },
      "outputs": [],
      "source": [
        "bigrams_list=[\" \".join(generateNGram(title,2)) for title in titles]\n",
        "topn=10\n",
        "top_bigrams=getMostCommon(bigrams_list,topn=topn)\n",
        "top_bigrams_df=pd.DataFrame()\n",
        "top_bigrams_df['words']=[val[0] for val in top_bigrams]\n",
        "top_bigrams_df['Frequency']=[val[1] for val in top_bigrams]\n",
        "px.bar(data_frame=top_bigrams_df.sort_values(\"Frequency\",ascending=True),x=\"Frequency\",y=\"words\",orientation=\"h\",title=\"Top \"+str(topn)+\" Bigrams in Papers published by Fabian A.C.\")"
      ]
    },
    {
      "cell_type": "code",
      "execution_count": null,
      "metadata": {
        "execution": {
          "iopub.execute_input": "2022-09-16T19:28:35.355844Z",
          "iopub.status.busy": "2022-09-16T19:28:35.355469Z",
          "iopub.status.idle": "2022-09-16T19:28:35.418479Z",
          "shell.execute_reply": "2022-09-16T19:28:35.417327Z",
          "shell.execute_reply.started": "2022-09-16T19:28:35.355817Z"
        },
        "id": "Q9ls23pmen8k",
        "trusted": true
      },
      "outputs": [],
      "source": [
        "trigrams_list=[\" \".join(generateNGram(title.replace(\":\",\"\"),3)) for title in titles]\n",
        "topn=10\n",
        "top_trigrams=getMostCommon(trigrams_list,topn=topn)\n",
        "top_trigrams_df=pd.DataFrame()\n",
        "top_trigrams_df['words']=[val[0] for val in top_trigrams]\n",
        "top_trigrams_df['Frequency']=[val[1] for val in top_trigrams]\n",
        "top_trigrams_df=top_trigrams_df[top_trigrams_df[\"words\"]!=\"\"]\n",
        "px.bar(data_frame=top_trigrams_df.sort_values(\"Frequency\",ascending=True),x=\"Frequency\",y=\"words\",orientation=\"h\",title=\"Top \"+str(topn)+\" Trigrams in Papers published by Fabian A.C.\")"
      ]
    },
    {
      "cell_type": "code",
      "execution_count": null,
      "metadata": {
        "execution": {
          "iopub.execute_input": "2022-09-16T19:28:35.421528Z",
          "iopub.status.busy": "2022-09-16T19:28:35.421015Z",
          "iopub.status.idle": "2022-09-16T19:28:35.43145Z",
          "shell.execute_reply": "2022-09-16T19:28:35.429639Z",
          "shell.execute_reply.started": "2022-09-16T19:28:35.421479Z"
        },
        "id": "zlASb8h2en8k",
        "trusted": true
      },
      "outputs": [],
      "source": [
        "tokenised_sentences=tokenise(FA_papers['title'].tolist())\n",
        "tokenised_sentences[0]"
      ]
    },
    {
      "cell_type": "code",
      "execution_count": null,
      "metadata": {
        "execution": {
          "iopub.execute_input": "2022-09-16T19:28:35.432918Z",
          "iopub.status.busy": "2022-09-16T19:28:35.432594Z",
          "iopub.status.idle": "2022-09-16T19:28:35.50111Z",
          "shell.execute_reply": "2022-09-16T19:28:35.500131Z",
          "shell.execute_reply.started": "2022-09-16T19:28:35.432891Z"
        },
        "id": "kUWxHpnSen8k",
        "trusted": true
      },
      "outputs": [],
      "source": [
        "sentences=[\" \".join(tokenised_sentence) for tokenised_sentence in tokenised_sentences]\n",
        "lemmatised_sentences=[lemmatise(sentence,stop_words) for sentence in sentences]\n",
        "lemmatised_sentences[0]"
      ]
    },
    {
      "cell_type": "code",
      "execution_count": null,
      "metadata": {
        "execution": {
          "iopub.execute_input": "2022-09-16T19:28:35.502699Z",
          "iopub.status.busy": "2022-09-16T19:28:35.502338Z",
          "iopub.status.idle": "2022-09-16T19:28:35.513605Z",
          "shell.execute_reply": "2022-09-16T19:28:35.512541Z",
          "shell.execute_reply.started": "2022-09-16T19:28:35.502666Z"
        },
        "id": "6aimQGlNen8k",
        "trusted": true
      },
      "outputs": [],
      "source": [
        "# Build the bigram and trigram models\n",
        "bigram = gensim.models.Phrases(lemmatised_sentences,min_count=2)\n",
        "trigram = gensim.models.Phrases(bigram[lemmatised_sentences],min_count=2)\n",
        "\n",
        "bigram_mod = gensim.models.phrases.Phraser(bigram)\n",
        "trigram_mod = gensim.models.phrases.Phraser(trigram)"
      ]
    },
    {
      "cell_type": "code",
      "execution_count": null,
      "metadata": {
        "execution": {
          "iopub.execute_input": "2022-09-16T19:28:35.526082Z",
          "iopub.status.busy": "2022-09-16T19:28:35.524543Z",
          "iopub.status.idle": "2022-09-16T19:28:35.532172Z",
          "shell.execute_reply": "2022-09-16T19:28:35.531402Z",
          "shell.execute_reply.started": "2022-09-16T19:28:35.52603Z"
        },
        "id": "Yua7FC2Ten8k",
        "trusted": true
      },
      "outputs": [],
      "source": [
        "bigrams_words=[bigram_mod[sentence] for sentence in lemmatised_sentences]\n",
        "\n",
        "trigrams_words=[trigram_mod[sentence] for sentence in bigrams_words]"
      ]
    },
    {
      "cell_type": "code",
      "execution_count": null,
      "metadata": {
        "execution": {
          "iopub.execute_input": "2022-09-16T19:28:35.533552Z",
          "iopub.status.busy": "2022-09-16T19:28:35.533289Z",
          "iopub.status.idle": "2022-09-16T19:28:35.550399Z",
          "shell.execute_reply": "2022-09-16T19:28:35.549153Z",
          "shell.execute_reply.started": "2022-09-16T19:28:35.533528Z"
        },
        "id": "aaCmAnvlen8k",
        "trusted": true
      },
      "outputs": [],
      "source": [
        "id2word = corpora.Dictionary(trigrams_words)\n",
        "corpus = [id2word.doc2bow(text) for text in trigrams_words]\n",
        "[(id2word[id], freq) for id, freq in corpus[0]]"
      ]
    },
    {
      "cell_type": "code",
      "execution_count": null,
      "metadata": {
        "execution": {
          "iopub.execute_input": "2022-09-16T19:28:35.552499Z",
          "iopub.status.busy": "2022-09-16T19:28:35.551659Z",
          "iopub.status.idle": "2022-09-16T19:28:38.706998Z",
          "shell.execute_reply": "2022-09-16T19:28:38.706308Z",
          "shell.execute_reply.started": "2022-09-16T19:28:35.552464Z"
        },
        "id": "JZuhykIren8l",
        "trusted": true
      },
      "outputs": [],
      "source": [
        "models,coherence=compute_coherence_values(id2word,corpus,trigrams_words,limit=20,start=2,step=2)\n",
        "x = range(2, 20, 2)\n",
        "plt.plot(x, coherence)\n",
        "plt.xlabel(\"Num Topics\")\n",
        "plt.ylabel(\"Coherence score\")\n",
        "plt.legend((\"coherence_values\"), loc='best')\n",
        "plt.show()"
      ]
    },
    {
      "cell_type": "code",
      "execution_count": null,
      "metadata": {
        "execution": {
          "iopub.execute_input": "2022-09-16T19:28:38.709376Z",
          "iopub.status.busy": "2022-09-16T19:28:38.708171Z",
          "iopub.status.idle": "2022-09-16T19:28:38.757627Z",
          "shell.execute_reply": "2022-09-16T19:28:38.756412Z",
          "shell.execute_reply.started": "2022-09-16T19:28:38.709349Z"
        },
        "id": "0kz5aeRxen8l",
        "trusted": true
      },
      "outputs": [],
      "source": [
        "lda_model = gensim.models.ldamodel.LdaModel(corpus=corpus,\n",
        "                                           id2word=id2word,\n",
        "                                           num_topics=2,\n",
        "                                           random_state=100,\n",
        "                                           update_every=1,\n",
        "                                           chunksize=20,\n",
        "                                           passes=10,\n",
        "                                           alpha='auto',\n",
        "                                           per_word_topics=True)"
      ]
    },
    {
      "cell_type": "code",
      "execution_count": null,
      "metadata": {
        "execution": {
          "iopub.execute_input": "2022-09-16T19:28:38.759446Z",
          "iopub.status.busy": "2022-09-16T19:28:38.759148Z",
          "iopub.status.idle": "2022-09-16T19:28:38.765837Z",
          "shell.execute_reply": "2022-09-16T19:28:38.764604Z",
          "shell.execute_reply.started": "2022-09-16T19:28:38.759419Z"
        },
        "id": "HTw0rHIxen8l",
        "trusted": true
      },
      "outputs": [],
      "source": [
        "print(lda_model.print_topics())\n",
        "doc_lda = lda_model[corpus]"
      ]
    },
    {
      "cell_type": "code",
      "execution_count": null,
      "metadata": {
        "execution": {
          "iopub.execute_input": "2022-09-16T19:28:38.768406Z",
          "iopub.status.busy": "2022-09-16T19:28:38.76703Z",
          "iopub.status.idle": "2022-09-16T19:28:38.973405Z",
          "shell.execute_reply": "2022-09-16T19:28:38.971283Z",
          "shell.execute_reply.started": "2022-09-16T19:28:38.768365Z"
        },
        "id": "qnqxWRIcen8l",
        "trusted": true
      },
      "outputs": [],
      "source": [
        "print('\\nPerplexity: ', lda_model.log_perplexity(corpus))\n",
        "\n",
        "# Compute Coherence Score\n",
        "coherence_model_lda = CoherenceModel(model=lda_model, texts=trigrams_words, dictionary=id2word, coherence='c_v')\n",
        "coherence_lda = coherence_model_lda.get_coherence()\n",
        "print('\\nCoherence Score: ', coherence_lda)"
      ]
    },
    {
      "cell_type": "code",
      "execution_count": null,
      "metadata": {
        "execution": {
          "iopub.execute_input": "2022-09-16T19:28:38.97553Z",
          "iopub.status.busy": "2022-09-16T19:28:38.975224Z",
          "iopub.status.idle": "2022-09-16T19:28:39.019943Z",
          "shell.execute_reply": "2022-09-16T19:28:39.018678Z",
          "shell.execute_reply.started": "2022-09-16T19:28:38.975503Z"
        },
        "id": "3vYt8mF6en8l",
        "trusted": true
      },
      "outputs": [],
      "source": [
        "df_topic_sents_keywords = format_topics_sentences(FA_papers['title'].tolist(),ldamodel=lda_model, corpus=corpus)\n",
        "\n",
        "# Format\n",
        "df_dominant_topic = df_topic_sents_keywords.reset_index()\n",
        "df_dominant_topic.columns = ['Document_No', 'Dominant_Topic', 'Topic_Perc_Contrib', 'Keywords', 'Text']\n",
        "\n",
        "# Show\n",
        "df_dominant_topic.head(10)"
      ]
    },
    {
      "cell_type": "code",
      "execution_count": null,
      "metadata": {
        "execution": {
          "iopub.execute_input": "2022-09-16T19:28:39.022218Z",
          "iopub.status.busy": "2022-09-16T19:28:39.021504Z",
          "iopub.status.idle": "2022-09-16T19:28:39.042897Z",
          "shell.execute_reply": "2022-09-16T19:28:39.040111Z",
          "shell.execute_reply.started": "2022-09-16T19:28:39.02219Z"
        },
        "id": "-fDZK9_-en8l",
        "trusted": true
      },
      "outputs": [],
      "source": [
        "topic_counts=df_dominant_topic['Dominant_Topic'].value_counts().reset_index().rename(columns={'index':'Topic','Dominant_Topic':'Number of Documents'})\n",
        "topic_counts['percentage_contribution']=(topic_counts['Number of Documents']/topic_counts['Number of Documents'].sum())*100\n",
        "topic_counts"
      ]
    },
    {
      "cell_type": "code",
      "execution_count": null,
      "metadata": {
        "execution": {
          "iopub.execute_input": "2022-09-16T19:28:39.045418Z",
          "iopub.status.busy": "2022-09-16T19:28:39.045075Z",
          "iopub.status.idle": "2022-09-16T19:28:39.051726Z",
          "shell.execute_reply": "2022-09-16T19:28:39.051069Z",
          "shell.execute_reply.started": "2022-09-16T19:28:39.045385Z"
        },
        "id": "S-7dDDOVen8l",
        "trusted": true
      },
      "outputs": [],
      "source": [
        "num_topics=2\n",
        "\n",
        "topic_summaries = []\n",
        "print(u'{:20} {}'.format(u'term', u'frequency') + u'\\n')\n",
        "for i in range(num_topics):\n",
        "    print('Topic '+str(i)+' |---------------------\\n')\n",
        "    tmp = explore_topic(lda_model,topic_number=i, topn=10, output=True )\n",
        "    topic_summaries += [tmp[:5]]\n",
        "    print"
      ]
    },
    {
      "cell_type": "code",
      "execution_count": null,
      "metadata": {
        "execution": {
          "iopub.execute_input": "2022-09-16T19:28:39.053055Z",
          "iopub.status.busy": "2022-09-16T19:28:39.052805Z",
          "iopub.status.idle": "2022-09-16T19:28:39.310537Z",
          "shell.execute_reply": "2022-09-16T19:28:39.309192Z",
          "shell.execute_reply.started": "2022-09-16T19:28:39.053033Z"
        },
        "id": "tKyjc3ASen8l",
        "trusted": true
      },
      "outputs": [],
      "source": [
        "# topic weights\n",
        "topic_weights = []\n",
        "for i, row_list in enumerate(lda_model[corpus]):\n",
        "    topic_weights.append([w for i, w in row_list[0]])\n",
        "\n",
        "# Array of topic weights\n",
        "arr = pd.DataFrame(topic_weights).fillna(0).values\n",
        "\n",
        "\n",
        "# Dominant topic number in each doc\n",
        "topic_num = np.argmax(arr, axis=1)\n",
        "\n",
        "# tSNE Dimension Reduction\n",
        "tsne_model = TSNE(n_components=2, verbose=1, random_state=0, angle=.99, init='pca')\n",
        "tsne_lda = tsne_model.fit_transform(arr)"
      ]
    },
    {
      "cell_type": "code",
      "execution_count": null,
      "metadata": {
        "execution": {
          "iopub.execute_input": "2022-09-16T19:28:39.315103Z",
          "iopub.status.busy": "2022-09-16T19:28:39.314383Z",
          "iopub.status.idle": "2022-09-16T19:28:39.338123Z",
          "shell.execute_reply": "2022-09-16T19:28:39.336903Z",
          "shell.execute_reply.started": "2022-09-16T19:28:39.315069Z"
        },
        "id": "67PEvN78en8l",
        "trusted": true
      },
      "outputs": [],
      "source": [
        "sent_topics_df=pd.DataFrame()\n",
        "sent_topics_df['Text']=FA_papers['title'].tolist()\n",
        "sent_topics_df['tsne_x']=tsne_lda[:,0]\n",
        "sent_topics_df['tsne_y']=tsne_lda[:,1]\n",
        "sent_topics_df['Topic_No']=topic_num\n",
        "sent_topics_df=pd.merge(sent_topics_df,df_dominant_topic,on=\"Text\")\n",
        "sent_topics_df.head()"
      ]
    },
    {
      "cell_type": "code",
      "execution_count": null,
      "metadata": {
        "execution": {
          "iopub.execute_input": "2022-09-16T19:28:39.34Z",
          "iopub.status.busy": "2022-09-16T19:28:39.339612Z",
          "iopub.status.idle": "2022-09-16T19:28:39.408722Z",
          "shell.execute_reply": "2022-09-16T19:28:39.406869Z",
          "shell.execute_reply.started": "2022-09-16T19:28:39.339957Z"
        },
        "id": "uvP_N-dMen8l",
        "trusted": true
      },
      "outputs": [],
      "source": [
        "px.scatter(x='tsne_x',y='tsne_y',data_frame=sent_topics_df,color=\"Topic_No\",hover_data=[\"Topic_Perc_Contrib\"])"
      ]
    }
  ],
  "metadata": {
    "colab": {
      "name": "Astrophysics Network analysis - arXiv",
      "provenance": []
    },
    "kernelspec": {
      "display_name": "Python 3",
      "language": "python",
      "name": "python3"
    },
    "language_info": {
      "codemirror_mode": {
        "name": "ipython",
        "version": 3
      },
      "file_extension": ".py",
      "mimetype": "text/x-python",
      "name": "python",
      "nbconvert_exporter": "python",
      "pygments_lexer": "ipython3",
      "version": "3.10.13"
    }
  },
  "nbformat": 4,
  "nbformat_minor": 0
}
