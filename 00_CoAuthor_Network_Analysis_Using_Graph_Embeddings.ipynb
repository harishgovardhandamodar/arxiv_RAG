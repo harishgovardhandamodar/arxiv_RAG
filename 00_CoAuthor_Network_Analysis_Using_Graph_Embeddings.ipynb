{
  "cells": [
    {
      "cell_type": "code",
      "execution_count": 1,
      "metadata": {
        "execution": {
          "iopub.execute_input": "2021-06-10T17:16:41.901023Z",
          "iopub.status.busy": "2021-06-10T17:16:41.900509Z",
          "iopub.status.idle": "2021-06-10T17:16:41.942584Z",
          "shell.execute_reply": "2021-06-10T17:16:41.941971Z",
          "shell.execute_reply.started": "2021-06-10T17:16:41.900993Z"
        },
        "id": "FzBq_qraQNlj",
        "trusted": true
      },
      "outputs": [],
      "source": [
        "%load_ext autoreload\n",
        "%autoreload 2"
      ]
    },
    {
      "cell_type": "markdown",
      "metadata": {
        "id": "uVKNV-YvQNlj"
      },
      "source": [
        "# Introduction\n",
        "\n",
        "In this we will look at Arxiv papers published in ML and AI since the year 2015- with focus of Co-Author Network.We will use Deep Walk (which is a concept based of Word Embeddings) to cluster author networks.\n",
        "This kind of embedding a Graph, can help in applications like clustering, Link PRediction etc.\n",
        "\n",
        "For Visualising the Graph we will use pyvis"
      ]
    },
    {
      "cell_type": "code",
      "execution_count": 2,
      "metadata": {
        "execution": {
          "iopub.execute_input": "2023-01-13T10:30:58.926754Z",
          "iopub.status.busy": "2023-01-13T10:30:58.925963Z",
          "iopub.status.idle": "2023-01-13T10:31:12.769723Z",
          "shell.execute_reply": "2023-01-13T10:31:12.768397Z",
          "shell.execute_reply.started": "2023-01-13T10:30:58.926646Z"
        },
        "id": "JyUIlWZkQNlk",
        "trusted": true
      },
      "outputs": [
        {
          "name": "stdout",
          "output_type": "stream",
          "text": [
            "Collecting pyvis\n",
            "  Downloading pyvis-0.3.2-py3-none-any.whl.metadata (1.7 kB)\n",
            "Requirement already satisfied: ipython>=5.3.0 in /Users/fox/anaconda3/envs/dl/lib/python3.10/site-packages (from pyvis) (8.21.0)\n",
            "Requirement already satisfied: jinja2>=2.9.6 in /Users/fox/anaconda3/envs/dl/lib/python3.10/site-packages (from pyvis) (3.1.3)\n",
            "Collecting jsonpickle>=1.4.1 (from pyvis)\n",
            "  Downloading jsonpickle-3.0.3-py3-none-any.whl.metadata (7.3 kB)\n",
            "Requirement already satisfied: networkx>=1.11 in /Users/fox/anaconda3/envs/dl/lib/python3.10/site-packages (from pyvis) (3.1)\n",
            "Requirement already satisfied: decorator in /Users/fox/anaconda3/envs/dl/lib/python3.10/site-packages (from ipython>=5.3.0->pyvis) (5.1.1)\n",
            "Requirement already satisfied: jedi>=0.16 in /Users/fox/anaconda3/envs/dl/lib/python3.10/site-packages (from ipython>=5.3.0->pyvis) (0.19.1)\n",
            "Requirement already satisfied: matplotlib-inline in /Users/fox/anaconda3/envs/dl/lib/python3.10/site-packages (from ipython>=5.3.0->pyvis) (0.1.6)\n",
            "Requirement already satisfied: prompt-toolkit<3.1.0,>=3.0.41 in /Users/fox/anaconda3/envs/dl/lib/python3.10/site-packages (from ipython>=5.3.0->pyvis) (3.0.42)\n",
            "Requirement already satisfied: pygments>=2.4.0 in /Users/fox/anaconda3/envs/dl/lib/python3.10/site-packages (from ipython>=5.3.0->pyvis) (2.17.2)\n",
            "Requirement already satisfied: stack-data in /Users/fox/anaconda3/envs/dl/lib/python3.10/site-packages (from ipython>=5.3.0->pyvis) (0.6.2)\n",
            "Requirement already satisfied: traitlets>=5 in /Users/fox/anaconda3/envs/dl/lib/python3.10/site-packages (from ipython>=5.3.0->pyvis) (5.14.1)\n",
            "Requirement already satisfied: exceptiongroup in /Users/fox/anaconda3/envs/dl/lib/python3.10/site-packages (from ipython>=5.3.0->pyvis) (1.2.0)\n",
            "Requirement already satisfied: pexpect>4.3 in /Users/fox/anaconda3/envs/dl/lib/python3.10/site-packages (from ipython>=5.3.0->pyvis) (4.9.0)\n",
            "Requirement already satisfied: MarkupSafe>=2.0 in /Users/fox/anaconda3/envs/dl/lib/python3.10/site-packages (from jinja2>=2.9.6->pyvis) (2.1.3)\n",
            "Requirement already satisfied: parso<0.9.0,>=0.8.3 in /Users/fox/anaconda3/envs/dl/lib/python3.10/site-packages (from jedi>=0.16->ipython>=5.3.0->pyvis) (0.8.3)\n",
            "Requirement already satisfied: ptyprocess>=0.5 in /Users/fox/anaconda3/envs/dl/lib/python3.10/site-packages (from pexpect>4.3->ipython>=5.3.0->pyvis) (0.7.0)\n",
            "Requirement already satisfied: wcwidth in /Users/fox/anaconda3/envs/dl/lib/python3.10/site-packages (from prompt-toolkit<3.1.0,>=3.0.41->ipython>=5.3.0->pyvis) (0.2.13)\n",
            "Requirement already satisfied: executing>=1.2.0 in /Users/fox/anaconda3/envs/dl/lib/python3.10/site-packages (from stack-data->ipython>=5.3.0->pyvis) (2.0.1)\n",
            "Requirement already satisfied: asttokens>=2.1.0 in /Users/fox/anaconda3/envs/dl/lib/python3.10/site-packages (from stack-data->ipython>=5.3.0->pyvis) (2.4.1)\n",
            "Requirement already satisfied: pure-eval in /Users/fox/anaconda3/envs/dl/lib/python3.10/site-packages (from stack-data->ipython>=5.3.0->pyvis) (0.2.2)\n",
            "Requirement already satisfied: six>=1.12.0 in /Users/fox/anaconda3/envs/dl/lib/python3.10/site-packages (from asttokens>=2.1.0->stack-data->ipython>=5.3.0->pyvis) (1.16.0)\n",
            "Downloading pyvis-0.3.2-py3-none-any.whl (756 kB)\n",
            "\u001b[2K   \u001b[90m━━━━━━━━━━━━━━━━━━━━━━━━━━━━━━━━━━━━━━━━\u001b[0m \u001b[32m756.0/756.0 kB\u001b[0m \u001b[31m17.5 MB/s\u001b[0m eta \u001b[36m0:00:00\u001b[0ma \u001b[36m0:00:01\u001b[0m\n",
            "\u001b[?25hDownloading jsonpickle-3.0.3-py3-none-any.whl (40 kB)\n",
            "\u001b[2K   \u001b[90m━━━━━━━━━━━━━━━━━━━━━━━━━━━━━━━━━━━━━━━━\u001b[0m \u001b[32m40.8/40.8 kB\u001b[0m \u001b[31m4.9 MB/s\u001b[0m eta \u001b[36m0:00:00\u001b[0m\n",
            "\u001b[?25hInstalling collected packages: jsonpickle, pyvis\n",
            "Successfully installed jsonpickle-3.0.3 pyvis-0.3.2\n"
          ]
        }
      ],
      "source": [
        "! pip install pyvis"
      ]
    },
    {
      "cell_type": "markdown",
      "metadata": {
        "id": "Z6uvRykoQNlk"
      },
      "source": [
        "# Load the Libraries"
      ]
    },
    {
      "cell_type": "code",
      "execution_count": 3,
      "metadata": {
        "execution": {
          "iopub.execute_input": "2023-01-13T10:34:24.588537Z",
          "iopub.status.busy": "2023-01-13T10:34:24.588114Z",
          "iopub.status.idle": "2023-01-13T10:34:28.27617Z",
          "shell.execute_reply": "2023-01-13T10:34:28.275Z",
          "shell.execute_reply.started": "2023-01-13T10:34:24.588498Z"
        },
        "id": "4qaYW0uxQNlk",
        "trusted": true
      },
      "outputs": [
        {
          "name": "stderr",
          "output_type": "stream",
          "text": [
            "/var/folders/hn/p77x1w5x5s725x1wyvhfn59h0000gn/T/ipykernel_6409/888553813.py:49: DeprecationWarning: Importing display from IPython.core.display is deprecated since IPython 7.14, please import from IPython display\n",
            "  from IPython.core.display import display, HTML\n"
          ]
        }
      ],
      "source": [
        "import pandas as pd\n",
        "import numpy as np\n",
        "from datetime import datetime\n",
        "import sys\n",
        "import ast\n",
        "\n",
        "import plotly.express as px\n",
        "\n",
        "#import nltk\n",
        "#from nltk.corpus import stopwords\n",
        "#import spacy\n",
        "\n",
        "import matplotlib.pyplot as plt\n",
        "import seaborn as sns\n",
        "\n",
        "\n",
        "\n",
        "import networkx as nx\n",
        "from networkx.algorithms.components.connected import connected_components\n",
        "\n",
        "import json\n",
        "import dask.bag as db\n",
        "\n",
        "import sys\n",
        "import os\n",
        "\n",
        "sys.path.append(\"..\")\n",
        "\n",
        "from pathlib import Path\n",
        "\n",
        "import json\n",
        "\n",
        "\n",
        "from itertools import combinations\n",
        "from collections import Counter\n",
        "from itertools import chain\n",
        "import random\n",
        "\n",
        "from tqdm.notebook import tqdm, trange\n",
        "import time    # to be used in loop iterations\n",
        "\n",
        "import multiprocessing\n",
        "import smart_open\n",
        "\n",
        "from gensim.models.word2vec import Word2Vec\n",
        "\n",
        "from pyvis.network import Network\n",
        "\n",
        "from IPython.core.display import display, HTML\n",
        "\n",
        "from sklearn.metrics import pairwise_distances\n",
        "from sklearn.metrics.pairwise import cosine_similarity,cosine_distances\n",
        "from sklearn.cluster import KMeans\n",
        "\n",
        "import matplotlib.pyplot as plt"
      ]
    },
    {
      "cell_type": "markdown",
      "metadata": {
        "id": "FeR6ML2KQNlk"
      },
      "source": [
        "# Extract the Data from Kaggle"
      ]
    },
    {
      "cell_type": "code",
      "execution_count": 4,
      "metadata": {
        "execution": {
          "iopub.execute_input": "2023-01-13T10:34:28.278616Z",
          "iopub.status.busy": "2023-01-13T10:34:28.27815Z",
          "iopub.status.idle": "2023-01-13T10:34:28.29073Z",
          "shell.execute_reply": "2023-01-13T10:34:28.289318Z",
          "shell.execute_reply.started": "2023-01-13T10:34:28.278564Z"
        },
        "id": "2oDMXWpMQNlk",
        "trusted": true
      },
      "outputs": [],
      "source": [
        "# Extract Only the AI , ML PAPERS\n",
        "def extractArxivData(categories=['stat.ML','cs.AI'],year=None,raw_data_path=\"../data/raw/\",save_extracted_filename=\"../data/processed/AI_ML.json\"):\n",
        "    \"\"\" This function extracts data for the given set of categories and save the data into the save_extracted_filename path \"\"\"\n",
        "    records=db.read_text(raw_data_path+\"/*.json\").map(lambda x:json.loads(x))\n",
        "    docs = (records.filter(lambda x:any(ele in x['categories'] for ele in categories)==True))\n",
        "    extract_latest_version=lambda x:x['versions'][-1][\"created\"]\n",
        "    if year!=None:\n",
        "        docs=docs.filter(lambda x:int(extract_latest_version(x).split(\" \")[3])>=year)\n",
        "\n",
        "    get_metadata = lambda x: {'id': x['id'],\n",
        "                  'title': x['title'],\n",
        "                  'category':x['categories'],\n",
        "                  'abstract':x['abstract'],\n",
        "                 'version':x['versions'][-1]['created'],\n",
        "                         'doi':x[\"doi\"],\n",
        "                         'authors_parsed':x['authors_parsed']}\n",
        "\n",
        "    data=docs.map(get_metadata).to_dataframe().compute()\n",
        "\n",
        "    ## Creating authors fields by joining first and last nmes in authors_parsed columns.\n",
        "    data['authors']=data['authors_parsed'].apply(lambda authors:[(\" \".join(author)).strip() for author in authors])\n",
        "\n",
        "    print(\"Number of Records Extracted for Given Set of Categories \",data.shape[0])\n",
        "    Path(os.path.dirname(save_extracted_filename)).mkdir(parents=True, exist_ok=True)\n",
        "    data.to_json(save_extracted_filename,orient=\"records\")\n",
        "    return data\n"
      ]
    },
    {
      "cell_type": "code",
      "execution_count": 8,
      "metadata": {
        "execution": {
          "iopub.execute_input": "2023-01-13T10:34:29.348424Z",
          "iopub.status.busy": "2023-01-13T10:34:29.347651Z",
          "iopub.status.idle": "2023-01-13T10:34:29.353458Z",
          "shell.execute_reply": "2023-01-13T10:34:29.352577Z",
          "shell.execute_reply.started": "2023-01-13T10:34:29.34837Z"
        },
        "id": "q384nO3rQNll",
        "trusted": true
      },
      "outputs": [],
      "source": [
        "RAW_DATA_PATH=\".\"\n"
      ]
    },
    {
      "cell_type": "code",
      "execution_count": 9,
      "metadata": {
        "execution": {
          "iopub.execute_input": "2023-01-13T10:34:31.023636Z",
          "iopub.status.busy": "2023-01-13T10:34:31.023004Z",
          "iopub.status.idle": "2023-01-13T10:36:02.374256Z",
          "shell.execute_reply": "2023-01-13T10:36:02.372478Z",
          "shell.execute_reply.started": "2023-01-13T10:34:31.023573Z"
        },
        "id": "DzIHADdeQNll",
        "trusted": true
      },
      "outputs": [
        {
          "name": "stdout",
          "output_type": "stream",
          "text": [
            "Number of Records Extracted for Given Set of Categories  127725\n"
          ]
        }
      ],
      "source": [
        "## Collect data for Papers published in ['stat.ML','cs.AI'] since year 2015.\n",
        "data=extractArxivData(categories=['stat.ML','cs.AI'],year=2015,raw_data_path=RAW_DATA_PATH,save_extracted_filename=\"AI_ML_since2015.json\")"
      ]
    },
    {
      "cell_type": "markdown",
      "metadata": {
        "id": "sr064dQyQNll"
      },
      "source": [
        "# Creating a Co-Author Network\n",
        "\n",
        "For the set of papers extracted, for every pair of authors an edge is to be created. The Edge weight will be the number of papers the two authors have collabrated on."
      ]
    },
    {
      "cell_type": "markdown",
      "metadata": {
        "id": "RgjYWjCTQNll"
      },
      "source": [
        "## Load the Data\n"
      ]
    },
    {
      "cell_type": "code",
      "execution_count": 10,
      "metadata": {
        "execution": {
          "iopub.execute_input": "2023-01-13T10:36:02.376996Z",
          "iopub.status.busy": "2023-01-13T10:36:02.376514Z",
          "iopub.status.idle": "2023-01-13T10:36:02.682591Z",
          "shell.execute_reply": "2023-01-13T10:36:02.681345Z",
          "shell.execute_reply.started": "2023-01-13T10:36:02.376956Z"
        },
        "id": "gGRCCBbfQNll",
        "trusted": true
      },
      "outputs": [
        {
          "data": {
            "text/html": [
              "<div>\n",
              "<style scoped>\n",
              "    .dataframe tbody tr th:only-of-type {\n",
              "        vertical-align: middle;\n",
              "    }\n",
              "\n",
              "    .dataframe tbody tr th {\n",
              "        vertical-align: top;\n",
              "    }\n",
              "\n",
              "    .dataframe thead th {\n",
              "        text-align: right;\n",
              "    }\n",
              "</style>\n",
              "<table border=\"1\" class=\"dataframe\">\n",
              "  <thead>\n",
              "    <tr style=\"text-align: right;\">\n",
              "      <th></th>\n",
              "      <th>id</th>\n",
              "      <th>title</th>\n",
              "      <th>category</th>\n",
              "      <th>abstract</th>\n",
              "      <th>version</th>\n",
              "      <th>doi</th>\n",
              "      <th>authors_parsed</th>\n",
              "      <th>authors</th>\n",
              "      <th>author_pairs</th>\n",
              "    </tr>\n",
              "  </thead>\n",
              "  <tbody>\n",
              "    <tr>\n",
              "      <th>0</th>\n",
              "      <td>0709.1667</td>\n",
              "      <td>Solving Constraint Satisfaction Problems throu...</td>\n",
              "      <td>cs.AI cond-mat.dis-nn cond-mat.stat-mech cs.CC</td>\n",
              "      <td>Message passing algorithms have proved surpr...</td>\n",
              "      <td>Tue, 4 Jun 2019 11:43:45 GMT</td>\n",
              "      <td>None</td>\n",
              "      <td>[[Montanari, Andrea, ], [Ricci-Tersenghi, Fede...</td>\n",
              "      <td>[Montanari Andrea, Ricci-Tersenghi Federico, S...</td>\n",
              "      <td>[(Montanari Andrea, Ricci-Tersenghi Federico),...</td>\n",
              "    </tr>\n",
              "    <tr>\n",
              "      <th>1</th>\n",
              "      <td>0811.2551</td>\n",
              "      <td>Modeling Cultural Dynamics</td>\n",
              "      <td>cs.MA cs.AI q-bio.NC</td>\n",
              "      <td>EVOC (for EVOlution of Culture) is a compute...</td>\n",
              "      <td>Tue, 9 Jul 2019 20:25:22 GMT</td>\n",
              "      <td>None</td>\n",
              "      <td>[[Gabora, Liane, ]]</td>\n",
              "      <td>[Gabora Liane]</td>\n",
              "      <td>[]</td>\n",
              "    </tr>\n",
              "    <tr>\n",
              "      <th>2</th>\n",
              "      <td>0812.0885</td>\n",
              "      <td>Elementary epistemological features of machine...</td>\n",
              "      <td>cs.AI</td>\n",
              "      <td>Theoretical analysis of machine intelligence...</td>\n",
              "      <td>Fri, 30 Jun 2017 14:10:03 GMT</td>\n",
              "      <td>None</td>\n",
              "      <td>[[Horvat, Marko, ]]</td>\n",
              "      <td>[Horvat Marko]</td>\n",
              "      <td>[]</td>\n",
              "    </tr>\n",
              "    <tr>\n",
              "      <th>3</th>\n",
              "      <td>0812.4044</td>\n",
              "      <td>The Offset Tree for Learning with Partial Labels</td>\n",
              "      <td>cs.LG cs.AI</td>\n",
              "      <td>We present an algorithm, called the Offset T...</td>\n",
              "      <td>Sun, 3 Apr 2016 21:41:38 GMT</td>\n",
              "      <td>None</td>\n",
              "      <td>[[Beygelzimer, Alina, ], [Langford, John, ]]</td>\n",
              "      <td>[Beygelzimer Alina, Langford John]</td>\n",
              "      <td>[(Beygelzimer Alina, Langford John)]</td>\n",
              "    </tr>\n",
              "    <tr>\n",
              "      <th>4</th>\n",
              "      <td>0902.3430</td>\n",
              "      <td>Domain Adaptation: Learning Bounds and Algorithms</td>\n",
              "      <td>cs.LG cs.AI</td>\n",
              "      <td>This paper addresses the general problem of ...</td>\n",
              "      <td>Thu, 30 Nov 2023 22:47:15 GMT</td>\n",
              "      <td>None</td>\n",
              "      <td>[[Mansour, Yishay, ], [Mohri, Mehryar, ], [Ros...</td>\n",
              "      <td>[Mansour Yishay, Mohri Mehryar, Rostamizadeh A...</td>\n",
              "      <td>[(Mansour Yishay, Mohri Mehryar), (Mansour Yis...</td>\n",
              "    </tr>\n",
              "  </tbody>\n",
              "</table>\n",
              "</div>"
            ],
            "text/plain": [
              "          id                                              title  \\\n",
              "0  0709.1667  Solving Constraint Satisfaction Problems throu...   \n",
              "1  0811.2551                         Modeling Cultural Dynamics   \n",
              "2  0812.0885  Elementary epistemological features of machine...   \n",
              "3  0812.4044   The Offset Tree for Learning with Partial Labels   \n",
              "4  0902.3430  Domain Adaptation: Learning Bounds and Algorithms   \n",
              "\n",
              "                                         category  \\\n",
              "0  cs.AI cond-mat.dis-nn cond-mat.stat-mech cs.CC   \n",
              "1                            cs.MA cs.AI q-bio.NC   \n",
              "2                                           cs.AI   \n",
              "3                                     cs.LG cs.AI   \n",
              "4                                     cs.LG cs.AI   \n",
              "\n",
              "                                            abstract  \\\n",
              "0    Message passing algorithms have proved surpr...   \n",
              "1    EVOC (for EVOlution of Culture) is a compute...   \n",
              "2    Theoretical analysis of machine intelligence...   \n",
              "3    We present an algorithm, called the Offset T...   \n",
              "4    This paper addresses the general problem of ...   \n",
              "\n",
              "                         version   doi  \\\n",
              "0   Tue, 4 Jun 2019 11:43:45 GMT  None   \n",
              "1   Tue, 9 Jul 2019 20:25:22 GMT  None   \n",
              "2  Fri, 30 Jun 2017 14:10:03 GMT  None   \n",
              "3   Sun, 3 Apr 2016 21:41:38 GMT  None   \n",
              "4  Thu, 30 Nov 2023 22:47:15 GMT  None   \n",
              "\n",
              "                                      authors_parsed  \\\n",
              "0  [[Montanari, Andrea, ], [Ricci-Tersenghi, Fede...   \n",
              "1                                [[Gabora, Liane, ]]   \n",
              "2                                [[Horvat, Marko, ]]   \n",
              "3       [[Beygelzimer, Alina, ], [Langford, John, ]]   \n",
              "4  [[Mansour, Yishay, ], [Mohri, Mehryar, ], [Ros...   \n",
              "\n",
              "                                             authors  \\\n",
              "0  [Montanari Andrea, Ricci-Tersenghi Federico, S...   \n",
              "1                                     [Gabora Liane]   \n",
              "2                                     [Horvat Marko]   \n",
              "3                 [Beygelzimer Alina, Langford John]   \n",
              "4  [Mansour Yishay, Mohri Mehryar, Rostamizadeh A...   \n",
              "\n",
              "                                        author_pairs  \n",
              "0  [(Montanari Andrea, Ricci-Tersenghi Federico),...  \n",
              "1                                                 []  \n",
              "2                                                 []  \n",
              "3               [(Beygelzimer Alina, Langford John)]  \n",
              "4  [(Mansour Yishay, Mohri Mehryar), (Mansour Yis...  "
            ]
          },
          "execution_count": 10,
          "metadata": {},
          "output_type": "execute_result"
        }
      ],
      "source": [
        "data['author_pairs']=data['authors'].apply(lambda x:list(combinations(x, 2)))\n",
        "data.head()"
      ]
    },
    {
      "cell_type": "markdown",
      "metadata": {
        "id": "ygf7AsySQNll"
      },
      "source": [
        "## For our Analysis, we will consider authors who have published papers after 2015 and published more than 2 papers.\n"
      ]
    },
    {
      "cell_type": "code",
      "execution_count": 11,
      "metadata": {
        "execution": {
          "iopub.execute_input": "2023-01-13T10:37:06.571829Z",
          "iopub.status.busy": "2023-01-13T10:37:06.570955Z",
          "iopub.status.idle": "2023-01-13T10:37:06.578621Z",
          "shell.execute_reply": "2023-01-13T10:37:06.57746Z",
          "shell.execute_reply.started": "2023-01-13T10:37:06.571755Z"
        },
        "id": "C-OxQC99QNlm",
        "trusted": true
      },
      "outputs": [],
      "source": [
        "def flattenList(nested_list):\n",
        "    flat_list = [item for sublist in nested_list for item in sublist]\n",
        "    return flat_list\n"
      ]
    },
    {
      "cell_type": "code",
      "execution_count": 12,
      "metadata": {
        "execution": {
          "iopub.execute_input": "2023-01-13T10:37:06.767015Z",
          "iopub.status.busy": "2023-01-13T10:37:06.766292Z",
          "iopub.status.idle": "2023-01-13T10:37:07.388213Z",
          "shell.execute_reply": "2023-01-13T10:37:07.386812Z",
          "shell.execute_reply.started": "2023-01-13T10:37:06.766971Z"
        },
        "id": "zaFmJZdwQNlm",
        "trusted": true
      },
      "outputs": [
        {
          "data": {
            "text/plain": [
              "(192879, 2)"
            ]
          },
          "execution_count": 12,
          "metadata": {},
          "output_type": "execute_result"
        }
      ],
      "source": [
        "ai_authors=pd.DataFrame(flattenList(data['authors'].tolist())).rename(columns={0:'authors'})\n",
        "papers_by_authors=ai_authors.groupby(['authors']).size().reset_index().rename(columns={0:'Number of Papers Published'}).sort_values(\"Number of Papers Published\",ascending=False)\n",
        "papers_by_authors.shape"
      ]
    },
    {
      "cell_type": "code",
      "execution_count": 13,
      "metadata": {
        "execution": {
          "iopub.execute_input": "2023-01-13T10:37:08.711319Z",
          "iopub.status.busy": "2023-01-13T10:37:08.710577Z",
          "iopub.status.idle": "2023-01-13T10:37:08.734879Z",
          "shell.execute_reply": "2023-01-13T10:37:08.73342Z",
          "shell.execute_reply.started": "2023-01-13T10:37:08.711264Z"
        },
        "id": "6xy9kIPzQNlm",
        "trusted": true
      },
      "outputs": [
        {
          "data": {
            "text/plain": [
              "count    192879.000000\n",
              "mean          2.713541\n",
              "std           5.464295\n",
              "min           1.000000\n",
              "25%           1.000000\n",
              "50%           1.000000\n",
              "75%           2.000000\n",
              "max         297.000000\n",
              "Name: Number of Papers Published, dtype: float64"
            ]
          },
          "execution_count": 13,
          "metadata": {},
          "output_type": "execute_result"
        }
      ],
      "source": [
        "papers_by_authors['Number of Papers Published'].describe()\n"
      ]
    },
    {
      "cell_type": "code",
      "execution_count": 14,
      "metadata": {
        "execution": {
          "iopub.execute_input": "2023-01-13T10:37:09.008599Z",
          "iopub.status.busy": "2023-01-13T10:37:09.008143Z",
          "iopub.status.idle": "2023-01-13T10:37:09.022496Z",
          "shell.execute_reply": "2023-01-13T10:37:09.021029Z",
          "shell.execute_reply.started": "2023-01-13T10:37:09.008551Z"
        },
        "id": "6ADPDVSbQNlm",
        "trusted": true
      },
      "outputs": [
        {
          "data": {
            "text/plain": [
              "45273"
            ]
          },
          "execution_count": 14,
          "metadata": {},
          "output_type": "execute_result"
        }
      ],
      "source": [
        "## Keeping Authors who have published more than 2 Papers\n",
        "nodes_to_keep=papers_by_authors.loc[papers_by_authors['Number of Papers Published']>2,'authors'].tolist()\n",
        "len(nodes_to_keep)"
      ]
    },
    {
      "cell_type": "markdown",
      "metadata": {
        "id": "ut7d34yTQNlm"
      },
      "source": [
        "### Generating the Edges of the Co-Author Network"
      ]
    },
    {
      "cell_type": "code",
      "execution_count": 15,
      "metadata": {
        "execution": {
          "iopub.execute_input": "2023-01-13T10:37:12.691494Z",
          "iopub.status.busy": "2023-01-13T10:37:12.691064Z",
          "iopub.status.idle": "2023-01-13T10:37:13.868294Z",
          "shell.execute_reply": "2023-01-13T10:37:13.866903Z",
          "shell.execute_reply.started": "2023-01-13T10:37:12.691452Z"
        },
        "id": "_wh66BeeQNlm",
        "trusted": true
      },
      "outputs": [
        {
          "data": {
            "text/plain": [
              "[('Montanari Andrea', 'Ricci-Tersenghi Federico', 2),\n",
              " ('Montanari Andrea', 'Semerjian Guilhem', 1),\n",
              " ('Ricci-Tersenghi Federico', 'Semerjian Guilhem', 1),\n",
              " ('Beygelzimer Alina', 'Langford John', 3),\n",
              " ('Mansour Yishay', 'Mohri Mehryar', 6),\n",
              " ('Mansour Yishay', 'Rostamizadeh Afshin', 1),\n",
              " ('Mohri Mehryar', 'Rostamizadeh Afshin', 2),\n",
              " ('Kuznetsov Sergei O.', 'Ignatov Dmitry I.', 1),\n",
              " ('Blume Lawrence', 'Easley David', 1),\n",
              " ('Blume Lawrence', 'Halpern Joseph Y.', 1)]"
            ]
          },
          "execution_count": 15,
          "metadata": {},
          "output_type": "execute_result"
        }
      ],
      "source": [
        "\n",
        "authors_pairs=data['author_pairs'].tolist()\n",
        "authors_edge_list=[item for sublist in authors_pairs for item in sublist]\n",
        "authors_weighted_edge_list=list(Counter(authors_edge_list).items())\n",
        "authors_weighted_edge_list=[(row[0][0],row[0][1],row[1]) for idx,row in enumerate(authors_weighted_edge_list)]\n",
        "authors_weighted_edge_list[0:10]"
      ]
    },
    {
      "cell_type": "markdown",
      "metadata": {
        "id": "Aj_vFRMDQNlm"
      },
      "source": [
        "### Creating the Graph on the Complete Data"
      ]
    },
    {
      "cell_type": "code",
      "execution_count": 16,
      "metadata": {
        "execution": {
          "iopub.execute_input": "2023-01-13T10:37:16.98755Z",
          "iopub.status.busy": "2023-01-13T10:37:16.9869Z",
          "iopub.status.idle": "2023-01-13T10:37:19.843453Z",
          "shell.execute_reply": "2023-01-13T10:37:19.842133Z",
          "shell.execute_reply.started": "2023-01-13T10:37:16.987485Z"
        },
        "id": "br-GmzAcQNlm",
        "trusted": true
      },
      "outputs": [
        {
          "name": "stdout",
          "output_type": "stream",
          "text": [
            "190398\n"
          ]
        }
      ],
      "source": [
        "G1=nx.Graph()\n",
        "G1.add_weighted_edges_from(authors_weighted_edge_list)\n",
        "print(len(G1.nodes()))"
      ]
    },
    {
      "cell_type": "markdown",
      "metadata": {
        "execution": {
          "iopub.execute_input": "2021-06-10T17:22:51.693185Z",
          "iopub.status.busy": "2021-06-10T17:22:51.692696Z",
          "iopub.status.idle": "2021-06-10T17:22:51.744902Z",
          "shell.execute_reply": "2021-06-10T17:22:51.744116Z",
          "shell.execute_reply.started": "2021-06-10T17:22:51.693141Z"
        },
        "id": "TJ6yvw0yQNlm"
      },
      "source": [
        "### Filtering the Graph, to keep nodes (authors) who have atleast published 3 papers. We will also remove any isolated nodes in the generated network"
      ]
    },
    {
      "cell_type": "code",
      "execution_count": 17,
      "metadata": {
        "execution": {
          "iopub.execute_input": "2023-01-13T10:37:22.044004Z",
          "iopub.status.busy": "2023-01-13T10:37:22.043603Z",
          "iopub.status.idle": "2023-01-13T10:37:25.886603Z",
          "shell.execute_reply": "2023-01-13T10:37:25.885527Z",
          "shell.execute_reply.started": "2023-01-13T10:37:22.043952Z"
        },
        "id": "Cs1ED0J-QNlm",
        "trusted": true
      },
      "outputs": [
        {
          "name": "stdout",
          "output_type": "stream",
          "text": [
            "45163\n"
          ]
        },
        {
          "data": {
            "text/plain": [
              "636"
            ]
          },
          "execution_count": 17,
          "metadata": {},
          "output_type": "execute_result"
        }
      ],
      "source": [
        "## From the complete Graph, create a subgraph, with only the nodes to keep\n",
        "sub_g=nx.subgraph(G1,nodes_to_keep)\n",
        "G=nx.Graph(sub_g)\n",
        "print(len(G.nodes()))\n",
        "isolated_node=nx.isolates(G)\n",
        "len(list(isolated_node))"
      ]
    },
    {
      "cell_type": "code",
      "execution_count": 18,
      "metadata": {
        "execution": {
          "iopub.execute_input": "2023-01-13T10:37:25.888579Z",
          "iopub.status.busy": "2023-01-13T10:37:25.88825Z",
          "iopub.status.idle": "2023-01-13T10:37:25.9306Z",
          "shell.execute_reply": "2023-01-13T10:37:25.929284Z",
          "shell.execute_reply.started": "2023-01-13T10:37:25.888546Z"
        },
        "id": "Y2Omm4EwQNlm",
        "trusted": true
      },
      "outputs": [
        {
          "data": {
            "text/plain": [
              "44527"
            ]
          },
          "execution_count": 18,
          "metadata": {},
          "output_type": "execute_result"
        }
      ],
      "source": [
        "G.remove_nodes_from(list(nx.isolates(G)))\n",
        "len(G.nodes)"
      ]
    },
    {
      "cell_type": "code",
      "execution_count": 19,
      "metadata": {
        "execution": {
          "iopub.execute_input": "2023-01-13T10:37:25.933434Z",
          "iopub.status.busy": "2023-01-13T10:37:25.932947Z",
          "iopub.status.idle": "2023-01-13T10:37:26.240662Z",
          "shell.execute_reply": "2023-01-13T10:37:26.239626Z",
          "shell.execute_reply.started": "2023-01-13T10:37:25.933373Z"
        },
        "id": "3_Y6lCqFQNlm",
        "trusted": true
      },
      "outputs": [],
      "source": [
        "del G1, sub_g"
      ]
    },
    {
      "cell_type": "code",
      "execution_count": 20,
      "metadata": {
        "execution": {
          "iopub.execute_input": "2023-01-13T10:37:26.242739Z",
          "iopub.status.busy": "2023-01-13T10:37:26.242213Z",
          "iopub.status.idle": "2023-01-13T10:37:26.276427Z",
          "shell.execute_reply": "2023-01-13T10:37:26.275415Z",
          "shell.execute_reply.started": "2023-01-13T10:37:26.242696Z"
        },
        "id": "IELN8oePQNlm",
        "trusted": true
      },
      "outputs": [
        {
          "name": "stdout",
          "output_type": "stream",
          "text": [
            "Number of Nodes in Author Graph  44527\n",
            "Number of Edges in AUthor Graph  458103\n"
          ]
        }
      ],
      "source": [
        "print(\"Number of Nodes in Author Graph \",len(G.nodes()))\n",
        "print(\"Number of Edges in AUthor Graph \",len(G.edges()))"
      ]
    },
    {
      "cell_type": "markdown",
      "metadata": {
        "id": "yu7qoBxUQNlm"
      },
      "source": [
        "## Implementing Deep Walk\n",
        "\n",
        "**Deep walk uses the concept of Random Walks to assign an embedding to each node in the network.**\n",
        "\n",
        "1. In Random Walk, given a node we pick one of its neighbours at random and move to this node and from this node again choose another node among its neighbours at random. This continues for a fixed number of steps.\n",
        "\n",
        "\n",
        "\n",
        "2. Once we have random walks generated for every node in the network, in DeepWalk the next step is to predict probability of visiting node \"v\" on a random walk starting from node \"u\".\n",
        "\n",
        "3. This is very similar to the Skip-Gram model used in Word2Vec Model in NLP, wherein we try to predict the neighbouring words given a particular target word.\n",
        "\n",
        "\n",
        "### Define Function for Random Walk\n"
      ]
    },
    {
      "cell_type": "code",
      "execution_count": 21,
      "metadata": {
        "execution": {
          "iopub.execute_input": "2023-01-13T10:37:53.462472Z",
          "iopub.status.busy": "2023-01-13T10:37:53.461601Z",
          "iopub.status.idle": "2023-01-13T10:37:53.470318Z",
          "shell.execute_reply": "2023-01-13T10:37:53.469111Z",
          "shell.execute_reply.started": "2023-01-13T10:37:53.462408Z"
        },
        "id": "DpvoocGqQNlm",
        "trusted": true
      },
      "outputs": [],
      "source": [
        "def getRandomWalk(graph,node,length_of_random_walk):\n",
        "    \"\"\" This function takes NetworkX Graph and a Node and generate random walk for a given length\n",
        "\n",
        "    Returns the random walk (list of nodes traversed)\n",
        "\n",
        "    Note: The same node may occcur more than once in a Random Walk.\n",
        "    \"\"\"\n",
        "    start_node=node\n",
        "    current_node=start_node\n",
        "    random_walk=[node]\n",
        "    for i in range(0,length_of_random_walk):\n",
        "        ## Choose a random neighbour of the current node\n",
        "\n",
        "        current_node_neighbours=list(graph.neighbors(current_node))\n",
        "        chosen_node=random.choice(current_node_neighbours)\n",
        "        current_node=chosen_node\n",
        "        random_walk.append(current_node)\n",
        "    return random_walk\n",
        "\n",
        "\n"
      ]
    },
    {
      "cell_type": "code",
      "execution_count": 22,
      "metadata": {
        "execution": {
          "iopub.execute_input": "2023-01-13T10:37:56.500821Z",
          "iopub.status.busy": "2023-01-13T10:37:56.500047Z",
          "iopub.status.idle": "2023-01-13T10:38:10.766506Z",
          "shell.execute_reply": "2023-01-13T10:38:10.765391Z",
          "shell.execute_reply.started": "2023-01-13T10:37:56.500758Z"
        },
        "id": "qgeoD7_zQNln",
        "tags": [],
        "trusted": true
      },
      "outputs": [
        {
          "data": {
            "application/vnd.jupyter.widget-view+json": {
              "model_id": "aa89e9ad9b284a44b1f5a56d36fd7716",
              "version_major": 2,
              "version_minor": 0
            },
            "text/plain": [
              "Iterating Nodes:   0%|          | 0/44527 [00:00<?, ?it/s]"
            ]
          },
          "metadata": {},
          "output_type": "display_data"
        }
      ],
      "source": [
        "### For every Node in the Graph, get randomwalks . For eahc node, let us get random walks say around 10 times each of path length 10\n",
        "num_sampling=10\n",
        "random_walks=[]\n",
        "length_of_random_walk=10\n",
        "for node in tqdm(G.nodes(),desc=\"Iterating Nodes\"):\n",
        "\n",
        "    for i in range(0,num_sampling):\n",
        "        random_walks.append(getRandomWalk(G,node,length_of_random_walk))\n",
        "\n",
        "\n"
      ]
    },
    {
      "cell_type": "markdown",
      "metadata": {
        "id": "22wTeXE2QNln"
      },
      "source": [
        "The data now is similar to list of words in a sentence and we can use gensim to create Node Embedding Model - here each author is a Node and Node is similar to word in a sentence"
      ]
    },
    {
      "cell_type": "code",
      "execution_count": 23,
      "metadata": {
        "execution": {
          "iopub.execute_input": "2023-01-13T10:45:01.972383Z",
          "iopub.status.busy": "2023-01-13T10:45:01.971942Z",
          "iopub.status.idle": "2023-01-13T10:49:55.092327Z",
          "shell.execute_reply": "2023-01-13T10:49:55.091348Z",
          "shell.execute_reply.started": "2023-01-13T10:45:01.97234Z"
        },
        "id": "HWNg86G7QNln",
        "trusted": true
      },
      "outputs": [],
      "source": [
        "deepwalk_model=Word2Vec(sentences=random_walks,window=5,sg=1,negative=5,\n",
        "                        vector_size=128,epochs=20,compute_loss=True)"
      ]
    },
    {
      "cell_type": "code",
      "execution_count": 24,
      "metadata": {
        "execution": {
          "iopub.execute_input": "2023-01-13T10:51:31.609546Z",
          "iopub.status.busy": "2023-01-13T10:51:31.609084Z",
          "iopub.status.idle": "2023-01-13T10:51:31.69651Z",
          "shell.execute_reply": "2023-01-13T10:51:31.694955Z",
          "shell.execute_reply.started": "2023-01-13T10:51:31.609504Z"
        },
        "id": "ky1MG8ZoQNln",
        "trusted": true
      },
      "outputs": [],
      "source": [
        "deepwalk_model.save(\"deepwalk_since2015.model\")"
      ]
    },
    {
      "cell_type": "markdown",
      "metadata": {
        "id": "7_MUjTv3QNln"
      },
      "source": [
        "## Lets Look who are similar authors"
      ]
    },
    {
      "cell_type": "code",
      "execution_count": 25,
      "metadata": {
        "execution": {
          "iopub.execute_input": "2023-01-13T10:51:33.870859Z",
          "iopub.status.busy": "2023-01-13T10:51:33.870471Z",
          "iopub.status.idle": "2023-01-13T10:51:33.881179Z",
          "shell.execute_reply": "2023-01-13T10:51:33.880006Z",
          "shell.execute_reply.started": "2023-01-13T10:51:33.870828Z"
        },
        "id": "LefCmuP_QNln",
        "trusted": true
      },
      "outputs": [],
      "source": [
        "def getSimilarNodes(model,node):\n",
        "    \"\"\"\n",
        "    This function takes deepwalk model and a node\n",
        "\n",
        "    Returns the top 10 nodes (author) similar to the given node\n",
        "    \"\"\"\n",
        "    similarity=model.wv.most_similar(node)\n",
        "    similar_nodes=pd.DataFrame()\n",
        "    similar_nodes['Similar_Node']=[row[0] for i,row in enumerate(similarity)]\n",
        "    similar_nodes['Similarity_Score']=[row[1] for i,row in enumerate(similarity)]\n",
        "    similar_nodes['Source_Node']=node\n",
        "    return similar_nodes\n",
        "\n"
      ]
    },
    {
      "cell_type": "code",
      "execution_count": 26,
      "metadata": {
        "execution": {
          "iopub.execute_input": "2023-01-13T10:53:03.738244Z",
          "iopub.status.busy": "2023-01-13T10:53:03.737722Z",
          "iopub.status.idle": "2023-01-13T10:53:03.794885Z",
          "shell.execute_reply": "2023-01-13T10:53:03.793203Z",
          "shell.execute_reply.started": "2023-01-13T10:53:03.738188Z"
        },
        "id": "K5rF-wNcQNln",
        "trusted": true
      },
      "outputs": [
        {
          "name": "stdout",
          "output_type": "stream",
          "text": [
            "CPU times: user 28.1 ms, sys: 3.2 ms, total: 31.3 ms\n",
            "Wall time: 16 ms\n"
          ]
        },
        {
          "data": {
            "text/html": [
              "<div>\n",
              "<style scoped>\n",
              "    .dataframe tbody tr th:only-of-type {\n",
              "        vertical-align: middle;\n",
              "    }\n",
              "\n",
              "    .dataframe tbody tr th {\n",
              "        vertical-align: top;\n",
              "    }\n",
              "\n",
              "    .dataframe thead th {\n",
              "        text-align: right;\n",
              "    }\n",
              "</style>\n",
              "<table border=\"1\" class=\"dataframe\">\n",
              "  <thead>\n",
              "    <tr style=\"text-align: right;\">\n",
              "      <th></th>\n",
              "      <th>Similar_Node</th>\n",
              "      <th>Similarity_Score</th>\n",
              "      <th>Source_Node</th>\n",
              "    </tr>\n",
              "  </thead>\n",
              "  <tbody>\n",
              "    <tr>\n",
              "      <th>0</th>\n",
              "      <td>Jo Jason</td>\n",
              "      <td>0.739033</td>\n",
              "      <td>Bengio Yoshua</td>\n",
              "    </tr>\n",
              "    <tr>\n",
              "      <th>1</th>\n",
              "      <td>Perreault-Levasseur Laurence</td>\n",
              "      <td>0.703841</td>\n",
              "      <td>Bengio Yoshua</td>\n",
              "    </tr>\n",
              "    <tr>\n",
              "      <th>2</th>\n",
              "      <td>Ernoult Maxence</td>\n",
              "      <td>0.689614</td>\n",
              "      <td>Bengio Yoshua</td>\n",
              "    </tr>\n",
              "    <tr>\n",
              "      <th>3</th>\n",
              "      <td>Grollier Julie</td>\n",
              "      <td>0.682731</td>\n",
              "      <td>Bengio Yoshua</td>\n",
              "    </tr>\n",
              "    <tr>\n",
              "      <th>4</th>\n",
              "      <td>Alsing Justin</td>\n",
              "      <td>0.674982</td>\n",
              "      <td>Bengio Yoshua</td>\n",
              "    </tr>\n",
              "    <tr>\n",
              "      <th>5</th>\n",
              "      <td>Hezaveh Yashar</td>\n",
              "      <td>0.664082</td>\n",
              "      <td>Bengio Yoshua</td>\n",
              "    </tr>\n",
              "    <tr>\n",
              "      <th>6</th>\n",
              "      <td>Smofsky Ariella</td>\n",
              "      <td>0.662390</td>\n",
              "      <td>Bengio Yoshua</td>\n",
              "    </tr>\n",
              "    <tr>\n",
              "      <th>7</th>\n",
              "      <td>Nakamura Keigo</td>\n",
              "      <td>0.659499</td>\n",
              "      <td>Bengio Yoshua</td>\n",
              "    </tr>\n",
              "    <tr>\n",
              "      <th>8</th>\n",
              "      <td>Hirtzlin Tifenn</td>\n",
              "      <td>0.655288</td>\n",
              "      <td>Bengio Yoshua</td>\n",
              "    </tr>\n",
              "    <tr>\n",
              "      <th>9</th>\n",
              "      <td>Kochmar Ekaterina</td>\n",
              "      <td>0.648047</td>\n",
              "      <td>Bengio Yoshua</td>\n",
              "    </tr>\n",
              "  </tbody>\n",
              "</table>\n",
              "</div>"
            ],
            "text/plain": [
              "                   Similar_Node  Similarity_Score    Source_Node\n",
              "0                      Jo Jason          0.739033  Bengio Yoshua\n",
              "1  Perreault-Levasseur Laurence          0.703841  Bengio Yoshua\n",
              "2               Ernoult Maxence          0.689614  Bengio Yoshua\n",
              "3                Grollier Julie          0.682731  Bengio Yoshua\n",
              "4                 Alsing Justin          0.674982  Bengio Yoshua\n",
              "5                Hezaveh Yashar          0.664082  Bengio Yoshua\n",
              "6               Smofsky Ariella          0.662390  Bengio Yoshua\n",
              "7                Nakamura Keigo          0.659499  Bengio Yoshua\n",
              "8               Hirtzlin Tifenn          0.655288  Bengio Yoshua\n",
              "9             Kochmar Ekaterina          0.648047  Bengio Yoshua"
            ]
          },
          "execution_count": 26,
          "metadata": {},
          "output_type": "execute_result"
        }
      ],
      "source": [
        "%%time\n",
        "getSimilarNodes(deepwalk_model,\"Bengio Yoshua\")"
      ]
    },
    {
      "cell_type": "markdown",
      "metadata": {
        "id": "sxD4Aq50QNln"
      },
      "source": [
        "The top 3 similar authors have recently published a paper **Scaling Equilibrium Propagation to Deep ConvNets by Drastically Reducing its Gradient Estimator Bias**. They have published lot of work together in the recent years.\n",
        "\n",
        "Jo Jason since 2019 has published 7 papers with Yoshua\n"
      ]
    },
    {
      "cell_type": "markdown",
      "metadata": {
        "id": "WXUbnUvSQNln"
      },
      "source": [
        "### Let us look at the CoAuthorship Network of the top popular Authors\n",
        "\n"
      ]
    },
    {
      "cell_type": "code",
      "execution_count": 27,
      "metadata": {
        "execution": {
          "iopub.execute_input": "2021-06-10T16:15:47.98702Z",
          "iopub.status.busy": "2021-06-10T16:15:47.986496Z",
          "iopub.status.idle": "2021-06-10T16:15:48.316839Z",
          "shell.execute_reply": "2021-06-10T16:15:48.315949Z",
          "shell.execute_reply.started": "2021-06-10T16:15:47.986987Z"
        },
        "id": "SzIsOaEeQNln",
        "trusted": true
      },
      "outputs": [
        {
          "data": {
            "text/html": [
              "<div>\n",
              "<style scoped>\n",
              "    .dataframe tbody tr th:only-of-type {\n",
              "        vertical-align: middle;\n",
              "    }\n",
              "\n",
              "    .dataframe tbody tr th {\n",
              "        vertical-align: top;\n",
              "    }\n",
              "\n",
              "    .dataframe thead th {\n",
              "        text-align: right;\n",
              "    }\n",
              "</style>\n",
              "<table border=\"1\" class=\"dataframe\">\n",
              "  <thead>\n",
              "    <tr style=\"text-align: right;\">\n",
              "      <th></th>\n",
              "      <th>authors</th>\n",
              "      <th>Number of Papers Published</th>\n",
              "    </tr>\n",
              "  </thead>\n",
              "  <tbody>\n",
              "    <tr>\n",
              "      <th>95905</th>\n",
              "      <td>Liu Yang</td>\n",
              "      <td>297</td>\n",
              "    </tr>\n",
              "    <tr>\n",
              "      <th>89082</th>\n",
              "      <td>Levine Sergey</td>\n",
              "      <td>292</td>\n",
              "    </tr>\n",
              "    <tr>\n",
              "      <th>12790</th>\n",
              "      <td>Bengio Yoshua</td>\n",
              "      <td>291</td>\n",
              "    </tr>\n",
              "    <tr>\n",
              "      <th>217</th>\n",
              "      <td>Abbeel Pieter</td>\n",
              "      <td>234</td>\n",
              "    </tr>\n",
              "    <tr>\n",
              "      <th>141882</th>\n",
              "      <td>Schölkopf Bernhard</td>\n",
              "      <td>211</td>\n",
              "    </tr>\n",
              "    <tr>\n",
              "      <th>...</th>\n",
              "      <td>...</td>\n",
              "      <td>...</td>\n",
              "    </tr>\n",
              "    <tr>\n",
              "      <th>78930</th>\n",
              "      <td>Kim Kyung-Jun</td>\n",
              "      <td>1</td>\n",
              "    </tr>\n",
              "    <tr>\n",
              "      <th>78928</th>\n",
              "      <td>Kim Kyung Geun</td>\n",
              "      <td>1</td>\n",
              "    </tr>\n",
              "    <tr>\n",
              "      <th>78927</th>\n",
              "      <td>Kim Kyung</td>\n",
              "      <td>1</td>\n",
              "    </tr>\n",
              "    <tr>\n",
              "      <th>78925</th>\n",
              "      <td>Kim Kyu Seok</td>\n",
              "      <td>1</td>\n",
              "    </tr>\n",
              "    <tr>\n",
              "      <th>192878</th>\n",
              "      <td>Žídek Augustin</td>\n",
              "      <td>1</td>\n",
              "    </tr>\n",
              "  </tbody>\n",
              "</table>\n",
              "<p>192879 rows × 2 columns</p>\n",
              "</div>"
            ],
            "text/plain": [
              "                   authors  Number of Papers Published\n",
              "95905             Liu Yang                         297\n",
              "89082        Levine Sergey                         292\n",
              "12790        Bengio Yoshua                         291\n",
              "217          Abbeel Pieter                         234\n",
              "141882  Schölkopf Bernhard                         211\n",
              "...                    ...                         ...\n",
              "78930        Kim Kyung-Jun                           1\n",
              "78928       Kim Kyung Geun                           1\n",
              "78927            Kim Kyung                           1\n",
              "78925         Kim Kyu Seok                           1\n",
              "192878      Žídek Augustin                           1\n",
              "\n",
              "[192879 rows x 2 columns]"
            ]
          },
          "execution_count": 27,
          "metadata": {},
          "output_type": "execute_result"
        }
      ],
      "source": [
        "ai_authors=pd.DataFrame(flattenList(data['authors'].tolist())).rename(columns={0:'authors'})\n",
        "papers_by_authors=ai_authors.groupby(['authors']).size().reset_index().rename(columns={0:'Number of Papers Published'}).sort_values(\"Number of Papers Published\",ascending=False)\n",
        "papers_by_authors"
      ]
    },
    {
      "cell_type": "markdown",
      "metadata": {
        "id": "jK22_cXOQNlr"
      },
      "source": [
        "Lets get the graph of these top  Authors with their first step neighbours.We consider the authors ranked 4th to 10th to help visualise the clusters better"
      ]
    },
    {
      "cell_type": "code",
      "execution_count": 28,
      "metadata": {
        "execution": {
          "iopub.execute_input": "2021-06-10T16:16:36.98426Z",
          "iopub.status.busy": "2021-06-10T16:16:36.983889Z",
          "iopub.status.idle": "2021-06-10T16:16:37.02823Z",
          "shell.execute_reply": "2021-06-10T16:16:37.027591Z",
          "shell.execute_reply.started": "2021-06-10T16:16:36.98422Z"
        },
        "id": "dLBN1lCwQNlr",
        "trusted": true
      },
      "outputs": [],
      "source": [
        "def getCoAuthorshipNetwork(graph,initial_nodes):\n",
        "    \"\"\"\n",
        "    This function takes a Graph and list of initial nodes\n",
        "\n",
        "    Returns the set of immediate neighbours of these nodes\n",
        "\n",
        "    \"\"\"\n",
        "    total_neighbours=0\n",
        "    nodes_set=[initial_nodes]\n",
        "    for node in initial_nodes:\n",
        "        #print(node)\n",
        "        neighbours=list(graph.neighbors(node))\n",
        "        total_neighbours=total_neighbours+len(neighbours)\n",
        "\n",
        "        nodes_set.append(neighbours)\n",
        "    print(total_neighbours)\n",
        "    nodes_set=flattenList(nodes_set)\n",
        "    return list(set(nodes_set))\n",
        "\n"
      ]
    },
    {
      "cell_type": "code",
      "execution_count": 29,
      "metadata": {
        "execution": {
          "iopub.execute_input": "2021-06-10T17:24:09.003098Z",
          "iopub.status.busy": "2021-06-10T17:24:09.002806Z",
          "iopub.status.idle": "2021-06-10T17:24:09.053981Z",
          "shell.execute_reply": "2021-06-10T17:24:09.053291Z",
          "shell.execute_reply.started": "2021-06-10T17:24:09.003073Z"
        },
        "id": "UUFKPDNGQNlr",
        "trusted": true
      },
      "outputs": [
        {
          "name": "stdout",
          "output_type": "stream",
          "text": [
            "2176\n",
            "Number of CoAuthor Nodes  2082\n"
          ]
        }
      ],
      "source": [
        "\n",
        "coauthor_nodes=getCoAuthorshipNetwork(G,papers_by_authors['authors'].tolist()[4:10])\n",
        "print(\"Number of CoAuthor Nodes \",len(coauthor_nodes))"
      ]
    },
    {
      "cell_type": "markdown",
      "metadata": {
        "id": "Df-uLz12QNlr"
      },
      "source": [
        "### Generate a Co-Author Graph from the complete Graph"
      ]
    },
    {
      "cell_type": "code",
      "execution_count": 30,
      "metadata": {
        "execution": {
          "iopub.execute_input": "2021-06-10T16:16:41.858684Z",
          "iopub.status.busy": "2021-06-10T16:16:41.858262Z",
          "iopub.status.idle": "2021-06-10T16:16:41.923992Z",
          "shell.execute_reply": "2021-06-10T16:16:41.923393Z",
          "shell.execute_reply.started": "2021-06-10T16:16:41.858657Z"
        },
        "id": "eIU4ur1vQNlr",
        "trusted": true
      },
      "outputs": [
        {
          "name": "stdout",
          "output_type": "stream",
          "text": [
            "number of edges in the CoAuthor Subgraph  28719\n"
          ]
        }
      ],
      "source": [
        "coauthor_subgraph=nx.subgraph(G,coauthor_nodes)\n",
        "print(\"number of edges in the CoAuthor Subgraph \",len(coauthor_subgraph.edges()))"
      ]
    },
    {
      "cell_type": "code",
      "execution_count": 31,
      "metadata": {
        "execution": {
          "iopub.execute_input": "2021-06-10T16:16:56.222197Z",
          "iopub.status.busy": "2021-06-10T16:16:56.221796Z",
          "iopub.status.idle": "2021-06-10T16:16:56.44852Z",
          "shell.execute_reply": "2021-06-10T16:16:56.447884Z",
          "shell.execute_reply.started": "2021-06-10T16:16:56.222171Z"
        },
        "id": "Wp6rpL75QNlr",
        "trusted": true
      },
      "outputs": [],
      "source": [
        "nx.write_gexf(coauthor_subgraph, \"CoAuthor_Subgraph_Author4to10.gexf\")"
      ]
    },
    {
      "cell_type": "code",
      "execution_count": 32,
      "metadata": {
        "execution": {
          "iopub.execute_input": "2021-06-10T17:24:39.008143Z",
          "iopub.status.busy": "2021-06-10T17:24:39.007546Z",
          "iopub.status.idle": "2021-06-10T17:24:39.09423Z",
          "shell.execute_reply": "2021-06-10T17:24:39.093316Z",
          "shell.execute_reply.started": "2021-06-10T17:24:39.008109Z"
        },
        "id": "JhpDboG0QNlr",
        "trusted": true
      },
      "outputs": [
        {
          "name": "stdout",
          "output_type": "stream",
          "text": [
            "number of edges in the CoAuthor Subgraph  28719\n"
          ]
        }
      ],
      "source": [
        "#coauthor_subgraph=nx.read_gexf(\"CoAuthor_Subgraph_Top50Author.gexf\")\n",
        "print(\"number of edges in the CoAuthor Subgraph \",len(coauthor_subgraph.edges()))"
      ]
    },
    {
      "cell_type": "markdown",
      "metadata": {
        "id": "ejiKalAmQNlr"
      },
      "source": [
        "### Visualise the generated network"
      ]
    },
    {
      "cell_type": "code",
      "execution_count": 33,
      "metadata": {
        "execution": {
          "iopub.execute_input": "2021-06-10T16:17:06.015327Z",
          "iopub.status.busy": "2021-06-10T16:17:06.01488Z",
          "iopub.status.idle": "2021-06-10T16:17:08.020912Z",
          "shell.execute_reply": "2021-06-10T16:17:08.02002Z",
          "shell.execute_reply.started": "2021-06-10T16:17:06.015282Z"
        },
        "id": "_XHQDQ0WQNlr",
        "trusted": true
      },
      "outputs": [
        {
          "name": "stdout",
          "output_type": "stream",
          "text": [
            "Warning: When  cdn_resources is 'local' jupyter notebook has issues displaying graphics on chrome/safari. Use cdn_resources='in_line' or cdn_resources='remote' if you have issues viewing graphics in a notebook.\n",
            "Creating PyVis from NetworkX\n",
            "Saving PyVis Graph\n",
            "Author4to10_CoAuthorGraph.html\n"
          ]
        },
        {
          "data": {
            "text/html": [
              "\n",
              "        <iframe\n",
              "            width=\"100%\"\n",
              "            height=\"800px\"\n",
              "            src=\"Author4to10_CoAuthorGraph.html\"\n",
              "            frameborder=\"0\"\n",
              "            allowfullscreen\n",
              "            \n",
              "        ></iframe>\n",
              "        "
            ],
            "text/plain": [
              "<IPython.lib.display.IFrame at 0x2ba2cf940>"
            ]
          },
          "execution_count": 33,
          "metadata": {},
          "output_type": "execute_result"
        }
      ],
      "source": [
        "pyvis_nt=Network(notebook=True,height='800px', width='100%',heading='')\n",
        "\n",
        "print(\"Creating PyVis from NetworkX\")\n",
        "pyvis_nt.from_nx(coauthor_subgraph)\n",
        "\n",
        "print(\"Saving PyVis Graph\")\n",
        "pyvis_nt.show(\"Author4to10_CoAuthorGraph.html\")\n",
        "\n"
      ]
    },
    {
      "cell_type": "markdown",
      "metadata": {
        "id": "ADgdV8-sQNlr"
      },
      "source": [
        "We can see some clusters already. Lets see if embeddings is able to seperate these clusters\n",
        "### Cluster the Nodes - based on Embeddings\n",
        "\n",
        "Idea is to see if similar nodes belong to the same cluster."
      ]
    },
    {
      "cell_type": "code",
      "execution_count": 34,
      "metadata": {
        "execution": {
          "iopub.execute_input": "2021-06-10T17:25:02.924718Z",
          "iopub.status.busy": "2021-06-10T17:25:02.924423Z",
          "iopub.status.idle": "2021-06-10T17:25:02.966959Z",
          "shell.execute_reply": "2021-06-10T17:25:02.966093Z",
          "shell.execute_reply.started": "2021-06-10T17:25:02.924693Z"
        },
        "id": "P-3FboCpQNlr",
        "trusted": true
      },
      "outputs": [],
      "source": [
        "def getCosineDistanceMatrix(vectors):\n",
        "    '''\n",
        "    This function takes list of vectors or numpy array\n",
        "\n",
        "    Returns the pairwise cosine similarity matrix\n",
        "    '''\n",
        "    if type(vectors)==list:\n",
        "        X=np.asarray(vectors)\n",
        "    elif type(vectors)==np.ndarray:\n",
        "        X=vectors\n",
        "    else:\n",
        "        print(\"Error in Data Type . Need to Pass list or numpy array as input argument\")\n",
        "        return []\n",
        "    cosine_dist=cosine_distances(X)\n",
        "    return cosine_dist\n"
      ]
    },
    {
      "cell_type": "code",
      "execution_count": 35,
      "metadata": {
        "execution": {
          "iopub.execute_input": "2021-06-10T16:18:51.603225Z",
          "iopub.status.busy": "2021-06-10T16:18:51.602891Z",
          "iopub.status.idle": "2021-06-10T16:18:51.646849Z",
          "shell.execute_reply": "2021-06-10T16:18:51.645974Z",
          "shell.execute_reply.started": "2021-06-10T16:18:51.603182Z"
        },
        "id": "BoqRtzCcQNlr",
        "trusted": true
      },
      "outputs": [
        {
          "name": "stdout",
          "output_type": "stream",
          "text": [
            "Number of CoAuthor Subgraph Nodes 2082\n"
          ]
        }
      ],
      "source": [
        "coauthor_nodes=list(coauthor_subgraph.nodes)\n",
        "print(\"Number of CoAuthor Subgraph Nodes\",len(coauthor_nodes))"
      ]
    },
    {
      "cell_type": "code",
      "execution_count": 36,
      "metadata": {
        "execution": {
          "iopub.execute_input": "2021-06-10T16:18:59.547913Z",
          "iopub.status.busy": "2021-06-10T16:18:59.547592Z",
          "iopub.status.idle": "2021-06-10T16:18:59.592644Z",
          "shell.execute_reply": "2021-06-10T16:18:59.591744Z",
          "shell.execute_reply.started": "2021-06-10T16:18:59.547885Z"
        },
        "id": "_avB1cP8QNlr",
        "trusted": true
      },
      "outputs": [],
      "source": [
        "coauthor_embeddings=[deepwalk_model.wv[node] for node in coauthor_nodes]"
      ]
    },
    {
      "cell_type": "code",
      "execution_count": 37,
      "metadata": {
        "execution": {
          "iopub.execute_input": "2021-06-10T16:19:00.426769Z",
          "iopub.status.busy": "2021-06-10T16:19:00.426487Z",
          "iopub.status.idle": "2021-06-10T16:19:00.46783Z",
          "shell.execute_reply": "2021-06-10T16:19:00.46686Z",
          "shell.execute_reply.started": "2021-06-10T16:19:00.426745Z"
        },
        "id": "MeKYkHLTQNlr",
        "trusted": true
      },
      "outputs": [
        {
          "name": "stdout",
          "output_type": "stream",
          "text": [
            "(2082, 128)\n"
          ]
        }
      ],
      "source": [
        "coauthor_embeddings=np.asarray(coauthor_embeddings)\n",
        "\n",
        "print(coauthor_embeddings.shape)"
      ]
    },
    {
      "cell_type": "code",
      "execution_count": 38,
      "metadata": {
        "execution": {
          "iopub.execute_input": "2021-06-10T17:25:09.59207Z",
          "iopub.status.busy": "2021-06-10T17:25:09.591781Z",
          "iopub.status.idle": "2021-06-10T17:25:09.639091Z",
          "shell.execute_reply": "2021-06-10T17:25:09.637454Z",
          "shell.execute_reply.started": "2021-06-10T17:25:09.592045Z"
        },
        "id": "8QBhkhgUQNls",
        "trusted": true
      },
      "outputs": [],
      "source": [
        "cosine_dist=getCosineDistanceMatrix(coauthor_embeddings)\n"
      ]
    },
    {
      "cell_type": "markdown",
      "metadata": {
        "id": "YcQvBpkVQNls"
      },
      "source": [
        "### APply K-Means tp select the optimal number of clusters"
      ]
    },
    {
      "cell_type": "code",
      "execution_count": 39,
      "metadata": {
        "execution": {
          "iopub.execute_input": "2021-06-10T17:25:28.527716Z",
          "iopub.status.busy": "2021-06-10T17:25:28.527408Z",
          "iopub.status.idle": "2021-06-10T17:25:56.085718Z",
          "shell.execute_reply": "2021-06-10T17:25:56.084588Z",
          "shell.execute_reply.started": "2021-06-10T17:25:28.527679Z"
        },
        "id": "e_l1VqDVQNls",
        "trusted": true
      },
      "outputs": [],
      "source": [
        "sse=[]\n",
        "k_list=[]\n",
        "for k in range(2,20):\n",
        "\n",
        "    km=KMeans(n_clusters=k)\n",
        "    km.fit(cosine_dist)\n",
        "    sse.append(km.inertia_)\n",
        "\n",
        "\n"
      ]
    },
    {
      "cell_type": "code",
      "execution_count": 40,
      "metadata": {
        "execution": {
          "iopub.execute_input": "2021-06-10T17:25:56.093902Z",
          "iopub.status.busy": "2021-06-10T17:25:56.093424Z",
          "iopub.status.idle": "2021-06-10T17:25:56.318367Z",
          "shell.execute_reply": "2021-06-10T17:25:56.317406Z",
          "shell.execute_reply.started": "2021-06-10T17:25:56.093858Z"
        },
        "id": "4kRxe8UDQNls",
        "trusted": true
      },
      "outputs": [
        {
          "data": {
            "text/plain": [
              "[<matplotlib.lines.Line2D at 0x2e6373c40>]"
            ]
          },
          "execution_count": 40,
          "metadata": {},
          "output_type": "execute_result"
        },
        {
          "data": {
            "image/png": "[encoded data removed]",
            "text/plain": [
              "<Figure size 1200x600 with 1 Axes>"
            ]
          },
          "metadata": {},
          "output_type": "display_data"
        }
      ],
      "source": [
        "plt.figure(figsize=(12,6))\n",
        "plt.plot([i for i in range(2,20)],sse)\n"
      ]
    },
    {
      "cell_type": "markdown",
      "metadata": {
        "id": "-KtFt2tYQNls"
      },
      "source": [
        "Lets pick 7 clusters and update Node Attribute of the coAuthor Subgraph"
      ]
    },
    {
      "cell_type": "code",
      "execution_count": 41,
      "metadata": {
        "execution": {
          "iopub.execute_input": "2021-06-10T17:25:56.320081Z",
          "iopub.status.busy": "2021-06-10T17:25:56.319805Z",
          "iopub.status.idle": "2021-06-10T17:25:57.515141Z",
          "shell.execute_reply": "2021-06-10T17:25:57.513841Z",
          "shell.execute_reply.started": "2021-06-10T17:25:56.320053Z"
        },
        "id": "N6OUn4vKQNls",
        "trusted": true
      },
      "outputs": [],
      "source": [
        "km=KMeans(n_clusters=7)\n",
        "coauthor_clusters=km.fit_predict(cosine_dist)\n",
        "coauthor_cluster_dict={node:str(coauthor_clusters[idx]) for idx,node in enumerate(coauthor_nodes)}\n",
        "nx.set_node_attributes(coauthor_subgraph,coauthor_cluster_dict,\"group\")"
      ]
    },
    {
      "cell_type": "code",
      "execution_count": 42,
      "metadata": {
        "execution": {
          "iopub.execute_input": "2021-06-10T17:41:31.702569Z",
          "iopub.status.busy": "2021-06-10T17:41:31.7022Z",
          "iopub.status.idle": "2021-06-10T17:41:33.730426Z",
          "shell.execute_reply": "2021-06-10T17:41:33.729467Z",
          "shell.execute_reply.started": "2021-06-10T17:41:31.702535Z"
        },
        "id": "u1CNhHlNQNls",
        "trusted": true
      },
      "outputs": [
        {
          "name": "stdout",
          "output_type": "stream",
          "text": [
            "Warning: When  cdn_resources is 'local' jupyter notebook has issues displaying graphics on chrome/safari. Use cdn_resources='in_line' or cdn_resources='remote' if you have issues viewing graphics in a notebook.\n",
            "Creating PyVis from NetworkX\n",
            "Saving PyVis Graph\n",
            "Author4to10_CoAuthorGraph_Clustered.html\n"
          ]
        },
        {
          "data": {
            "text/html": [
              "\n",
              "        <iframe\n",
              "            width=\"100%\"\n",
              "            height=\"600px\"\n",
              "            src=\"Author4to10_CoAuthorGraph_Clustered.html\"\n",
              "            frameborder=\"0\"\n",
              "            allowfullscreen\n",
              "            \n",
              "        ></iframe>\n",
              "        "
            ],
            "text/plain": [
              "<IPython.lib.display.IFrame at 0x2c2bc7ac0>"
            ]
          },
          "execution_count": 42,
          "metadata": {},
          "output_type": "execute_result"
        }
      ],
      "source": [
        "pyvis_nt=Network(notebook=True,height='600px', width='100%',heading='Author Network')\n",
        "\n",
        "print(\"Creating PyVis from NetworkX\")\n",
        "pyvis_nt.from_nx(coauthor_subgraph)\n",
        "pyvis_nt.toggle_physics(True)\n",
        "print(\"Saving PyVis Graph\")\n",
        "#pyvis_nt.show_buttons()\n",
        "#pyvis_nt.set_options('var options = {\"edges\": { \"color\": { \"inherit\": true },\"smooth\": false},\"physics\": {\"hierarchicalRepulsion\": { \"centralGravity\": 0 },\"minVelocity\": 0.75, \"solver\": \"hierarchicalRepulsion\",\"timestep\": 0.18}}')\n",
        "\n",
        "\n",
        "pyvis_nt.show(\"Author4to10_CoAuthorGraph_Clustered.html\")\n"
      ]
    },
    {
      "cell_type": "markdown",
      "metadata": {
        "id": "Ado70jP2QNls"
      },
      "source": [
        "We can see that the embeddings has done a pretty good job at clustering the network.\n",
        "\n",
        "### Visualising Bengio Yoshuas Network"
      ]
    },
    {
      "cell_type": "code",
      "execution_count": 43,
      "metadata": {
        "execution": {
          "iopub.execute_input": "2021-06-10T16:31:03.552573Z",
          "iopub.status.busy": "2021-06-10T16:31:03.552256Z",
          "iopub.status.idle": "2021-06-10T16:31:03.605299Z",
          "shell.execute_reply": "2021-06-10T16:31:03.604045Z",
          "shell.execute_reply.started": "2021-06-10T16:31:03.55254Z"
        },
        "id": "l7JQX_DcQNls",
        "trusted": true
      },
      "outputs": [
        {
          "name": "stdout",
          "output_type": "stream",
          "text": [
            "530\n",
            "Number of Nodes in Bengio Network  531\n",
            "Number of Edges in Bengio Network  4048\n"
          ]
        }
      ],
      "source": [
        "bengio_nodes=getCoAuthorshipNetwork(G,['Bengio Yoshua'])\n",
        "bengio_network=nx.subgraph(G,bengio_nodes)\n",
        "print(\"Number of Nodes in Bengio Network \",len(bengio_network.nodes()))\n",
        "print(\"Number of Edges in Bengio Network \",len(bengio_network.edges()))"
      ]
    },
    {
      "cell_type": "code",
      "execution_count": 44,
      "metadata": {
        "execution": {
          "iopub.execute_input": "2021-06-10T16:47:42.59105Z",
          "iopub.status.busy": "2021-06-10T16:47:42.590707Z",
          "iopub.status.idle": "2021-06-10T16:47:43.021468Z",
          "shell.execute_reply": "2021-06-10T16:47:43.020568Z",
          "shell.execute_reply.started": "2021-06-10T16:47:42.591018Z"
        },
        "id": "ep6iN4ruQNls",
        "trusted": true
      },
      "outputs": [
        {
          "name": "stdout",
          "output_type": "stream",
          "text": [
            "Warning: When  cdn_resources is 'local' jupyter notebook has issues displaying graphics on chrome/safari. Use cdn_resources='in_line' or cdn_resources='remote' if you have issues viewing graphics in a notebook.\n",
            "Creating PyVis from NetworkX\n",
            "Saving PyVis Graph\n",
            "Bengio_CoAuthorGraph.html\n"
          ]
        },
        {
          "data": {
            "text/html": [
              "\n",
              "        <iframe\n",
              "            width=\"100%\"\n",
              "            height=\"800px\"\n",
              "            src=\"Bengio_CoAuthorGraph.html\"\n",
              "            frameborder=\"0\"\n",
              "            allowfullscreen\n",
              "            \n",
              "        ></iframe>\n",
              "        "
            ],
            "text/plain": [
              "<IPython.lib.display.IFrame at 0x2ba2b6d10>"
            ]
          },
          "execution_count": 44,
          "metadata": {},
          "output_type": "execute_result"
        }
      ],
      "source": [
        "bengio_nt=Network(notebook=True,height='800px', width='100%',heading='Bengio Network')\n",
        "\n",
        "print(\"Creating PyVis from NetworkX\")\n",
        "bengio_nt.from_nx(bengio_network)\n",
        "bengio_nt.toggle_physics(True)\n",
        "#bengio_nt.enable_physics(True)\n",
        "print(\"Saving PyVis Graph\")\n",
        "\n",
        "bengio_nt.show_buttons()\n",
        "bengio_nt.show(\"Bengio_CoAuthorGraph.html\")"
      ]
    },
    {
      "cell_type": "code",
      "execution_count": null,
      "metadata": {
        "id": "C6OkWyd4QNls"
      },
      "outputs": [],
      "source": []
    }
  ],
  "metadata": {
    "accelerator": "GPU",
    "colab": {
      "gpuType": "T4",
      "name": "CoAuthor Network Analysis Using Graph Embeddings ",
      "provenance": []
    },
    "kernelspec": {
      "display_name": "Python 3",
      "name": "python3"
    },
    "language_info": {
      "codemirror_mode": {
        "name": "ipython",
        "version": 3
      },
      "file_extension": ".py",
      "mimetype": "text/x-python",
      "name": "python",
      "nbconvert_exporter": "python",
      "pygments_lexer": "ipython3",
      "version": "3.10.13"
    }
  },
  "nbformat": 4,
  "nbformat_minor": 0
}
